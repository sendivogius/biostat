{
 "cells": [
  {
   "cell_type": "code",
   "execution_count": 1,
   "metadata": {},
   "outputs": [],
   "source": [
    "import pandas as pd\n",
    "import seaborn as sns\n",
    "from scipy.stats import norm, binom, poisson, zscore, randint, t, chi2\n",
    "import scipy.special\n",
    "import numpy as np\n",
    "import janitor\n",
    "import matplotlib.pyplot as plt\n",
    "import string"
   ]
  },
  {
   "cell_type": "code",
   "execution_count": 2,
   "metadata": {},
   "outputs": [],
   "source": [
    "pd.set_option(\"display.max_columns\", 100)"
   ]
  },
  {
   "cell_type": "markdown",
   "metadata": {},
   "source": [
    "## Gastroenterology"
   ]
  },
  {
   "cell_type": "markdown",
   "metadata": {},
   "source": [
    "### 6.1"
   ]
  },
  {
   "cell_type": "code",
   "execution_count": 3,
   "metadata": {},
   "outputs": [],
   "source": [
    "random_str = \"6964437198000289819571011\"[:20]\n",
    "assignment = list(map(lambda x: int(x) %  2, random_str))"
   ]
  },
  {
   "cell_type": "markdown",
   "metadata": {},
   "source": [
    "### 6.2"
   ]
  },
  {
   "cell_type": "code",
   "execution_count": 4,
   "metadata": {},
   "outputs": [
    {
     "data": {
      "text/plain": [
       "9"
      ]
     },
     "execution_count": 4,
     "metadata": {},
     "output_type": "execute_result"
    }
   ],
   "source": [
    "sum(assignment)"
   ]
  },
  {
   "cell_type": "markdown",
   "metadata": {},
   "source": [
    "Expected is 10/10"
   ]
  },
  {
   "cell_type": "markdown",
   "metadata": {},
   "source": [
    "### 6.3"
   ]
  },
  {
   "cell_type": "code",
   "execution_count": 5,
   "metadata": {},
   "outputs": [],
   "source": [
    "assignments = randint.rvs(0, 4, size=40)"
   ]
  },
  {
   "cell_type": "code",
   "execution_count": 6,
   "metadata": {},
   "outputs": [
    {
     "data": {
      "text/plain": [
       "(array([0, 1, 2, 3]), array([11, 10, 12,  7], dtype=int64))"
      ]
     },
     "execution_count": 6,
     "metadata": {},
     "output_type": "execute_result"
    }
   ],
   "source": [
    "np.unique(assignments, return_counts=True)"
   ]
  },
  {
   "cell_type": "markdown",
   "metadata": {},
   "source": [
    "### 6.4"
   ]
  },
  {
   "cell_type": "markdown",
   "metadata": {},
   "source": [
    "Expected is 10/10/10/10"
   ]
  },
  {
   "cell_type": "markdown",
   "metadata": {},
   "source": [
    "## Pulmonary Disease"
   ]
  },
  {
   "cell_type": "code",
   "execution_count": 7,
   "metadata": {},
   "outputs": [
    {
     "data": {
      "text/html": [
       "<div>\n",
       "<style scoped>\n",
       "    .dataframe tbody tr th:only-of-type {\n",
       "        vertical-align: middle;\n",
       "    }\n",
       "\n",
       "    .dataframe tbody tr th {\n",
       "        vertical-align: top;\n",
       "    }\n",
       "\n",
       "    .dataframe thead th {\n",
       "        text-align: right;\n",
       "    }\n",
       "</style>\n",
       "<table border=\"1\" class=\"dataframe\">\n",
       "  <thead>\n",
       "    <tr style=\"text-align: right;\">\n",
       "      <th></th>\n",
       "      <th>mean</th>\n",
       "      <th>sd</th>\n",
       "      <th>n</th>\n",
       "    </tr>\n",
       "  </thead>\n",
       "  <tbody>\n",
       "    <tr>\n",
       "      <th>normal</th>\n",
       "      <td>1.35</td>\n",
       "      <td>0.5</td>\n",
       "      <td>40</td>\n",
       "    </tr>\n",
       "    <tr>\n",
       "      <th>cal</th>\n",
       "      <td>0.92</td>\n",
       "      <td>0.4</td>\n",
       "      <td>32</td>\n",
       "    </tr>\n",
       "  </tbody>\n",
       "</table>\n",
       "</div>"
      ],
      "text/plain": [
       "        mean   sd   n\n",
       "normal  1.35  0.5  40\n",
       "cal     0.92  0.4  32"
      ]
     },
     "execution_count": 7,
     "metadata": {},
     "output_type": "execute_result"
    }
   ],
   "source": [
    "df = pd.DataFrame({'mean': [1.35, 0.92], 'sd': [0.5, 0.4], 'n': [40, 32]}, index=['normal', 'cal'])\n",
    "df"
   ]
  },
  {
   "cell_type": "markdown",
   "metadata": {},
   "source": [
    "### 6.5"
   ]
  },
  {
   "cell_type": "code",
   "execution_count": 8,
   "metadata": {},
   "outputs": [],
   "source": [
    "df['se'] = df['sd']/np.sqrt(df['n'])"
   ]
  },
  {
   "cell_type": "code",
   "execution_count": 9,
   "metadata": {},
   "outputs": [
    {
     "data": {
      "text/html": [
       "<div>\n",
       "<style scoped>\n",
       "    .dataframe tbody tr th:only-of-type {\n",
       "        vertical-align: middle;\n",
       "    }\n",
       "\n",
       "    .dataframe tbody tr th {\n",
       "        vertical-align: top;\n",
       "    }\n",
       "\n",
       "    .dataframe thead th {\n",
       "        text-align: right;\n",
       "    }\n",
       "</style>\n",
       "<table border=\"1\" class=\"dataframe\">\n",
       "  <thead>\n",
       "    <tr style=\"text-align: right;\">\n",
       "      <th></th>\n",
       "      <th>mean</th>\n",
       "      <th>sd</th>\n",
       "      <th>n</th>\n",
       "      <th>se</th>\n",
       "    </tr>\n",
       "  </thead>\n",
       "  <tbody>\n",
       "    <tr>\n",
       "      <th>normal</th>\n",
       "      <td>1.35</td>\n",
       "      <td>0.5</td>\n",
       "      <td>40</td>\n",
       "      <td>0.079057</td>\n",
       "    </tr>\n",
       "    <tr>\n",
       "      <th>cal</th>\n",
       "      <td>0.92</td>\n",
       "      <td>0.4</td>\n",
       "      <td>32</td>\n",
       "      <td>0.070711</td>\n",
       "    </tr>\n",
       "  </tbody>\n",
       "</table>\n",
       "</div>"
      ],
      "text/plain": [
       "        mean   sd   n        se\n",
       "normal  1.35  0.5  40  0.079057\n",
       "cal     0.92  0.4  32  0.070711"
      ]
     },
     "execution_count": 9,
     "metadata": {},
     "output_type": "execute_result"
    }
   ],
   "source": [
    "df"
   ]
  },
  {
   "cell_type": "markdown",
   "metadata": {},
   "source": [
    "### 6.6"
   ]
  },
  {
   "cell_type": "markdown",
   "metadata": {},
   "source": [
    "It means that estimate for mean has error of 0.079/0.071,"
   ]
  },
  {
   "cell_type": "markdown",
   "metadata": {},
   "source": [
    "### 6.7"
   ]
  },
  {
   "cell_type": "code",
   "execution_count": 10,
   "metadata": {},
   "outputs": [
    {
     "data": {
      "text/plain": [
       "2.583487185267472"
      ]
     },
     "execution_count": 10,
     "metadata": {},
     "output_type": "execute_result"
    }
   ],
   "source": [
    "t.ppf(0.99, df=16)"
   ]
  },
  {
   "cell_type": "markdown",
   "metadata": {},
   "source": [
    "#### 6.8"
   ]
  },
  {
   "cell_type": "code",
   "execution_count": 11,
   "metadata": {},
   "outputs": [
    {
     "data": {
      "text/plain": [
       "-1.3125267841551713"
      ]
     },
     "execution_count": 11,
     "metadata": {},
     "output_type": "execute_result"
    }
   ],
   "source": [
    "t.ppf(0.1, df=28)"
   ]
  },
  {
   "cell_type": "markdown",
   "metadata": {},
   "source": [
    "#### 6.9"
   ]
  },
  {
   "cell_type": "code",
   "execution_count": 12,
   "metadata": {},
   "outputs": [
    {
     "data": {
      "text/plain": [
       "2.3646242510102993"
      ]
     },
     "execution_count": 12,
     "metadata": {},
     "output_type": "execute_result"
    }
   ],
   "source": [
    "t.ppf(1-0.025, df=7)"
   ]
  },
  {
   "cell_type": "markdown",
   "metadata": {},
   "source": [
    "#### 6.10"
   ]
  },
  {
   "cell_type": "code",
   "execution_count": 13,
   "metadata": {},
   "outputs": [
    {
     "data": {
      "text/plain": [
       "array([0.05063562, 7.37775891])"
      ]
     },
     "execution_count": 13,
     "metadata": {},
     "output_type": "execute_result"
    }
   ],
   "source": [
    "chi2.ppf([0.025, 1-0.025], df=2)"
   ]
  },
  {
   "cell_type": "markdown",
   "metadata": {},
   "source": [
    "#### 6.11"
   ]
  },
  {
   "cell_type": "code",
   "execution_count": 14,
   "metadata": {
    "scrolled": false
   },
   "outputs": [
    {
     "data": {
      "text/html": [
       "<div>\n",
       "<style scoped>\n",
       "    .dataframe tbody tr th:only-of-type {\n",
       "        vertical-align: middle;\n",
       "    }\n",
       "\n",
       "    .dataframe tbody tr th {\n",
       "        vertical-align: top;\n",
       "    }\n",
       "\n",
       "    .dataframe thead th {\n",
       "        text-align: right;\n",
       "    }\n",
       "</style>\n",
       "<table border=\"1\" class=\"dataframe\">\n",
       "  <thead>\n",
       "    <tr style=\"text-align: right;\">\n",
       "      <th></th>\n",
       "      <th>dur_stay</th>\n",
       "      <th>age</th>\n",
       "      <th>sex</th>\n",
       "      <th>temp</th>\n",
       "      <th>wbc</th>\n",
       "      <th>antibio</th>\n",
       "      <th>bact_cul</th>\n",
       "      <th>service</th>\n",
       "    </tr>\n",
       "    <tr>\n",
       "      <th>id</th>\n",
       "      <th></th>\n",
       "      <th></th>\n",
       "      <th></th>\n",
       "      <th></th>\n",
       "      <th></th>\n",
       "      <th></th>\n",
       "      <th></th>\n",
       "      <th></th>\n",
       "    </tr>\n",
       "  </thead>\n",
       "  <tbody>\n",
       "    <tr>\n",
       "      <th>1</th>\n",
       "      <td>5</td>\n",
       "      <td>30</td>\n",
       "      <td>2</td>\n",
       "      <td>99.0</td>\n",
       "      <td>8</td>\n",
       "      <td>2</td>\n",
       "      <td>2</td>\n",
       "      <td>1</td>\n",
       "    </tr>\n",
       "    <tr>\n",
       "      <th>2</th>\n",
       "      <td>10</td>\n",
       "      <td>73</td>\n",
       "      <td>2</td>\n",
       "      <td>98.0</td>\n",
       "      <td>5</td>\n",
       "      <td>2</td>\n",
       "      <td>1</td>\n",
       "      <td>1</td>\n",
       "    </tr>\n",
       "    <tr>\n",
       "      <th>3</th>\n",
       "      <td>6</td>\n",
       "      <td>40</td>\n",
       "      <td>2</td>\n",
       "      <td>99.0</td>\n",
       "      <td>12</td>\n",
       "      <td>2</td>\n",
       "      <td>2</td>\n",
       "      <td>2</td>\n",
       "    </tr>\n",
       "    <tr>\n",
       "      <th>4</th>\n",
       "      <td>11</td>\n",
       "      <td>47</td>\n",
       "      <td>2</td>\n",
       "      <td>98.2</td>\n",
       "      <td>4</td>\n",
       "      <td>2</td>\n",
       "      <td>2</td>\n",
       "      <td>2</td>\n",
       "    </tr>\n",
       "    <tr>\n",
       "      <th>5</th>\n",
       "      <td>5</td>\n",
       "      <td>25</td>\n",
       "      <td>2</td>\n",
       "      <td>98.5</td>\n",
       "      <td>11</td>\n",
       "      <td>2</td>\n",
       "      <td>2</td>\n",
       "      <td>2</td>\n",
       "    </tr>\n",
       "    <tr>\n",
       "      <th>6</th>\n",
       "      <td>14</td>\n",
       "      <td>82</td>\n",
       "      <td>1</td>\n",
       "      <td>96.8</td>\n",
       "      <td>6</td>\n",
       "      <td>1</td>\n",
       "      <td>2</td>\n",
       "      <td>2</td>\n",
       "    </tr>\n",
       "    <tr>\n",
       "      <th>7</th>\n",
       "      <td>30</td>\n",
       "      <td>60</td>\n",
       "      <td>1</td>\n",
       "      <td>99.5</td>\n",
       "      <td>8</td>\n",
       "      <td>1</td>\n",
       "      <td>1</td>\n",
       "      <td>1</td>\n",
       "    </tr>\n",
       "    <tr>\n",
       "      <th>8</th>\n",
       "      <td>11</td>\n",
       "      <td>56</td>\n",
       "      <td>2</td>\n",
       "      <td>98.6</td>\n",
       "      <td>7</td>\n",
       "      <td>2</td>\n",
       "      <td>2</td>\n",
       "      <td>1</td>\n",
       "    </tr>\n",
       "    <tr>\n",
       "      <th>9</th>\n",
       "      <td>17</td>\n",
       "      <td>43</td>\n",
       "      <td>2</td>\n",
       "      <td>98.0</td>\n",
       "      <td>7</td>\n",
       "      <td>2</td>\n",
       "      <td>2</td>\n",
       "      <td>1</td>\n",
       "    </tr>\n",
       "    <tr>\n",
       "      <th>10</th>\n",
       "      <td>3</td>\n",
       "      <td>50</td>\n",
       "      <td>1</td>\n",
       "      <td>98.0</td>\n",
       "      <td>12</td>\n",
       "      <td>2</td>\n",
       "      <td>1</td>\n",
       "      <td>2</td>\n",
       "    </tr>\n",
       "    <tr>\n",
       "      <th>11</th>\n",
       "      <td>9</td>\n",
       "      <td>59</td>\n",
       "      <td>2</td>\n",
       "      <td>97.6</td>\n",
       "      <td>7</td>\n",
       "      <td>2</td>\n",
       "      <td>1</td>\n",
       "      <td>1</td>\n",
       "    </tr>\n",
       "    <tr>\n",
       "      <th>12</th>\n",
       "      <td>3</td>\n",
       "      <td>4</td>\n",
       "      <td>1</td>\n",
       "      <td>97.8</td>\n",
       "      <td>3</td>\n",
       "      <td>2</td>\n",
       "      <td>2</td>\n",
       "      <td>2</td>\n",
       "    </tr>\n",
       "    <tr>\n",
       "      <th>13</th>\n",
       "      <td>8</td>\n",
       "      <td>22</td>\n",
       "      <td>2</td>\n",
       "      <td>99.5</td>\n",
       "      <td>11</td>\n",
       "      <td>1</td>\n",
       "      <td>2</td>\n",
       "      <td>2</td>\n",
       "    </tr>\n",
       "    <tr>\n",
       "      <th>14</th>\n",
       "      <td>8</td>\n",
       "      <td>33</td>\n",
       "      <td>2</td>\n",
       "      <td>98.4</td>\n",
       "      <td>14</td>\n",
       "      <td>1</td>\n",
       "      <td>1</td>\n",
       "      <td>2</td>\n",
       "    </tr>\n",
       "    <tr>\n",
       "      <th>15</th>\n",
       "      <td>5</td>\n",
       "      <td>20</td>\n",
       "      <td>2</td>\n",
       "      <td>98.4</td>\n",
       "      <td>11</td>\n",
       "      <td>2</td>\n",
       "      <td>1</td>\n",
       "      <td>2</td>\n",
       "    </tr>\n",
       "    <tr>\n",
       "      <th>16</th>\n",
       "      <td>5</td>\n",
       "      <td>32</td>\n",
       "      <td>1</td>\n",
       "      <td>99.0</td>\n",
       "      <td>9</td>\n",
       "      <td>2</td>\n",
       "      <td>2</td>\n",
       "      <td>2</td>\n",
       "    </tr>\n",
       "    <tr>\n",
       "      <th>17</th>\n",
       "      <td>7</td>\n",
       "      <td>36</td>\n",
       "      <td>1</td>\n",
       "      <td>99.2</td>\n",
       "      <td>6</td>\n",
       "      <td>1</td>\n",
       "      <td>2</td>\n",
       "      <td>2</td>\n",
       "    </tr>\n",
       "    <tr>\n",
       "      <th>18</th>\n",
       "      <td>4</td>\n",
       "      <td>69</td>\n",
       "      <td>1</td>\n",
       "      <td>98.0</td>\n",
       "      <td>6</td>\n",
       "      <td>2</td>\n",
       "      <td>2</td>\n",
       "      <td>2</td>\n",
       "    </tr>\n",
       "    <tr>\n",
       "      <th>19</th>\n",
       "      <td>3</td>\n",
       "      <td>47</td>\n",
       "      <td>1</td>\n",
       "      <td>97.0</td>\n",
       "      <td>5</td>\n",
       "      <td>1</td>\n",
       "      <td>2</td>\n",
       "      <td>1</td>\n",
       "    </tr>\n",
       "    <tr>\n",
       "      <th>20</th>\n",
       "      <td>7</td>\n",
       "      <td>22</td>\n",
       "      <td>1</td>\n",
       "      <td>98.2</td>\n",
       "      <td>6</td>\n",
       "      <td>2</td>\n",
       "      <td>2</td>\n",
       "      <td>2</td>\n",
       "    </tr>\n",
       "    <tr>\n",
       "      <th>21</th>\n",
       "      <td>9</td>\n",
       "      <td>11</td>\n",
       "      <td>1</td>\n",
       "      <td>98.2</td>\n",
       "      <td>10</td>\n",
       "      <td>2</td>\n",
       "      <td>2</td>\n",
       "      <td>2</td>\n",
       "    </tr>\n",
       "    <tr>\n",
       "      <th>22</th>\n",
       "      <td>11</td>\n",
       "      <td>19</td>\n",
       "      <td>1</td>\n",
       "      <td>98.6</td>\n",
       "      <td>14</td>\n",
       "      <td>1</td>\n",
       "      <td>2</td>\n",
       "      <td>2</td>\n",
       "    </tr>\n",
       "    <tr>\n",
       "      <th>23</th>\n",
       "      <td>11</td>\n",
       "      <td>67</td>\n",
       "      <td>2</td>\n",
       "      <td>97.6</td>\n",
       "      <td>4</td>\n",
       "      <td>2</td>\n",
       "      <td>2</td>\n",
       "      <td>1</td>\n",
       "    </tr>\n",
       "    <tr>\n",
       "      <th>24</th>\n",
       "      <td>9</td>\n",
       "      <td>43</td>\n",
       "      <td>2</td>\n",
       "      <td>98.6</td>\n",
       "      <td>5</td>\n",
       "      <td>2</td>\n",
       "      <td>2</td>\n",
       "      <td>2</td>\n",
       "    </tr>\n",
       "    <tr>\n",
       "      <th>25</th>\n",
       "      <td>4</td>\n",
       "      <td>41</td>\n",
       "      <td>2</td>\n",
       "      <td>98.0</td>\n",
       "      <td>5</td>\n",
       "      <td>2</td>\n",
       "      <td>2</td>\n",
       "      <td>1</td>\n",
       "    </tr>\n",
       "  </tbody>\n",
       "</table>\n",
       "</div>"
      ],
      "text/plain": [
       "    dur_stay  age  sex  temp  wbc  antibio  bact_cul  service\n",
       "id                                                           \n",
       "1          5   30    2  99.0    8        2         2        1\n",
       "2         10   73    2  98.0    5        2         1        1\n",
       "3          6   40    2  99.0   12        2         2        2\n",
       "4         11   47    2  98.2    4        2         2        2\n",
       "5          5   25    2  98.5   11        2         2        2\n",
       "6         14   82    1  96.8    6        1         2        2\n",
       "7         30   60    1  99.5    8        1         1        1\n",
       "8         11   56    2  98.6    7        2         2        1\n",
       "9         17   43    2  98.0    7        2         2        1\n",
       "10         3   50    1  98.0   12        2         1        2\n",
       "11         9   59    2  97.6    7        2         1        1\n",
       "12         3    4    1  97.8    3        2         2        2\n",
       "13         8   22    2  99.5   11        1         2        2\n",
       "14         8   33    2  98.4   14        1         1        2\n",
       "15         5   20    2  98.4   11        2         1        2\n",
       "16         5   32    1  99.0    9        2         2        2\n",
       "17         7   36    1  99.2    6        1         2        2\n",
       "18         4   69    1  98.0    6        2         2        2\n",
       "19         3   47    1  97.0    5        1         2        1\n",
       "20         7   22    1  98.2    6        2         2        2\n",
       "21         9   11    1  98.2   10        2         2        2\n",
       "22        11   19    1  98.6   14        1         2        2\n",
       "23        11   67    2  97.6    4        2         2        1\n",
       "24         9   43    2  98.6    5        2         2        2\n",
       "25         4   41    2  98.0    5        2         2        1"
      ]
     },
     "execution_count": 14,
     "metadata": {},
     "output_type": "execute_result"
    }
   ],
   "source": [
    "df = pd.read_csv('data/HOSPITAL.DAT.txt').clean_names().set_index('id')\n",
    "df"
   ]
  },
  {
   "cell_type": "code",
   "execution_count": 15,
   "metadata": {},
   "outputs": [],
   "source": [
    "def calc_mean_ci(data, alpha=0.05):\n",
    "    m = data.mean()\n",
    "    s = data.std()\n",
    "    n = data.shape[0]\n",
    "    tstat = t.ppf([alpha/2, 1-alpha/2], df=n-1)\n",
    "    ci_tsat = tstat*s/np.sqrt(n)\n",
    "    return m, m+ci_tsat"
   ]
  },
  {
   "cell_type": "code",
   "execution_count": 16,
   "metadata": {
    "scrolled": true
   },
   "outputs": [
    {
     "data": {
      "text/plain": [
       "(41.24, array([32.94213525, 49.53786475]))"
      ]
     },
     "execution_count": 16,
     "metadata": {},
     "output_type": "execute_result"
    }
   ],
   "source": [
    "calc_mean_ci(df.age, 0.05)"
   ]
  },
  {
   "cell_type": "markdown",
   "metadata": {},
   "source": [
    "#### 6.12"
   ]
  },
  {
   "cell_type": "code",
   "execution_count": 17,
   "metadata": {},
   "outputs": [
    {
     "data": {
      "text/plain": [
       "(7.84, array([6.51481211, 9.16518789]))"
      ]
     },
     "execution_count": 17,
     "metadata": {},
     "output_type": "execute_result"
    }
   ],
   "source": [
    "calc_mean_ci(df.wbc, 0.05)"
   ]
  },
  {
   "cell_type": "markdown",
   "metadata": {},
   "source": [
    "#### 6.13"
   ]
  },
  {
   "cell_type": "code",
   "execution_count": 18,
   "metadata": {},
   "outputs": [
    {
     "data": {
      "text/plain": [
       "(7.84, array([6.74147691, 8.93852309]))"
      ]
     },
     "execution_count": 18,
     "metadata": {},
     "output_type": "execute_result"
    }
   ],
   "source": [
    "calc_mean_ci(df.wbc, 0.1)"
   ]
  },
  {
   "cell_type": "markdown",
   "metadata": {},
   "source": [
    "#### 6.14"
   ]
  },
  {
   "cell_type": "markdown",
   "metadata": {},
   "source": [
    "95% CI are wider"
   ]
  },
  {
   "cell_type": "markdown",
   "metadata": {},
   "source": [
    "#### 6.15"
   ]
  },
  {
   "cell_type": "code",
   "execution_count": 19,
   "metadata": {},
   "outputs": [
    {
     "data": {
      "text/plain": [
       "0.44"
      ]
     },
     "execution_count": 19,
     "metadata": {},
     "output_type": "execute_result"
    }
   ],
   "source": [
    "mens = df.sex == 1\n",
    "p = mens.mean()\n",
    "p"
   ]
  },
  {
   "cell_type": "markdown",
   "metadata": {},
   "source": [
    "#### 6.16"
   ]
  },
  {
   "cell_type": "code",
   "execution_count": 20,
   "metadata": {},
   "outputs": [],
   "source": [
    "n = df.shape[0]"
   ]
  },
  {
   "cell_type": "code",
   "execution_count": 21,
   "metadata": {},
   "outputs": [
    {
     "data": {
      "text/plain": [
       "0.09927738916792686"
      ]
     },
     "execution_count": 21,
     "metadata": {},
     "output_type": "execute_result"
    }
   ],
   "source": [
    "se = np.sqrt(p*(1-p)/n)\n",
    "se"
   ]
  },
  {
   "cell_type": "markdown",
   "metadata": {},
   "source": [
    "#### 6.17"
   ]
  },
  {
   "cell_type": "code",
   "execution_count": 22,
   "metadata": {},
   "outputs": [
    {
     "data": {
      "text/plain": [
       "array([0.24541989, 0.63458011])"
      ]
     },
     "execution_count": 22,
     "metadata": {},
     "output_type": "execute_result"
    }
   ],
   "source": [
    "norm.ppf([0.025, 0.975])*se+p"
   ]
  },
  {
   "cell_type": "markdown",
   "metadata": {},
   "source": [
    "### Microbiology"
   ]
  },
  {
   "cell_type": "code",
   "execution_count": 23,
   "metadata": {},
   "outputs": [
    {
     "data": {
      "text/html": [
       "<div>\n",
       "<style scoped>\n",
       "    .dataframe tbody tr th:only-of-type {\n",
       "        vertical-align: middle;\n",
       "    }\n",
       "\n",
       "    .dataframe tbody tr th {\n",
       "        vertical-align: top;\n",
       "    }\n",
       "\n",
       "    .dataframe thead tr th {\n",
       "        text-align: left;\n",
       "    }\n",
       "</style>\n",
       "<table border=\"1\" class=\"dataframe\">\n",
       "  <thead>\n",
       "    <tr>\n",
       "      <th></th>\n",
       "      <th colspan=\"2\" halign=\"left\">Ecoli</th>\n",
       "      <th colspan=\"2\" halign=\"left\">Saureus</th>\n",
       "      <th colspan=\"2\" halign=\"left\">Paeruginosa</th>\n",
       "    </tr>\n",
       "    <tr>\n",
       "      <th></th>\n",
       "      <th>Different</th>\n",
       "      <th>Common</th>\n",
       "      <th>Different</th>\n",
       "      <th>Common</th>\n",
       "      <th>Different</th>\n",
       "      <th>Common</th>\n",
       "    </tr>\n",
       "  </thead>\n",
       "  <tbody>\n",
       "    <tr>\n",
       "      <th>A</th>\n",
       "      <td>27.5</td>\n",
       "      <td>23.8</td>\n",
       "      <td>25.4</td>\n",
       "      <td>23.9</td>\n",
       "      <td>20.1</td>\n",
       "      <td>16.7</td>\n",
       "    </tr>\n",
       "    <tr>\n",
       "      <th>B</th>\n",
       "      <td>24.6</td>\n",
       "      <td>21.1</td>\n",
       "      <td>24.8</td>\n",
       "      <td>24.2</td>\n",
       "      <td>18.4</td>\n",
       "      <td>17.0</td>\n",
       "    </tr>\n",
       "    <tr>\n",
       "      <th>C</th>\n",
       "      <td>25.3</td>\n",
       "      <td>25.4</td>\n",
       "      <td>24.6</td>\n",
       "      <td>25.0</td>\n",
       "      <td>16.8</td>\n",
       "      <td>17.1</td>\n",
       "    </tr>\n",
       "    <tr>\n",
       "      <th>D</th>\n",
       "      <td>28.7</td>\n",
       "      <td>25.4</td>\n",
       "      <td>29.8</td>\n",
       "      <td>26.7</td>\n",
       "      <td>21.7</td>\n",
       "      <td>18.2</td>\n",
       "    </tr>\n",
       "    <tr>\n",
       "      <th>E</th>\n",
       "      <td>23.0</td>\n",
       "      <td>24.8</td>\n",
       "      <td>27.5</td>\n",
       "      <td>25.3</td>\n",
       "      <td>20.1</td>\n",
       "      <td>16.7</td>\n",
       "    </tr>\n",
       "    <tr>\n",
       "      <th>F</th>\n",
       "      <td>26.8</td>\n",
       "      <td>25.7</td>\n",
       "      <td>28.1</td>\n",
       "      <td>25.2</td>\n",
       "      <td>20.3</td>\n",
       "      <td>19.2</td>\n",
       "    </tr>\n",
       "    <tr>\n",
       "      <th>G</th>\n",
       "      <td>24.7</td>\n",
       "      <td>26.8</td>\n",
       "      <td>31.2</td>\n",
       "      <td>27.1</td>\n",
       "      <td>22.8</td>\n",
       "      <td>18.8</td>\n",
       "    </tr>\n",
       "    <tr>\n",
       "      <th>H</th>\n",
       "      <td>24.3</td>\n",
       "      <td>26.2</td>\n",
       "      <td>24.3</td>\n",
       "      <td>26.5</td>\n",
       "      <td>19.9</td>\n",
       "      <td>18.1</td>\n",
       "    </tr>\n",
       "    <tr>\n",
       "      <th>I</th>\n",
       "      <td>24.9</td>\n",
       "      <td>26.3</td>\n",
       "      <td>25.4</td>\n",
       "      <td>25.1</td>\n",
       "      <td>19.3</td>\n",
       "      <td>19.2</td>\n",
       "    </tr>\n",
       "  </tbody>\n",
       "</table>\n",
       "</div>"
      ],
      "text/plain": [
       "      Ecoli          Saureus        Paeruginosa       \n",
       "  Different Common Different Common   Different Common\n",
       "A      27.5   23.8      25.4   23.9        20.1   16.7\n",
       "B      24.6   21.1      24.8   24.2        18.4   17.0\n",
       "C      25.3   25.4      24.6   25.0        16.8   17.1\n",
       "D      28.7   25.4      29.8   26.7        21.7   18.2\n",
       "E      23.0   24.8      27.5   25.3        20.1   16.7\n",
       "F      26.8   25.7      28.1   25.2        20.3   19.2\n",
       "G      24.7   26.8      31.2   27.1        22.8   18.8\n",
       "H      24.3   26.2      24.3   26.5        19.9   18.1\n",
       "I      24.9   26.3      25.4   25.1        19.3   19.2"
      ]
     },
     "execution_count": 23,
     "metadata": {},
     "output_type": "execute_result"
    }
   ],
   "source": [
    "df = pd.read_csv('data/zone_diameters.csv', index_col=0, header=[0,1])\n",
    "df"
   ]
  },
  {
   "cell_type": "markdown",
   "metadata": {},
   "source": [
    "### 6.18"
   ]
  },
  {
   "cell_type": "code",
   "execution_count": 24,
   "metadata": {},
   "outputs": [
    {
     "data": {
      "text/html": [
       "<div>\n",
       "<style scoped>\n",
       "    .dataframe tbody tr th:only-of-type {\n",
       "        vertical-align: middle;\n",
       "    }\n",
       "\n",
       "    .dataframe tbody tr th {\n",
       "        vertical-align: top;\n",
       "    }\n",
       "\n",
       "    .dataframe thead th {\n",
       "        text-align: right;\n",
       "    }\n",
       "</style>\n",
       "<table border=\"1\" class=\"dataframe\">\n",
       "  <thead>\n",
       "    <tr style=\"text-align: right;\">\n",
       "      <th></th>\n",
       "      <th>Ecoli</th>\n",
       "      <th>Saureus</th>\n",
       "      <th>Paeruginosa</th>\n",
       "    </tr>\n",
       "  </thead>\n",
       "  <tbody>\n",
       "    <tr>\n",
       "      <th>0</th>\n",
       "      <td>25.533333</td>\n",
       "      <td>26.788889</td>\n",
       "      <td>19.933333</td>\n",
       "    </tr>\n",
       "    <tr>\n",
       "      <th>1</th>\n",
       "      <td>[24.162063149128905, 26.90460351753776]</td>\n",
       "      <td>[24.875907285576417, 28.70187049220136]</td>\n",
       "      <td>[18.599190416586246, 21.267476250080428]</td>\n",
       "    </tr>\n",
       "  </tbody>\n",
       "</table>\n",
       "</div>"
      ],
      "text/plain": [
       "                                     Ecoli  \\\n",
       "0                                25.533333   \n",
       "1  [24.162063149128905, 26.90460351753776]   \n",
       "\n",
       "                                   Saureus  \\\n",
       "0                                26.788889   \n",
       "1  [24.875907285576417, 28.70187049220136]   \n",
       "\n",
       "                                Paeruginosa  \n",
       "0                                 19.933333  \n",
       "1  [18.599190416586246, 21.267476250080428]  "
      ]
     },
     "execution_count": 24,
     "metadata": {},
     "output_type": "execute_result"
    }
   ],
   "source": [
    "df.xs('Different', axis=1, level=1).apply(calc_mean_ci, axis=0)"
   ]
  },
  {
   "cell_type": "markdown",
   "metadata": {},
   "source": [
    "#### 6.19"
   ]
  },
  {
   "cell_type": "code",
   "execution_count": 25,
   "metadata": {},
   "outputs": [
    {
     "data": {
      "text/html": [
       "<div>\n",
       "<style scoped>\n",
       "    .dataframe tbody tr th:only-of-type {\n",
       "        vertical-align: middle;\n",
       "    }\n",
       "\n",
       "    .dataframe tbody tr th {\n",
       "        vertical-align: top;\n",
       "    }\n",
       "\n",
       "    .dataframe thead th {\n",
       "        text-align: right;\n",
       "    }\n",
       "</style>\n",
       "<table border=\"1\" class=\"dataframe\">\n",
       "  <thead>\n",
       "    <tr style=\"text-align: right;\">\n",
       "      <th></th>\n",
       "      <th>Ecoli</th>\n",
       "      <th>Saureus</th>\n",
       "      <th>Paeruginosa</th>\n",
       "    </tr>\n",
       "  </thead>\n",
       "  <tbody>\n",
       "    <tr>\n",
       "      <th>0</th>\n",
       "      <td>25.055556</td>\n",
       "      <td>25.444444</td>\n",
       "      <td>17.888889</td>\n",
       "    </tr>\n",
       "    <tr>\n",
       "      <th>1</th>\n",
       "      <td>[23.728566933090484, 26.38254417802063]</td>\n",
       "      <td>[24.59532618852811, 26.293562700360777]</td>\n",
       "      <td>[17.089654812337503, 18.68812296544027]</td>\n",
       "    </tr>\n",
       "  </tbody>\n",
       "</table>\n",
       "</div>"
      ],
      "text/plain": [
       "                                     Ecoli  \\\n",
       "0                                25.055556   \n",
       "1  [23.728566933090484, 26.38254417802063]   \n",
       "\n",
       "                                   Saureus  \\\n",
       "0                                25.444444   \n",
       "1  [24.59532618852811, 26.293562700360777]   \n",
       "\n",
       "                               Paeruginosa  \n",
       "0                                17.888889  \n",
       "1  [17.089654812337503, 18.68812296544027]  "
      ]
     },
     "execution_count": 25,
     "metadata": {},
     "output_type": "execute_result"
    }
   ],
   "source": [
    "df.xs('Common', axis=1, level=1).apply(calc_mean_ci, axis=0)"
   ]
  },
  {
   "cell_type": "code",
   "execution_count": null,
   "metadata": {},
   "outputs": [],
   "source": []
  },
  {
   "cell_type": "markdown",
   "metadata": {},
   "source": [
    "#### 6.20"
   ]
  },
  {
   "cell_type": "code",
   "execution_count": 26,
   "metadata": {},
   "outputs": [],
   "source": [
    "def calc_std_ci(data, alpha=0.05):\n",
    "    s = data.std(ddof=1)\n",
    "    n = data.shape[0]\n",
    "    ci = chi2.ppf([1-alpha/2, alpha/2], df=n-1)\n",
    "    return s, np.sqrt((n-1)*s**2/ci)"
   ]
  },
  {
   "cell_type": "code",
   "execution_count": 27,
   "metadata": {},
   "outputs": [
    {
     "data": {
      "text/plain": [
       "(1.783956277491127, array([1.20498582, 3.41765149]))"
      ]
     },
     "execution_count": 27,
     "metadata": {},
     "output_type": "execute_result"
    }
   ],
   "source": [
    "calc_std_ci(df.iloc[:,0])"
   ]
  },
  {
   "cell_type": "code",
   "execution_count": 28,
   "metadata": {
    "scrolled": false
   },
   "outputs": [
    {
     "data": {
      "text/html": [
       "<div>\n",
       "<style scoped>\n",
       "    .dataframe tbody tr th:only-of-type {\n",
       "        vertical-align: middle;\n",
       "    }\n",
       "\n",
       "    .dataframe tbody tr th {\n",
       "        vertical-align: top;\n",
       "    }\n",
       "\n",
       "    .dataframe thead th {\n",
       "        text-align: right;\n",
       "    }\n",
       "</style>\n",
       "<table border=\"1\" class=\"dataframe\">\n",
       "  <thead>\n",
       "    <tr style=\"text-align: right;\">\n",
       "      <th></th>\n",
       "      <th>Ecoli</th>\n",
       "      <th>Saureus</th>\n",
       "      <th>Paeruginosa</th>\n",
       "    </tr>\n",
       "  </thead>\n",
       "  <tbody>\n",
       "    <tr>\n",
       "      <th>0</th>\n",
       "      <td>1.783956</td>\n",
       "      <td>2.488697</td>\n",
       "      <td>1.735655</td>\n",
       "    </tr>\n",
       "    <tr>\n",
       "      <th>1</th>\n",
       "      <td>[1.2049858166955643, 3.417651492860459]</td>\n",
       "      <td>[1.6810076716780882, 4.767772615262228]</td>\n",
       "      <td>[1.1723607139156127, 3.325118261617624]</td>\n",
       "    </tr>\n",
       "  </tbody>\n",
       "</table>\n",
       "</div>"
      ],
      "text/plain": [
       "                                     Ecoli  \\\n",
       "0                                 1.783956   \n",
       "1  [1.2049858166955643, 3.417651492860459]   \n",
       "\n",
       "                                   Saureus  \\\n",
       "0                                 2.488697   \n",
       "1  [1.6810076716780882, 4.767772615262228]   \n",
       "\n",
       "                               Paeruginosa  \n",
       "0                                 1.735655  \n",
       "1  [1.1723607139156127, 3.325118261617624]  "
      ]
     },
     "execution_count": 28,
     "metadata": {},
     "output_type": "execute_result"
    }
   ],
   "source": [
    "df.xs('Different', axis=1, level=1).apply(calc_std_ci)"
   ]
  },
  {
   "cell_type": "markdown",
   "metadata": {},
   "source": [
    "#### 6.21"
   ]
  },
  {
   "cell_type": "code",
   "execution_count": 29,
   "metadata": {},
   "outputs": [
    {
     "data": {
      "text/html": [
       "<div>\n",
       "<style scoped>\n",
       "    .dataframe tbody tr th:only-of-type {\n",
       "        vertical-align: middle;\n",
       "    }\n",
       "\n",
       "    .dataframe tbody tr th {\n",
       "        vertical-align: top;\n",
       "    }\n",
       "\n",
       "    .dataframe thead th {\n",
       "        text-align: right;\n",
       "    }\n",
       "</style>\n",
       "<table border=\"1\" class=\"dataframe\">\n",
       "  <thead>\n",
       "    <tr style=\"text-align: right;\">\n",
       "      <th></th>\n",
       "      <th>Ecoli</th>\n",
       "      <th>Saureus</th>\n",
       "      <th>Paeruginosa</th>\n",
       "    </tr>\n",
       "  </thead>\n",
       "  <tbody>\n",
       "    <tr>\n",
       "      <th>0</th>\n",
       "      <td>1.726348</td>\n",
       "      <td>1.104662</td>\n",
       "      <td>1.039765</td>\n",
       "    </tr>\n",
       "    <tr>\n",
       "      <th>1</th>\n",
       "      <td>[1.1660739709836934, 3.3072874323507495]</td>\n",
       "      <td>[0.7461516095532089, 2.1162789859907782]</td>\n",
       "      <td>[0.7023165365641925, 1.9919513793377874]</td>\n",
       "    </tr>\n",
       "  </tbody>\n",
       "</table>\n",
       "</div>"
      ],
      "text/plain": [
       "                                      Ecoli  \\\n",
       "0                                  1.726348   \n",
       "1  [1.1660739709836934, 3.3072874323507495]   \n",
       "\n",
       "                                    Saureus  \\\n",
       "0                                  1.104662   \n",
       "1  [0.7461516095532089, 2.1162789859907782]   \n",
       "\n",
       "                                Paeruginosa  \n",
       "0                                  1.039765  \n",
       "1  [0.7023165365641925, 1.9919513793377874]  "
      ]
     },
     "execution_count": 29,
     "metadata": {},
     "output_type": "execute_result"
    }
   ],
   "source": [
    "df.xs('Common', axis=1, level=1).apply(calc_std_ci)"
   ]
  },
  {
   "cell_type": "markdown",
   "metadata": {},
   "source": [
    "#### 6.22"
   ]
  },
  {
   "cell_type": "markdown",
   "metadata": {},
   "source": [
    "Common has less variability"
   ]
  },
  {
   "cell_type": "markdown",
   "metadata": {},
   "source": [
    "## Renal disease"
   ]
  },
  {
   "cell_type": "code",
   "execution_count": 30,
   "metadata": {},
   "outputs": [],
   "source": [
    "def calc_mean_ci2(m, s, n, alpha=0.05):\n",
    "    tstat = t.ppf([alpha/2, 1-alpha/2], df=n-1)\n",
    "    ci_tsat = tstat*s/np.sqrt(n)\n",
    "    return m, m+ci_tsat"
   ]
  },
  {
   "cell_type": "code",
   "execution_count": 31,
   "metadata": {},
   "outputs": [
    {
     "data": {
      "text/plain": [
       "(1.68, array([1.58768324, 1.77231676]))"
      ]
     },
     "execution_count": 31,
     "metadata": {},
     "output_type": "execute_result"
    }
   ],
   "source": [
    "# phosphate baseline\n",
    "calc_mean_ci2(1.68, 0.47, 102)"
   ]
  },
  {
   "cell_type": "code",
   "execution_count": 32,
   "metadata": {},
   "outputs": [
    {
     "data": {
      "text/plain": [
       "(1.0, array([0.95435702, 1.04564298]))"
      ]
     },
     "execution_count": 32,
     "metadata": {},
     "output_type": "execute_result"
    }
   ],
   "source": [
    "# phosphate followup\n",
    "calc_mean_ci2(1.00, 0.19, 69)"
   ]
  },
  {
   "cell_type": "code",
   "execution_count": 33,
   "metadata": {},
   "outputs": [
    {
     "data": {
      "text/plain": [
       "(4.42, array([4.29429207, 4.54570793]))"
      ]
     },
     "execution_count": 33,
     "metadata": {},
     "output_type": "execute_result"
    }
   ],
   "source": [
    "# potassium baseline\n",
    "calc_mean_ci2(4.42, 0.64, 102)"
   ]
  },
  {
   "cell_type": "code",
   "execution_count": 34,
   "metadata": {},
   "outputs": [
    {
     "data": {
      "text/plain": [
       "(4.49, array([4.31943938, 4.66056062]))"
      ]
     },
     "execution_count": 34,
     "metadata": {},
     "output_type": "execute_result"
    }
   ],
   "source": [
    "# potassium followup\n",
    "calc_mean_ci2(4.49, 0.71, 69)"
   ]
  },
  {
   "cell_type": "code",
   "execution_count": 35,
   "metadata": {},
   "outputs": [
    {
     "data": {
      "text/plain": [
       "(1.68, array([1.58768324, 1.77231676]))"
      ]
     },
     "execution_count": 35,
     "metadata": {},
     "output_type": "execute_result"
    }
   ],
   "source": [
    "# phosphate baseline\n",
    "calc_mean_ci2(1.68, 0.47, 102)"
   ]
  },
  {
   "cell_type": "code",
   "execution_count": 36,
   "metadata": {},
   "outputs": [
    {
     "data": {
      "text/plain": [
       "(1.57, array([1.47390951, 1.66609049]))"
      ]
     },
     "execution_count": 36,
     "metadata": {},
     "output_type": "execute_result"
    }
   ],
   "source": [
    "# phosphate followup\n",
    "calc_mean_ci2(1.57, 0.4, 69)"
   ]
  },
  {
   "cell_type": "code",
   "execution_count": 37,
   "metadata": {},
   "outputs": [
    {
     "data": {
      "text/plain": [
       "(36.5, array([33.3415883, 39.6584117]))"
      ]
     },
     "execution_count": 37,
     "metadata": {},
     "output_type": "execute_result"
    }
   ],
   "source": [
    "# PAIS baseline\n",
    "calc_mean_ci2(36.50, 16.08, 102)"
   ]
  },
  {
   "cell_type": "code",
   "execution_count": 38,
   "metadata": {},
   "outputs": [
    {
     "data": {
      "text/plain": [
       "(23.27, array([19.95728029, 26.58271971]))"
      ]
     },
     "execution_count": 38,
     "metadata": {},
     "output_type": "execute_result"
    }
   ],
   "source": [
    "# PAIS followup\n",
    "calc_mean_ci2(23.27, 13.79, 69)"
   ]
  },
  {
   "cell_type": "markdown",
   "metadata": {},
   "source": [
    "#### 6.24"
   ]
  },
  {
   "cell_type": "markdown",
   "metadata": {},
   "source": [
    "Creatinine and potassium cannot be rejected on 5% level. Phosphate is lower in followup at 5% significance, similarly as PAIS."
   ]
  },
  {
   "cell_type": "markdown",
   "metadata": {},
   "source": [
    "## Opthalmology, Hypertension"
   ]
  },
  {
   "cell_type": "code",
   "execution_count": 39,
   "metadata": {},
   "outputs": [],
   "source": [
    "n = 200\n",
    "m = 140\n",
    "s = 25"
   ]
  },
  {
   "cell_type": "markdown",
   "metadata": {},
   "source": [
    "#### 6.25"
   ]
  },
  {
   "cell_type": "code",
   "execution_count": 40,
   "metadata": {
    "scrolled": true
   },
   "outputs": [
    {
     "data": {
      "text/plain": [
       "(140, array([136.51404039, 143.48595961]))"
      ]
     },
     "execution_count": 40,
     "metadata": {},
     "output_type": "execute_result"
    }
   ],
   "source": [
    "calc_mean_ci2(m, s, n, 0.05)"
   ]
  },
  {
   "cell_type": "markdown",
   "metadata": {},
   "source": [
    "#### 6.26"
   ]
  },
  {
   "cell_type": "markdown",
   "metadata": {},
   "source": [
    "Yes, 130 is below 95% CI"
   ]
  },
  {
   "cell_type": "markdown",
   "metadata": {},
   "source": [
    "## Sexually Transmitted Disease"
   ]
  },
  {
   "cell_type": "code",
   "execution_count": 41,
   "metadata": {},
   "outputs": [],
   "source": [
    "n = 46\n",
    "k = 6"
   ]
  },
  {
   "cell_type": "markdown",
   "metadata": {},
   "source": [
    "#### 6.27"
   ]
  },
  {
   "cell_type": "code",
   "execution_count": 42,
   "metadata": {},
   "outputs": [
    {
     "data": {
      "text/plain": [
       "0.13043478260869565"
      ]
     },
     "execution_count": 42,
     "metadata": {},
     "output_type": "execute_result"
    }
   ],
   "source": [
    "p = k/n\n",
    "p"
   ]
  },
  {
   "cell_type": "markdown",
   "metadata": {},
   "source": [
    "#### 6.28"
   ]
  },
  {
   "cell_type": "code",
   "execution_count": 43,
   "metadata": {},
   "outputs": [
    {
     "data": {
      "text/plain": [
       "5.217391304347826"
      ]
     },
     "execution_count": 43,
     "metadata": {},
     "output_type": "execute_result"
    }
   ],
   "source": [
    "# test for normal approximation\n",
    "n*p*(1-p)\n",
    "# could be used"
   ]
  },
  {
   "cell_type": "code",
   "execution_count": 44,
   "metadata": {},
   "outputs": [],
   "source": [
    "def binomial_ci_napp(n, k, alpha=0.05):\n",
    "    p = k/n\n",
    "    if n*p*(1-p) < 5:\n",
    "        print('Normal approximation should not be used')\n",
    "        print(n*p*(1-p))\n",
    "    se = np.sqrt(p*(1-p)/n)\n",
    "\n",
    "    return p, norm.ppf([alpha/2, 1-alpha/2])*se+p"
   ]
  },
  {
   "cell_type": "code",
   "execution_count": 45,
   "metadata": {},
   "outputs": [
    {
     "data": {
      "text/plain": [
       "(0.13043478260869565, array([0.03311145, 0.22775811]))"
      ]
     },
     "execution_count": 45,
     "metadata": {},
     "output_type": "execute_result"
    }
   ],
   "source": [
    "binomial_ci_napp(n, k, 0.05)"
   ]
  },
  {
   "cell_type": "markdown",
   "metadata": {},
   "source": [
    "#### 6.29"
   ]
  },
  {
   "cell_type": "markdown",
   "metadata": {},
   "source": [
    "Boths drugs have similar effects"
   ]
  },
  {
   "cell_type": "markdown",
   "metadata": {},
   "source": [
    "## Pharmacology"
   ]
  },
  {
   "cell_type": "code",
   "execution_count": 46,
   "metadata": {},
   "outputs": [],
   "source": [
    "n = 25\n",
    "m = 7\n",
    "s = 2"
   ]
  },
  {
   "cell_type": "markdown",
   "metadata": {},
   "source": [
    "#### 6.30"
   ]
  },
  {
   "cell_type": "code",
   "execution_count": 47,
   "metadata": {},
   "outputs": [
    {
     "data": {
      "text/plain": [
       "(7, array([6.17444058, 7.82555942]))"
      ]
     },
     "execution_count": 47,
     "metadata": {},
     "output_type": "execute_result"
    }
   ],
   "source": [
    "calc_mean_ci2(m, s, n, 0.05)"
   ]
  },
  {
   "cell_type": "markdown",
   "metadata": {},
   "source": [
    "#### 6.31"
   ]
  },
  {
   "cell_type": "code",
   "execution_count": 48,
   "metadata": {},
   "outputs": [],
   "source": [
    "def calc_std_ci2(s, n, alpha=0.05):\n",
    "    ci = chi2.ppf([1-alpha/2, alpha/2], df=n-1)\n",
    "    return s, np.sqrt((n-1)*s**2/ci)"
   ]
  },
  {
   "cell_type": "code",
   "execution_count": 49,
   "metadata": {
    "scrolled": false
   },
   "outputs": [
    {
     "data": {
      "text/plain": [
       "array([2.10718033, 9.71047265])"
      ]
     },
     "execution_count": 49,
     "metadata": {},
     "output_type": "execute_result"
    }
   ],
   "source": [
    "_, std_ci = calc_std_ci2(s, n, 0.01)\n",
    "std_ci**2"
   ]
  },
  {
   "cell_type": "markdown",
   "metadata": {},
   "source": [
    "#### 6.32"
   ]
  },
  {
   "cell_type": "code",
   "execution_count": 50,
   "metadata": {
    "scrolled": true
   },
   "outputs": [
    {
     "data": {
      "text/plain": [
       "0.4992671419779837"
      ]
     },
     "execution_count": 50,
     "metadata": {},
     "output_type": "execute_result"
    }
   ],
   "source": [
    "_, ci = calc_mean_ci2(m, s, 249, 0.05)\n",
    "ci[1]-ci[0]"
   ]
  },
  {
   "cell_type": "markdown",
   "metadata": {},
   "source": [
    "## Environmental health"
   ]
  },
  {
   "cell_type": "code",
   "execution_count": 51,
   "metadata": {},
   "outputs": [],
   "source": [
    "n = 525\n",
    "k = 7"
   ]
  },
  {
   "cell_type": "markdown",
   "metadata": {},
   "source": [
    "#### 6.33"
   ]
  },
  {
   "cell_type": "code",
   "execution_count": 52,
   "metadata": {},
   "outputs": [
    {
     "data": {
      "text/plain": [
       "0.013333333333333334"
      ]
     },
     "execution_count": 52,
     "metadata": {},
     "output_type": "execute_result"
    }
   ],
   "source": [
    "lam = k/n\n",
    "lam"
   ]
  },
  {
   "cell_type": "markdown",
   "metadata": {},
   "source": [
    "#### 6.34"
   ]
  },
  {
   "cell_type": "code",
   "execution_count": 53,
   "metadata": {},
   "outputs": [],
   "source": [
    "def calc_possion_ci(k, alpha=0.05):\n",
    "    import scipy.optimize\n",
    "    lower_err = lambda a: np.abs(1-poisson.cdf(k-1, a) - alpha/2)\n",
    "    upper_err = lambda a: np.abs(poisson.cdf(k, a) - alpha/2)\n",
    "    low = scipy.optimize.minimize(lower_err, k, method='Nelder-Mead').x[0]\n",
    "    upp = scipy.optimize.minimize(upper_err, k, method='Nelder-Mead').x[0]\n",
    "    return k, np.array([low, upp])"
   ]
  },
  {
   "cell_type": "code",
   "execution_count": 54,
   "metadata": {},
   "outputs": [],
   "source": [
    "best, ci = calc_possion_ci(k)"
   ]
  },
  {
   "cell_type": "code",
   "execution_count": 55,
   "metadata": {},
   "outputs": [
    {
     "data": {
      "text/plain": [
       "array([0.00536068, 0.02747184])"
      ]
     },
     "execution_count": 55,
     "metadata": {},
     "output_type": "execute_result"
    }
   ],
   "source": [
    "ci/n"
   ]
  },
  {
   "cell_type": "markdown",
   "metadata": {},
   "source": [
    "#### 6.35"
   ]
  },
  {
   "cell_type": "code",
   "execution_count": 56,
   "metadata": {},
   "outputs": [
    {
     "data": {
      "text/plain": [
       "0.004028"
      ]
     },
     "execution_count": 56,
     "metadata": {},
     "output_type": "execute_result"
    }
   ],
   "source": [
    "expectedIncidence = 402.8/100000\n",
    "expectedIncidence"
   ]
  },
  {
   "cell_type": "markdown",
   "metadata": {},
   "source": [
    "Expected incidence rate is outside 95% confidence interval."
   ]
  },
  {
   "cell_type": "markdown",
   "metadata": {},
   "source": [
    "## Obstetrics, Serology"
   ]
  },
  {
   "cell_type": "markdown",
   "metadata": {},
   "source": [
    "#### 6.36"
   ]
  },
  {
   "cell_type": "code",
   "execution_count": 57,
   "metadata": {},
   "outputs": [],
   "source": [
    "data = np.power(2, [4, 3, 5, 4, 5, 4, 3, 4, 4, 5])\n",
    "data_log = np.log2(data)\n",
    "n = len(data_log)"
   ]
  },
  {
   "cell_type": "code",
   "execution_count": 58,
   "metadata": {},
   "outputs": [],
   "source": [
    "s, s_ci = calc_std_ci(data_log)"
   ]
  },
  {
   "cell_type": "code",
   "execution_count": 59,
   "metadata": {
    "scrolled": true
   },
   "outputs": [
    {
     "data": {
      "text/plain": [
       "0.5444444444444444"
      ]
     },
     "execution_count": 59,
     "metadata": {},
     "output_type": "execute_result"
    }
   ],
   "source": [
    "s**2"
   ]
  },
  {
   "cell_type": "markdown",
   "metadata": {},
   "source": [
    "#### 6.37"
   ]
  },
  {
   "cell_type": "code",
   "execution_count": 60,
   "metadata": {},
   "outputs": [
    {
     "data": {
      "text/plain": [
       "array([0.25758607, 1.81455305])"
      ]
     },
     "execution_count": 60,
     "metadata": {},
     "output_type": "execute_result"
    }
   ],
   "source": [
    "s_ci ** 2"
   ]
  },
  {
   "cell_type": "markdown",
   "metadata": {},
   "source": [
    "#### 6.38"
   ]
  },
  {
   "cell_type": "code",
   "execution_count": 61,
   "metadata": {},
   "outputs": [
    {
     "data": {
      "text/plain": [
       "0.9579366435148755"
      ]
     },
     "execution_count": 61,
     "metadata": {},
     "output_type": "execute_result"
    }
   ],
   "source": [
    "diff = 1.5\n",
    "norm.cdf(diff/s)-norm.cdf(-diff/s)"
   ]
  },
  {
   "cell_type": "markdown",
   "metadata": {},
   "source": [
    "#### 6.39"
   ]
  },
  {
   "cell_type": "code",
   "execution_count": 62,
   "metadata": {},
   "outputs": [
    {
     "data": {
      "text/plain": [
       "0.9992963541848667"
      ]
     },
     "execution_count": 62,
     "metadata": {},
     "output_type": "execute_result"
    }
   ],
   "source": [
    "diff = 2.5\n",
    "norm.cdf(diff/s)-norm.cdf(-diff/s)"
   ]
  },
  {
   "cell_type": "markdown",
   "metadata": {},
   "source": [
    "## Hypertension"
   ]
  },
  {
   "cell_type": "code",
   "execution_count": 63,
   "metadata": {},
   "outputs": [],
   "source": [
    "n = 100\n",
    "n_eff = 20"
   ]
  },
  {
   "cell_type": "markdown",
   "metadata": {},
   "source": [
    "#### 6.40"
   ]
  },
  {
   "cell_type": "code",
   "execution_count": 64,
   "metadata": {},
   "outputs": [
    {
     "data": {
      "text/plain": [
       "0.2"
      ]
     },
     "execution_count": 64,
     "metadata": {},
     "output_type": "execute_result"
    }
   ],
   "source": [
    "p_eff = n_eff/n\n",
    "p_eff"
   ]
  },
  {
   "cell_type": "markdown",
   "metadata": {},
   "source": [
    "#### 6.41"
   ]
  },
  {
   "cell_type": "markdown",
   "metadata": {},
   "source": [
    "?"
   ]
  },
  {
   "cell_type": "markdown",
   "metadata": {},
   "source": [
    "#### 6.42"
   ]
  },
  {
   "cell_type": "markdown",
   "metadata": {},
   "source": [
    "?"
   ]
  },
  {
   "cell_type": "markdown",
   "metadata": {},
   "source": [
    "#### 6.43"
   ]
  },
  {
   "cell_type": "code",
   "execution_count": 65,
   "metadata": {},
   "outputs": [],
   "source": [
    "sample_mean = 5.3\n",
    "sample_var = 144\n",
    "sample_std = np.sqrt(sample_var)"
   ]
  },
  {
   "cell_type": "code",
   "execution_count": 66,
   "metadata": {},
   "outputs": [
    {
     "data": {
      "text/plain": [
       "1.2"
      ]
     },
     "execution_count": 66,
     "metadata": {},
     "output_type": "execute_result"
    }
   ],
   "source": [
    "se = sample_std/np.sqrt(n)\n",
    "se"
   ]
  },
  {
   "cell_type": "markdown",
   "metadata": {},
   "source": [
    "#### 6.44"
   ]
  },
  {
   "cell_type": "code",
   "execution_count": 67,
   "metadata": {
    "scrolled": false
   },
   "outputs": [
    {
     "data": {
      "text/plain": [
       "(5.3, array([2.91893966, 7.68106034]))"
      ]
     },
     "execution_count": 67,
     "metadata": {},
     "output_type": "execute_result"
    }
   ],
   "source": [
    "calc_mean_ci2(sample_mean, sample_std, 100)"
   ]
  },
  {
   "cell_type": "markdown",
   "metadata": {},
   "source": [
    "#### 6.45"
   ]
  },
  {
   "cell_type": "markdown",
   "metadata": {},
   "source": [
    "This drug is not effective as population means is < 10mmHg at 95% CI"
   ]
  },
  {
   "cell_type": "markdown",
   "metadata": {},
   "source": [
    "####  6.46"
   ]
  },
  {
   "cell_type": "code",
   "execution_count": null,
   "metadata": {},
   "outputs": [],
   "source": []
  },
  {
   "cell_type": "markdown",
   "metadata": {},
   "source": [
    "## Simulation"
   ]
  },
  {
   "cell_type": "code",
   "execution_count": 68,
   "metadata": {},
   "outputs": [],
   "source": [
    "df = pd.read_excel('data/BIRTHWEIGHT.DAT.xlsx', index_col=0)"
   ]
  },
  {
   "cell_type": "markdown",
   "metadata": {},
   "source": [
    "#### 6.47"
   ]
  },
  {
   "cell_type": "code",
   "execution_count": 69,
   "metadata": {},
   "outputs": [],
   "source": [
    "data = np.random.choice(df.values.ravel(), size=(5,6))"
   ]
  },
  {
   "cell_type": "code",
   "execution_count": 70,
   "metadata": {
    "scrolled": true
   },
   "outputs": [
    {
     "data": {
      "text/plain": [
       "array([110. , 131.4, 115.6,  93. , 115.6, 118.2])"
      ]
     },
     "execution_count": 70,
     "metadata": {},
     "output_type": "execute_result"
    }
   ],
   "source": [
    "means = data.mean(axis=0)\n",
    "means"
   ]
  },
  {
   "cell_type": "markdown",
   "metadata": {},
   "source": [
    "#### 6.48"
   ]
  },
  {
   "cell_type": "code",
   "execution_count": 71,
   "metadata": {},
   "outputs": [
    {
     "data": {
      "text/plain": [
       "11.420108970096955"
      ]
     },
     "execution_count": 71,
     "metadata": {},
     "output_type": "execute_result"
    }
   ],
   "source": [
    "se = means.std()\n",
    "se"
   ]
  },
  {
   "cell_type": "markdown",
   "metadata": {},
   "source": [
    "#### 6.49"
   ]
  },
  {
   "cell_type": "code",
   "execution_count": 72,
   "metadata": {},
   "outputs": [
    {
     "data": {
      "text/plain": [
       "38.073029240599645"
      ]
     },
     "execution_count": 72,
     "metadata": {},
     "output_type": "execute_result"
    }
   ],
   "source": [
    "data[2,:].std()"
   ]
  },
  {
   "cell_type": "markdown",
   "metadata": {},
   "source": [
    "#### 6.50"
   ]
  },
  {
   "cell_type": "code",
   "execution_count": null,
   "metadata": {},
   "outputs": [],
   "source": []
  },
  {
   "cell_type": "markdown",
   "metadata": {},
   "source": [
    "#### 6.51"
   ]
  },
  {
   "cell_type": "code",
   "execution_count": null,
   "metadata": {},
   "outputs": [],
   "source": []
  },
  {
   "cell_type": "markdown",
   "metadata": {},
   "source": [
    "## Obstetrics"
   ]
  },
  {
   "cell_type": "code",
   "execution_count": 73,
   "metadata": {},
   "outputs": [],
   "source": [
    "mean = 112\n",
    "sd = 20.6\n",
    "n = 5"
   ]
  },
  {
   "cell_type": "markdown",
   "metadata": {},
   "source": [
    "#### 6.52"
   ]
  },
  {
   "cell_type": "code",
   "execution_count": 74,
   "metadata": {},
   "outputs": [],
   "source": [
    "se = sd/np.sqrt(n)"
   ]
  },
  {
   "cell_type": "code",
   "execution_count": 75,
   "metadata": {},
   "outputs": [
    {
     "data": {
      "text/plain": [
       "0.6148114237246243"
      ]
     },
     "execution_count": 75,
     "metadata": {},
     "output_type": "execute_result"
    }
   ],
   "source": [
    "d = 8 # 0.5 lb == 8oz\n",
    "ci = norm.cdf([mean-d, mean+d], mean, se)\n",
    "ci[1]-ci[0]"
   ]
  },
  {
   "cell_type": "markdown",
   "metadata": {},
   "source": [
    "#### 6.53"
   ]
  },
  {
   "cell_type": "code",
   "execution_count": 76,
   "metadata": {},
   "outputs": [
    {
     "data": {
      "text/plain": [
       "0.917569014620842"
      ]
     },
     "execution_count": 76,
     "metadata": {},
     "output_type": "execute_result"
    }
   ],
   "source": [
    "d = 16\n",
    "ci = norm.cdf([mean-d, mean+d], mean, se)\n",
    "ci[1]-ci[0]"
   ]
  },
  {
   "cell_type": "markdown",
   "metadata": {},
   "source": [
    "#### 6.54"
   ]
  },
  {
   "cell_type": "code",
   "execution_count": 77,
   "metadata": {},
   "outputs": [
    {
     "data": {
      "text/plain": [
       "0.695"
      ]
     },
     "execution_count": 77,
     "metadata": {},
     "output_type": "execute_result"
    }
   ],
   "source": [
    "obs_8 = 5+8+12.5+8.5+6.5+5+7+9+8 # 104-120\n",
    "obs_8/100"
   ]
  },
  {
   "cell_type": "code",
   "execution_count": 78,
   "metadata": {},
   "outputs": [
    {
     "data": {
      "text/plain": [
       "0.96"
      ]
     },
     "execution_count": 78,
     "metadata": {},
     "output_type": "execute_result"
    }
   ],
   "source": [
    "obs_16 = 1.5+1.5+3.5+4.5+obs_8+4+6+3+2.5 # 96-128\n",
    "obs_16/100"
   ]
  },
  {
   "cell_type": "markdown",
   "metadata": {},
   "source": [
    "## Hypertension, Pediatrics"
   ]
  },
  {
   "cell_type": "code",
   "execution_count": 79,
   "metadata": {},
   "outputs": [
    {
     "data": {
      "text/html": [
       "<div>\n",
       "<style scoped>\n",
       "    .dataframe tbody tr th:only-of-type {\n",
       "        vertical-align: middle;\n",
       "    }\n",
       "\n",
       "    .dataframe tbody tr th {\n",
       "        vertical-align: top;\n",
       "    }\n",
       "\n",
       "    .dataframe thead th {\n",
       "        text-align: right;\n",
       "    }\n",
       "</style>\n",
       "<table border=\"1\" class=\"dataframe\">\n",
       "  <thead>\n",
       "    <tr style=\"text-align: right;\">\n",
       "      <th></th>\n",
       "      <th>mn_sbp</th>\n",
       "      <th>mn_dbp</th>\n",
       "      <th>msb1slt</th>\n",
       "      <th>msb2slt</th>\n",
       "      <th>msb3slt</th>\n",
       "      <th>msb4slt</th>\n",
       "      <th>msb5slt</th>\n",
       "      <th>msb6slt</th>\n",
       "      <th>msb7slt</th>\n",
       "      <th>msb8slt</th>\n",
       "      <th>msb9slt</th>\n",
       "      <th>msb10slt</th>\n",
       "      <th>msb1sug</th>\n",
       "      <th>msb2sug</th>\n",
       "      <th>msb3sug</th>\n",
       "      <th>msb4sug</th>\n",
       "      <th>msb5sug</th>\n",
       "    </tr>\n",
       "    <tr>\n",
       "      <th>id</th>\n",
       "      <th></th>\n",
       "      <th></th>\n",
       "      <th></th>\n",
       "      <th></th>\n",
       "      <th></th>\n",
       "      <th></th>\n",
       "      <th></th>\n",
       "      <th></th>\n",
       "      <th></th>\n",
       "      <th></th>\n",
       "      <th></th>\n",
       "      <th></th>\n",
       "      <th></th>\n",
       "      <th></th>\n",
       "      <th></th>\n",
       "      <th></th>\n",
       "      <th></th>\n",
       "    </tr>\n",
       "  </thead>\n",
       "  <tbody>\n",
       "    <tr>\n",
       "      <th>1</th>\n",
       "      <td>75.33</td>\n",
       "      <td>42.67</td>\n",
       "      <td>5.0</td>\n",
       "      <td>5.66</td>\n",
       "      <td>0.00</td>\n",
       "      <td>4.33</td>\n",
       "      <td>4.5</td>\n",
       "      <td>3.25</td>\n",
       "      <td>5.0</td>\n",
       "      <td>5.00</td>\n",
       "      <td>3.75</td>\n",
       "      <td>0.00</td>\n",
       "      <td>12.85</td>\n",
       "      <td>40.00</td>\n",
       "      <td>39.00</td>\n",
       "      <td>68.00</td>\n",
       "      <td>10.28</td>\n",
       "    </tr>\n",
       "    <tr>\n",
       "      <th>7</th>\n",
       "      <td>53.33</td>\n",
       "      <td>37.33</td>\n",
       "      <td>33.0</td>\n",
       "      <td>33.00</td>\n",
       "      <td>24.00</td>\n",
       "      <td>34.00</td>\n",
       "      <td>24.0</td>\n",
       "      <td>31.00</td>\n",
       "      <td>31.0</td>\n",
       "      <td>25.00</td>\n",
       "      <td>24.00</td>\n",
       "      <td>27.00</td>\n",
       "      <td>13.85</td>\n",
       "      <td>26.75</td>\n",
       "      <td>16.00</td>\n",
       "      <td>1.18</td>\n",
       "      <td>0.00</td>\n",
       "    </tr>\n",
       "    <tr>\n",
       "      <th>9</th>\n",
       "      <td>66.00</td>\n",
       "      <td>38.67</td>\n",
       "      <td>2.0</td>\n",
       "      <td>0.37</td>\n",
       "      <td>6.66</td>\n",
       "      <td>6.66</td>\n",
       "      <td>17.0</td>\n",
       "      <td>19.00</td>\n",
       "      <td>0.0</td>\n",
       "      <td>0.00</td>\n",
       "      <td>0.00</td>\n",
       "      <td>6.00</td>\n",
       "      <td>3.90</td>\n",
       "      <td>14.25</td>\n",
       "      <td>20.00</td>\n",
       "      <td>44.33</td>\n",
       "      <td>5.25</td>\n",
       "    </tr>\n",
       "    <tr>\n",
       "      <th>10</th>\n",
       "      <td>70.67</td>\n",
       "      <td>43.33</td>\n",
       "      <td>0.0</td>\n",
       "      <td>0.00</td>\n",
       "      <td>0.00</td>\n",
       "      <td>0.00</td>\n",
       "      <td>0.0</td>\n",
       "      <td>0.00</td>\n",
       "      <td>0.0</td>\n",
       "      <td>0.00</td>\n",
       "      <td>0.00</td>\n",
       "      <td>0.00</td>\n",
       "      <td>0.00</td>\n",
       "      <td>0.00</td>\n",
       "      <td>0.00</td>\n",
       "      <td>0.00</td>\n",
       "      <td>0.00</td>\n",
       "    </tr>\n",
       "    <tr>\n",
       "      <th>11</th>\n",
       "      <td>84.67</td>\n",
       "      <td>53.33</td>\n",
       "      <td>0.0</td>\n",
       "      <td>15.00</td>\n",
       "      <td>6.33</td>\n",
       "      <td>6.33</td>\n",
       "      <td>10.0</td>\n",
       "      <td>17.00</td>\n",
       "      <td>16.5</td>\n",
       "      <td>15.00</td>\n",
       "      <td>10.66</td>\n",
       "      <td>13.00</td>\n",
       "      <td>0.00</td>\n",
       "      <td>0.00</td>\n",
       "      <td>0.00</td>\n",
       "      <td>0.00</td>\n",
       "      <td>0.00</td>\n",
       "    </tr>\n",
       "    <tr>\n",
       "      <th>...</th>\n",
       "      <td>...</td>\n",
       "      <td>...</td>\n",
       "      <td>...</td>\n",
       "      <td>...</td>\n",
       "      <td>...</td>\n",
       "      <td>...</td>\n",
       "      <td>...</td>\n",
       "      <td>...</td>\n",
       "      <td>...</td>\n",
       "      <td>...</td>\n",
       "      <td>...</td>\n",
       "      <td>...</td>\n",
       "      <td>...</td>\n",
       "      <td>...</td>\n",
       "      <td>...</td>\n",
       "      <td>...</td>\n",
       "      <td>...</td>\n",
       "    </tr>\n",
       "    <tr>\n",
       "      <th>149</th>\n",
       "      <td>63.33</td>\n",
       "      <td>46.00</td>\n",
       "      <td>15.0</td>\n",
       "      <td>15.00</td>\n",
       "      <td>0.00</td>\n",
       "      <td>0.00</td>\n",
       "      <td>0.0</td>\n",
       "      <td>19.00</td>\n",
       "      <td>9.0</td>\n",
       "      <td>34.00</td>\n",
       "      <td>32.00</td>\n",
       "      <td>26.00</td>\n",
       "      <td>17.79</td>\n",
       "      <td>130.00</td>\n",
       "      <td>17.00</td>\n",
       "      <td>7.75</td>\n",
       "      <td>1.33</td>\n",
       "    </tr>\n",
       "    <tr>\n",
       "      <th>150</th>\n",
       "      <td>62.67</td>\n",
       "      <td>43.33</td>\n",
       "      <td>11.0</td>\n",
       "      <td>1.50</td>\n",
       "      <td>3.00</td>\n",
       "      <td>2.00</td>\n",
       "      <td>10.0</td>\n",
       "      <td>4.00</td>\n",
       "      <td>7.0</td>\n",
       "      <td>9.00</td>\n",
       "      <td>12.50</td>\n",
       "      <td>8.00</td>\n",
       "      <td>2.77</td>\n",
       "      <td>6.00</td>\n",
       "      <td>9.10</td>\n",
       "      <td>13.14</td>\n",
       "      <td>4.25</td>\n",
       "    </tr>\n",
       "    <tr>\n",
       "      <th>151</th>\n",
       "      <td>62.67</td>\n",
       "      <td>42.67</td>\n",
       "      <td>17.0</td>\n",
       "      <td>10.50</td>\n",
       "      <td>4.00</td>\n",
       "      <td>4.50</td>\n",
       "      <td>15.0</td>\n",
       "      <td>5.66</td>\n",
       "      <td>2.5</td>\n",
       "      <td>3.25</td>\n",
       "      <td>9.00</td>\n",
       "      <td>3.66</td>\n",
       "      <td>4.83</td>\n",
       "      <td>17.60</td>\n",
       "      <td>12.14</td>\n",
       "      <td>12.87</td>\n",
       "      <td>6.00</td>\n",
       "    </tr>\n",
       "    <tr>\n",
       "      <th>152</th>\n",
       "      <td>65.33</td>\n",
       "      <td>43.33</td>\n",
       "      <td>26.0</td>\n",
       "      <td>13.00</td>\n",
       "      <td>25.00</td>\n",
       "      <td>21.00</td>\n",
       "      <td>21.0</td>\n",
       "      <td>22.00</td>\n",
       "      <td>7.0</td>\n",
       "      <td>11.00</td>\n",
       "      <td>10.50</td>\n",
       "      <td>1.00</td>\n",
       "      <td>3.55</td>\n",
       "      <td>11.85</td>\n",
       "      <td>9.14</td>\n",
       "      <td>7.00</td>\n",
       "      <td>9.00</td>\n",
       "    </tr>\n",
       "    <tr>\n",
       "      <th>154</th>\n",
       "      <td>69.67</td>\n",
       "      <td>47.33</td>\n",
       "      <td>0.0</td>\n",
       "      <td>16.50</td>\n",
       "      <td>5.33</td>\n",
       "      <td>6.00</td>\n",
       "      <td>6.0</td>\n",
       "      <td>5.00</td>\n",
       "      <td>0.0</td>\n",
       "      <td>0.00</td>\n",
       "      <td>1.00</td>\n",
       "      <td>8.50</td>\n",
       "      <td>5.75</td>\n",
       "      <td>11.66</td>\n",
       "      <td>18.33</td>\n",
       "      <td>10.37</td>\n",
       "      <td>6.50</td>\n",
       "    </tr>\n",
       "  </tbody>\n",
       "</table>\n",
       "<p>100 rows × 17 columns</p>\n",
       "</div>"
      ],
      "text/plain": [
       "     mn_sbp  mn_dbp  msb1slt  msb2slt  msb3slt  msb4slt  msb5slt  msb6slt  \\\n",
       "id                                                                          \n",
       "1     75.33   42.67      5.0     5.66     0.00     4.33      4.5     3.25   \n",
       "7     53.33   37.33     33.0    33.00    24.00    34.00     24.0    31.00   \n",
       "9     66.00   38.67      2.0     0.37     6.66     6.66     17.0    19.00   \n",
       "10    70.67   43.33      0.0     0.00     0.00     0.00      0.0     0.00   \n",
       "11    84.67   53.33      0.0    15.00     6.33     6.33     10.0    17.00   \n",
       "..      ...     ...      ...      ...      ...      ...      ...      ...   \n",
       "149   63.33   46.00     15.0    15.00     0.00     0.00      0.0    19.00   \n",
       "150   62.67   43.33     11.0     1.50     3.00     2.00     10.0     4.00   \n",
       "151   62.67   42.67     17.0    10.50     4.00     4.50     15.0     5.66   \n",
       "152   65.33   43.33     26.0    13.00    25.00    21.00     21.0    22.00   \n",
       "154   69.67   47.33      0.0    16.50     5.33     6.00      6.0     5.00   \n",
       "\n",
       "     msb7slt  msb8slt  msb9slt  msb10slt  msb1sug  msb2sug  msb3sug  msb4sug  \\\n",
       "id                                                                             \n",
       "1        5.0     5.00     3.75      0.00    12.85    40.00    39.00    68.00   \n",
       "7       31.0    25.00    24.00     27.00    13.85    26.75    16.00     1.18   \n",
       "9        0.0     0.00     0.00      6.00     3.90    14.25    20.00    44.33   \n",
       "10       0.0     0.00     0.00      0.00     0.00     0.00     0.00     0.00   \n",
       "11      16.5    15.00    10.66     13.00     0.00     0.00     0.00     0.00   \n",
       "..       ...      ...      ...       ...      ...      ...      ...      ...   \n",
       "149      9.0    34.00    32.00     26.00    17.79   130.00    17.00     7.75   \n",
       "150      7.0     9.00    12.50      8.00     2.77     6.00     9.10    13.14   \n",
       "151      2.5     3.25     9.00      3.66     4.83    17.60    12.14    12.87   \n",
       "152      7.0    11.00    10.50      1.00     3.55    11.85     9.14     7.00   \n",
       "154      0.0     0.00     1.00      8.50     5.75    11.66    18.33    10.37   \n",
       "\n",
       "     msb5sug  \n",
       "id            \n",
       "1      10.28  \n",
       "7       0.00  \n",
       "9       5.25  \n",
       "10      0.00  \n",
       "11      0.00  \n",
       "..       ...  \n",
       "149     1.33  \n",
       "150     4.25  \n",
       "151     6.00  \n",
       "152     9.00  \n",
       "154     6.50  \n",
       "\n",
       "[100 rows x 17 columns]"
      ]
     },
     "execution_count": 79,
     "metadata": {},
     "output_type": "execute_result"
    }
   ],
   "source": [
    "df = pd.read_csv('data/INFANTBP.DAT.txt').clean_names().set_index('id')\n",
    "df"
   ]
  },
  {
   "cell_type": "code",
   "execution_count": 80,
   "metadata": {},
   "outputs": [],
   "source": [
    "df.loc[:, 'salt_response'] = (df.msb3slt+df.msb4slt)/2 - (df.msb1slt+df.msb2slt)/2"
   ]
  },
  {
   "cell_type": "markdown",
   "metadata": {},
   "source": [
    "#### 6.56"
   ]
  },
  {
   "cell_type": "code",
   "execution_count": 81,
   "metadata": {},
   "outputs": [
    {
     "data": {
      "text/html": [
       "<div>\n",
       "<style scoped>\n",
       "    .dataframe tbody tr th:only-of-type {\n",
       "        vertical-align: middle;\n",
       "    }\n",
       "\n",
       "    .dataframe tbody tr th {\n",
       "        vertical-align: top;\n",
       "    }\n",
       "\n",
       "    .dataframe thead th {\n",
       "        text-align: right;\n",
       "    }\n",
       "</style>\n",
       "<table border=\"1\" class=\"dataframe\">\n",
       "  <thead>\n",
       "    <tr style=\"text-align: right;\">\n",
       "      <th></th>\n",
       "      <th>mn_dbp</th>\n",
       "      <th>msb10slt</th>\n",
       "      <th>msb1slt</th>\n",
       "      <th>msb1sug</th>\n",
       "      <th>msb2slt</th>\n",
       "      <th>msb2sug</th>\n",
       "      <th>msb3slt</th>\n",
       "      <th>msb3sug</th>\n",
       "      <th>msb4slt</th>\n",
       "      <th>msb4sug</th>\n",
       "      <th>msb5slt</th>\n",
       "      <th>msb5sug</th>\n",
       "      <th>msb6slt</th>\n",
       "      <th>msb7slt</th>\n",
       "      <th>msb8slt</th>\n",
       "      <th>msb9slt</th>\n",
       "      <th>measurement</th>\n",
       "      <th>heartrate</th>\n",
       "    </tr>\n",
       "  </thead>\n",
       "  <tbody>\n",
       "    <tr>\n",
       "      <th>0</th>\n",
       "      <td>42.67</td>\n",
       "      <td>0.0</td>\n",
       "      <td>5.0</td>\n",
       "      <td>12.85</td>\n",
       "      <td>5.66</td>\n",
       "      <td>40.00</td>\n",
       "      <td>0.00</td>\n",
       "      <td>39.00</td>\n",
       "      <td>4.33</td>\n",
       "      <td>68.00</td>\n",
       "      <td>4.5</td>\n",
       "      <td>10.28</td>\n",
       "      <td>3.25</td>\n",
       "      <td>5.0</td>\n",
       "      <td>5.0</td>\n",
       "      <td>3.75</td>\n",
       "      <td>mn_sbp</td>\n",
       "      <td>75.330</td>\n",
       "    </tr>\n",
       "    <tr>\n",
       "      <th>1</th>\n",
       "      <td>42.67</td>\n",
       "      <td>0.0</td>\n",
       "      <td>5.0</td>\n",
       "      <td>12.85</td>\n",
       "      <td>5.66</td>\n",
       "      <td>40.00</td>\n",
       "      <td>0.00</td>\n",
       "      <td>39.00</td>\n",
       "      <td>4.33</td>\n",
       "      <td>68.00</td>\n",
       "      <td>4.5</td>\n",
       "      <td>10.28</td>\n",
       "      <td>3.25</td>\n",
       "      <td>5.0</td>\n",
       "      <td>5.0</td>\n",
       "      <td>3.75</td>\n",
       "      <td>mn_sbp</td>\n",
       "      <td>75.330</td>\n",
       "    </tr>\n",
       "    <tr>\n",
       "      <th>2</th>\n",
       "      <td>42.67</td>\n",
       "      <td>0.0</td>\n",
       "      <td>5.0</td>\n",
       "      <td>12.85</td>\n",
       "      <td>5.66</td>\n",
       "      <td>40.00</td>\n",
       "      <td>0.00</td>\n",
       "      <td>39.00</td>\n",
       "      <td>4.33</td>\n",
       "      <td>68.00</td>\n",
       "      <td>4.5</td>\n",
       "      <td>10.28</td>\n",
       "      <td>3.25</td>\n",
       "      <td>5.0</td>\n",
       "      <td>5.0</td>\n",
       "      <td>3.75</td>\n",
       "      <td>salt_response</td>\n",
       "      <td>-3.165</td>\n",
       "    </tr>\n",
       "    <tr>\n",
       "      <th>3</th>\n",
       "      <td>37.33</td>\n",
       "      <td>27.0</td>\n",
       "      <td>33.0</td>\n",
       "      <td>13.85</td>\n",
       "      <td>33.00</td>\n",
       "      <td>26.75</td>\n",
       "      <td>24.00</td>\n",
       "      <td>16.00</td>\n",
       "      <td>34.00</td>\n",
       "      <td>1.18</td>\n",
       "      <td>24.0</td>\n",
       "      <td>0.00</td>\n",
       "      <td>31.00</td>\n",
       "      <td>31.0</td>\n",
       "      <td>25.0</td>\n",
       "      <td>24.00</td>\n",
       "      <td>mn_sbp</td>\n",
       "      <td>53.330</td>\n",
       "    </tr>\n",
       "    <tr>\n",
       "      <th>4</th>\n",
       "      <td>37.33</td>\n",
       "      <td>27.0</td>\n",
       "      <td>33.0</td>\n",
       "      <td>13.85</td>\n",
       "      <td>33.00</td>\n",
       "      <td>26.75</td>\n",
       "      <td>24.00</td>\n",
       "      <td>16.00</td>\n",
       "      <td>34.00</td>\n",
       "      <td>1.18</td>\n",
       "      <td>24.0</td>\n",
       "      <td>0.00</td>\n",
       "      <td>31.00</td>\n",
       "      <td>31.0</td>\n",
       "      <td>25.0</td>\n",
       "      <td>24.00</td>\n",
       "      <td>mn_sbp</td>\n",
       "      <td>53.330</td>\n",
       "    </tr>\n",
       "    <tr>\n",
       "      <th>...</th>\n",
       "      <td>...</td>\n",
       "      <td>...</td>\n",
       "      <td>...</td>\n",
       "      <td>...</td>\n",
       "      <td>...</td>\n",
       "      <td>...</td>\n",
       "      <td>...</td>\n",
       "      <td>...</td>\n",
       "      <td>...</td>\n",
       "      <td>...</td>\n",
       "      <td>...</td>\n",
       "      <td>...</td>\n",
       "      <td>...</td>\n",
       "      <td>...</td>\n",
       "      <td>...</td>\n",
       "      <td>...</td>\n",
       "      <td>...</td>\n",
       "      <td>...</td>\n",
       "    </tr>\n",
       "    <tr>\n",
       "      <th>295</th>\n",
       "      <td>43.33</td>\n",
       "      <td>1.0</td>\n",
       "      <td>26.0</td>\n",
       "      <td>3.55</td>\n",
       "      <td>13.00</td>\n",
       "      <td>11.85</td>\n",
       "      <td>25.00</td>\n",
       "      <td>9.14</td>\n",
       "      <td>21.00</td>\n",
       "      <td>7.00</td>\n",
       "      <td>21.0</td>\n",
       "      <td>9.00</td>\n",
       "      <td>22.00</td>\n",
       "      <td>7.0</td>\n",
       "      <td>11.0</td>\n",
       "      <td>10.50</td>\n",
       "      <td>mn_sbp</td>\n",
       "      <td>65.330</td>\n",
       "    </tr>\n",
       "    <tr>\n",
       "      <th>296</th>\n",
       "      <td>43.33</td>\n",
       "      <td>1.0</td>\n",
       "      <td>26.0</td>\n",
       "      <td>3.55</td>\n",
       "      <td>13.00</td>\n",
       "      <td>11.85</td>\n",
       "      <td>25.00</td>\n",
       "      <td>9.14</td>\n",
       "      <td>21.00</td>\n",
       "      <td>7.00</td>\n",
       "      <td>21.0</td>\n",
       "      <td>9.00</td>\n",
       "      <td>22.00</td>\n",
       "      <td>7.0</td>\n",
       "      <td>11.0</td>\n",
       "      <td>10.50</td>\n",
       "      <td>salt_response</td>\n",
       "      <td>3.500</td>\n",
       "    </tr>\n",
       "    <tr>\n",
       "      <th>297</th>\n",
       "      <td>47.33</td>\n",
       "      <td>8.5</td>\n",
       "      <td>0.0</td>\n",
       "      <td>5.75</td>\n",
       "      <td>16.50</td>\n",
       "      <td>11.66</td>\n",
       "      <td>5.33</td>\n",
       "      <td>18.33</td>\n",
       "      <td>6.00</td>\n",
       "      <td>10.37</td>\n",
       "      <td>6.0</td>\n",
       "      <td>6.50</td>\n",
       "      <td>5.00</td>\n",
       "      <td>0.0</td>\n",
       "      <td>0.0</td>\n",
       "      <td>1.00</td>\n",
       "      <td>mn_sbp</td>\n",
       "      <td>69.670</td>\n",
       "    </tr>\n",
       "    <tr>\n",
       "      <th>298</th>\n",
       "      <td>47.33</td>\n",
       "      <td>8.5</td>\n",
       "      <td>0.0</td>\n",
       "      <td>5.75</td>\n",
       "      <td>16.50</td>\n",
       "      <td>11.66</td>\n",
       "      <td>5.33</td>\n",
       "      <td>18.33</td>\n",
       "      <td>6.00</td>\n",
       "      <td>10.37</td>\n",
       "      <td>6.0</td>\n",
       "      <td>6.50</td>\n",
       "      <td>5.00</td>\n",
       "      <td>0.0</td>\n",
       "      <td>0.0</td>\n",
       "      <td>1.00</td>\n",
       "      <td>mn_sbp</td>\n",
       "      <td>69.670</td>\n",
       "    </tr>\n",
       "    <tr>\n",
       "      <th>299</th>\n",
       "      <td>47.33</td>\n",
       "      <td>8.5</td>\n",
       "      <td>0.0</td>\n",
       "      <td>5.75</td>\n",
       "      <td>16.50</td>\n",
       "      <td>11.66</td>\n",
       "      <td>5.33</td>\n",
       "      <td>18.33</td>\n",
       "      <td>6.00</td>\n",
       "      <td>10.37</td>\n",
       "      <td>6.0</td>\n",
       "      <td>6.50</td>\n",
       "      <td>5.00</td>\n",
       "      <td>0.0</td>\n",
       "      <td>0.0</td>\n",
       "      <td>1.00</td>\n",
       "      <td>salt_response</td>\n",
       "      <td>-2.585</td>\n",
       "    </tr>\n",
       "  </tbody>\n",
       "</table>\n",
       "<p>300 rows × 18 columns</p>\n",
       "</div>"
      ],
      "text/plain": [
       "     mn_dbp  msb10slt  msb1slt  msb1sug  msb2slt  msb2sug  msb3slt  msb3sug  \\\n",
       "0     42.67       0.0      5.0    12.85     5.66    40.00     0.00    39.00   \n",
       "1     42.67       0.0      5.0    12.85     5.66    40.00     0.00    39.00   \n",
       "2     42.67       0.0      5.0    12.85     5.66    40.00     0.00    39.00   \n",
       "3     37.33      27.0     33.0    13.85    33.00    26.75    24.00    16.00   \n",
       "4     37.33      27.0     33.0    13.85    33.00    26.75    24.00    16.00   \n",
       "..      ...       ...      ...      ...      ...      ...      ...      ...   \n",
       "295   43.33       1.0     26.0     3.55    13.00    11.85    25.00     9.14   \n",
       "296   43.33       1.0     26.0     3.55    13.00    11.85    25.00     9.14   \n",
       "297   47.33       8.5      0.0     5.75    16.50    11.66     5.33    18.33   \n",
       "298   47.33       8.5      0.0     5.75    16.50    11.66     5.33    18.33   \n",
       "299   47.33       8.5      0.0     5.75    16.50    11.66     5.33    18.33   \n",
       "\n",
       "     msb4slt  msb4sug  msb5slt  msb5sug  msb6slt  msb7slt  msb8slt  msb9slt  \\\n",
       "0       4.33    68.00      4.5    10.28     3.25      5.0      5.0     3.75   \n",
       "1       4.33    68.00      4.5    10.28     3.25      5.0      5.0     3.75   \n",
       "2       4.33    68.00      4.5    10.28     3.25      5.0      5.0     3.75   \n",
       "3      34.00     1.18     24.0     0.00    31.00     31.0     25.0    24.00   \n",
       "4      34.00     1.18     24.0     0.00    31.00     31.0     25.0    24.00   \n",
       "..       ...      ...      ...      ...      ...      ...      ...      ...   \n",
       "295    21.00     7.00     21.0     9.00    22.00      7.0     11.0    10.50   \n",
       "296    21.00     7.00     21.0     9.00    22.00      7.0     11.0    10.50   \n",
       "297     6.00    10.37      6.0     6.50     5.00      0.0      0.0     1.00   \n",
       "298     6.00    10.37      6.0     6.50     5.00      0.0      0.0     1.00   \n",
       "299     6.00    10.37      6.0     6.50     5.00      0.0      0.0     1.00   \n",
       "\n",
       "       measurement  heartrate  \n",
       "0           mn_sbp     75.330  \n",
       "1           mn_sbp     75.330  \n",
       "2    salt_response     -3.165  \n",
       "3           mn_sbp     53.330  \n",
       "4           mn_sbp     53.330  \n",
       "..             ...        ...  \n",
       "295         mn_sbp     65.330  \n",
       "296  salt_response      3.500  \n",
       "297         mn_sbp     69.670  \n",
       "298         mn_sbp     69.670  \n",
       "299  salt_response     -2.585  \n",
       "\n",
       "[300 rows x 18 columns]"
      ]
     },
     "execution_count": 81,
     "metadata": {},
     "output_type": "execute_result"
    }
   ],
   "source": [
    "df.pivot_longer(column_names=['mn_sbp', 'mn_sbp', 'salt_response'], names_to=\"measurement\", values_to='heartrate')"
   ]
  },
  {
   "cell_type": "code",
   "execution_count": 82,
   "metadata": {},
   "outputs": [
    {
     "data": {
      "text/plain": [
       "<AxesSubplot:ylabel='Frequency'>"
      ]
     },
     "execution_count": 82,
     "metadata": {},
     "output_type": "execute_result"
    },
    {
     "data": {
      "image/png": "[encoded data removed]",
      "text/plain": [
       "<Figure size 432x288 with 1 Axes>"
      ]
     },
     "metadata": {
      "needs_background": "light"
     },
     "output_type": "display_data"
    }
   ],
   "source": [
    "df.salt_response.plot(kind='hist', bins=20)"
   ]
  },
  {
   "cell_type": "code",
   "execution_count": 83,
   "metadata": {},
   "outputs": [
    {
     "data": {
      "text/plain": [
       "(-2.7622999999999998, array([-4.22595335, -1.29864665]))"
      ]
     },
     "execution_count": 83,
     "metadata": {},
     "output_type": "execute_result"
    }
   ],
   "source": [
    "calc_mean_ci(df.salt_response)"
   ]
  },
  {
   "cell_type": "markdown",
   "metadata": {},
   "source": [
    "#### 6.57"
   ]
  },
  {
   "cell_type": "code",
   "execution_count": 84,
   "metadata": {},
   "outputs": [],
   "source": [
    "df.loc[:, 'sugar_response'] = (df.msb2sug) - df.msb3sug"
   ]
  },
  {
   "cell_type": "code",
   "execution_count": 85,
   "metadata": {},
   "outputs": [
    {
     "data": {
      "text/plain": [
       "<AxesSubplot:ylabel='Frequency'>"
      ]
     },
     "execution_count": 85,
     "metadata": {},
     "output_type": "execute_result"
    },
    {
     "data": {
      "image/png": "[encoded data removed]",
      "text/plain": [
       "<Figure size 432x288 with 1 Axes>"
      ]
     },
     "metadata": {
      "needs_background": "light"
     },
     "output_type": "display_data"
    }
   ],
   "source": [
    "df.sugar_response.plot(kind='hist', bins=20)"
   ]
  },
  {
   "cell_type": "code",
   "execution_count": 86,
   "metadata": {},
   "outputs": [
    {
     "data": {
      "text/plain": [
       "(-3.1588000000000007, array([-6.91029193,  0.59269193]))"
      ]
     },
     "execution_count": 86,
     "metadata": {},
     "output_type": "execute_result"
    }
   ],
   "source": [
    "calc_mean_ci(df.sugar_response)"
   ]
  },
  {
   "cell_type": "markdown",
   "metadata": {},
   "source": [
    "#### 6.58"
   ]
  },
  {
   "cell_type": "code",
   "execution_count": 87,
   "metadata": {
    "scrolled": true
   },
   "outputs": [
    {
     "data": {
      "text/plain": [
       "<AxesSubplot:xlabel='sugar_response', ylabel='mn_sbp'>"
      ]
     },
     "execution_count": 87,
     "metadata": {},
     "output_type": "execute_result"
    },
    {
     "data": {
      "image/png": "[encoded data removed]",
      "text/plain": [
       "<Figure size 432x288 with 1 Axes>"
      ]
     },
     "metadata": {
      "needs_background": "light"
     },
     "output_type": "display_data"
    }
   ],
   "source": [
    "sns.scatterplot(data=df, y='mn_sbp', x='sugar_response')"
   ]
  },
  {
   "cell_type": "code",
   "execution_count": 88,
   "metadata": {
    "scrolled": true
   },
   "outputs": [
    {
     "data": {
      "text/plain": [
       "<AxesSubplot:xlabel='salt_response', ylabel='mn_sbp'>"
      ]
     },
     "execution_count": 88,
     "metadata": {},
     "output_type": "execute_result"
    },
    {
     "data": {
      "image/png": "[encoded data removed]",
      "text/plain": [
       "<Figure size 432x288 with 1 Axes>"
      ]
     },
     "metadata": {
      "needs_background": "light"
     },
     "output_type": "display_data"
    }
   ],
   "source": [
    "sns.scatterplot(data=df, y='mn_sbp', x='salt_response')"
   ]
  },
  {
   "cell_type": "code",
   "execution_count": 89,
   "metadata": {
    "scrolled": true
   },
   "outputs": [
    {
     "data": {
      "text/plain": [
       "<AxesSubplot:xlabel='sugar_response', ylabel='mn_dbp'>"
      ]
     },
     "execution_count": 89,
     "metadata": {},
     "output_type": "execute_result"
    },
    {
     "data": {
      "image/png": "[encoded data removed]",
      "text/plain": [
       "<Figure size 432x288 with 1 Axes>"
      ]
     },
     "metadata": {
      "needs_background": "light"
     },
     "output_type": "display_data"
    }
   ],
   "source": [
    "sns.scatterplot(data=df, y='mn_dbp', x='sugar_response')"
   ]
  },
  {
   "cell_type": "code",
   "execution_count": 90,
   "metadata": {
    "scrolled": true
   },
   "outputs": [
    {
     "data": {
      "text/plain": [
       "<AxesSubplot:xlabel='salt_response', ylabel='mn_dbp'>"
      ]
     },
     "execution_count": 90,
     "metadata": {},
     "output_type": "execute_result"
    },
    {
     "data": {
      "image/png": "[encoded data removed]",
      "text/plain": [
       "<Figure size 432x288 with 1 Axes>"
      ]
     },
     "metadata": {
      "needs_background": "light"
     },
     "output_type": "display_data"
    }
   ],
   "source": [
    "sns.scatterplot(data=df, y='mn_dbp', x='salt_response')"
   ]
  },
  {
   "cell_type": "markdown",
   "metadata": {},
   "source": [
    "## Genetics"
   ]
  },
  {
   "cell_type": "markdown",
   "metadata": {},
   "source": [
    "#### 6.59"
   ]
  },
  {
   "cell_type": "code",
   "execution_count": 91,
   "metadata": {
    "scrolled": true
   },
   "outputs": [
    {
     "data": {
      "text/html": [
       "<div>\n",
       "<style scoped>\n",
       "    .dataframe tbody tr th:only-of-type {\n",
       "        vertical-align: middle;\n",
       "    }\n",
       "\n",
       "    .dataframe tbody tr th {\n",
       "        vertical-align: top;\n",
       "    }\n",
       "\n",
       "    .dataframe thead th {\n",
       "        text-align: right;\n",
       "    }\n",
       "</style>\n",
       "<table border=\"1\" class=\"dataframe\">\n",
       "  <thead>\n",
       "    <tr style=\"text-align: right;\">\n",
       "      <th></th>\n",
       "      <th>nm_chld</th>\n",
       "      <th>sx_1</th>\n",
       "      <th>sx_2</th>\n",
       "      <th>sx_3</th>\n",
       "      <th>sx_4</th>\n",
       "      <th>sx_5</th>\n",
       "      <th>sexchldn</th>\n",
       "      <th>num_fam</th>\n",
       "    </tr>\n",
       "  </thead>\n",
       "  <tbody>\n",
       "    <tr>\n",
       "      <th>0</th>\n",
       "      <td>2</td>\n",
       "      <td>'M'</td>\n",
       "      <td>'M'</td>\n",
       "      <td>NaN</td>\n",
       "      <td>NaN</td>\n",
       "      <td>NaN</td>\n",
       "      <td>'MM'</td>\n",
       "      <td>4400</td>\n",
       "    </tr>\n",
       "    <tr>\n",
       "      <th>1</th>\n",
       "      <td>2</td>\n",
       "      <td>'M'</td>\n",
       "      <td>'F'</td>\n",
       "      <td>NaN</td>\n",
       "      <td>NaN</td>\n",
       "      <td>NaN</td>\n",
       "      <td>'MF'</td>\n",
       "      <td>4270</td>\n",
       "    </tr>\n",
       "    <tr>\n",
       "      <th>2</th>\n",
       "      <td>2</td>\n",
       "      <td>'F'</td>\n",
       "      <td>'M'</td>\n",
       "      <td>NaN</td>\n",
       "      <td>NaN</td>\n",
       "      <td>NaN</td>\n",
       "      <td>'FM'</td>\n",
       "      <td>4633</td>\n",
       "    </tr>\n",
       "    <tr>\n",
       "      <th>3</th>\n",
       "      <td>2</td>\n",
       "      <td>'F'</td>\n",
       "      <td>'F'</td>\n",
       "      <td>NaN</td>\n",
       "      <td>NaN</td>\n",
       "      <td>NaN</td>\n",
       "      <td>'FF'</td>\n",
       "      <td>4218</td>\n",
       "    </tr>\n",
       "    <tr>\n",
       "      <th>4</th>\n",
       "      <td>3</td>\n",
       "      <td>'M'</td>\n",
       "      <td>'M'</td>\n",
       "      <td>'M'</td>\n",
       "      <td>NaN</td>\n",
       "      <td>NaN</td>\n",
       "      <td>'MMM'</td>\n",
       "      <td>1651</td>\n",
       "    </tr>\n",
       "    <tr>\n",
       "      <th>5</th>\n",
       "      <td>3</td>\n",
       "      <td>'M'</td>\n",
       "      <td>'M'</td>\n",
       "      <td>'F'</td>\n",
       "      <td>NaN</td>\n",
       "      <td>NaN</td>\n",
       "      <td>'MMF'</td>\n",
       "      <td>1618</td>\n",
       "    </tr>\n",
       "    <tr>\n",
       "      <th>6</th>\n",
       "      <td>3</td>\n",
       "      <td>'M'</td>\n",
       "      <td>'F'</td>\n",
       "      <td>'M'</td>\n",
       "      <td>NaN</td>\n",
       "      <td>NaN</td>\n",
       "      <td>'MFM'</td>\n",
       "      <td>1507</td>\n",
       "    </tr>\n",
       "    <tr>\n",
       "      <th>7</th>\n",
       "      <td>3</td>\n",
       "      <td>'M'</td>\n",
       "      <td>'F'</td>\n",
       "      <td>'F'</td>\n",
       "      <td>NaN</td>\n",
       "      <td>NaN</td>\n",
       "      <td>'MFF'</td>\n",
       "      <td>1403</td>\n",
       "    </tr>\n",
       "    <tr>\n",
       "      <th>8</th>\n",
       "      <td>3</td>\n",
       "      <td>'F'</td>\n",
       "      <td>'M'</td>\n",
       "      <td>'M'</td>\n",
       "      <td>NaN</td>\n",
       "      <td>NaN</td>\n",
       "      <td>'FMM'</td>\n",
       "      <td>1551</td>\n",
       "    </tr>\n",
       "    <tr>\n",
       "      <th>9</th>\n",
       "      <td>3</td>\n",
       "      <td>'F'</td>\n",
       "      <td>'M'</td>\n",
       "      <td>'F'</td>\n",
       "      <td>NaN</td>\n",
       "      <td>NaN</td>\n",
       "      <td>'FMF'</td>\n",
       "      <td>1441</td>\n",
       "    </tr>\n",
       "    <tr>\n",
       "      <th>10</th>\n",
       "      <td>3</td>\n",
       "      <td>'F'</td>\n",
       "      <td>'F'</td>\n",
       "      <td>'M'</td>\n",
       "      <td>NaN</td>\n",
       "      <td>NaN</td>\n",
       "      <td>'FFM'</td>\n",
       "      <td>1610</td>\n",
       "    </tr>\n",
       "    <tr>\n",
       "      <th>11</th>\n",
       "      <td>3</td>\n",
       "      <td>'F'</td>\n",
       "      <td>'F'</td>\n",
       "      <td>'F'</td>\n",
       "      <td>NaN</td>\n",
       "      <td>NaN</td>\n",
       "      <td>'FFF'</td>\n",
       "      <td>1498</td>\n",
       "    </tr>\n",
       "    <tr>\n",
       "      <th>12</th>\n",
       "      <td>4</td>\n",
       "      <td>'M'</td>\n",
       "      <td>'M'</td>\n",
       "      <td>'M'</td>\n",
       "      <td>'M'</td>\n",
       "      <td>NaN</td>\n",
       "      <td>'MMMM'</td>\n",
       "      <td>469</td>\n",
       "    </tr>\n",
       "    <tr>\n",
       "      <th>13</th>\n",
       "      <td>4</td>\n",
       "      <td>'M'</td>\n",
       "      <td>'M'</td>\n",
       "      <td>'M'</td>\n",
       "      <td>'F'</td>\n",
       "      <td>NaN</td>\n",
       "      <td>'MMMF'</td>\n",
       "      <td>484</td>\n",
       "    </tr>\n",
       "    <tr>\n",
       "      <th>14</th>\n",
       "      <td>4</td>\n",
       "      <td>'M'</td>\n",
       "      <td>'M'</td>\n",
       "      <td>'F'</td>\n",
       "      <td>'M'</td>\n",
       "      <td>NaN</td>\n",
       "      <td>'MMFM'</td>\n",
       "      <td>466</td>\n",
       "    </tr>\n",
       "    <tr>\n",
       "      <th>15</th>\n",
       "      <td>4</td>\n",
       "      <td>'M'</td>\n",
       "      <td>'M'</td>\n",
       "      <td>'F'</td>\n",
       "      <td>'F'</td>\n",
       "      <td>NaN</td>\n",
       "      <td>'MMFF'</td>\n",
       "      <td>448</td>\n",
       "    </tr>\n",
       "    <tr>\n",
       "      <th>16</th>\n",
       "      <td>4</td>\n",
       "      <td>'M'</td>\n",
       "      <td>'F'</td>\n",
       "      <td>'M'</td>\n",
       "      <td>'M'</td>\n",
       "      <td>NaN</td>\n",
       "      <td>'MFMM'</td>\n",
       "      <td>398</td>\n",
       "    </tr>\n",
       "    <tr>\n",
       "      <th>17</th>\n",
       "      <td>4</td>\n",
       "      <td>'M'</td>\n",
       "      <td>'F'</td>\n",
       "      <td>'M'</td>\n",
       "      <td>'F'</td>\n",
       "      <td>NaN</td>\n",
       "      <td>'MFMF'</td>\n",
       "      <td>448</td>\n",
       "    </tr>\n",
       "    <tr>\n",
       "      <th>18</th>\n",
       "      <td>4</td>\n",
       "      <td>'M'</td>\n",
       "      <td>'F'</td>\n",
       "      <td>'F'</td>\n",
       "      <td>'M'</td>\n",
       "      <td>NaN</td>\n",
       "      <td>'MFFM'</td>\n",
       "      <td>420</td>\n",
       "    </tr>\n",
       "    <tr>\n",
       "      <th>19</th>\n",
       "      <td>4</td>\n",
       "      <td>'M'</td>\n",
       "      <td>'F'</td>\n",
       "      <td>'F'</td>\n",
       "      <td>'F'</td>\n",
       "      <td>NaN</td>\n",
       "      <td>'MFFF'</td>\n",
       "      <td>425</td>\n",
       "    </tr>\n",
       "    <tr>\n",
       "      <th>20</th>\n",
       "      <td>4</td>\n",
       "      <td>'F'</td>\n",
       "      <td>'M'</td>\n",
       "      <td>'M'</td>\n",
       "      <td>'M'</td>\n",
       "      <td>NaN</td>\n",
       "      <td>'FMMM'</td>\n",
       "      <td>419</td>\n",
       "    </tr>\n",
       "    <tr>\n",
       "      <th>21</th>\n",
       "      <td>4</td>\n",
       "      <td>'F'</td>\n",
       "      <td>'M'</td>\n",
       "      <td>'M'</td>\n",
       "      <td>'F'</td>\n",
       "      <td>NaN</td>\n",
       "      <td>'FMMF'</td>\n",
       "      <td>406</td>\n",
       "    </tr>\n",
       "    <tr>\n",
       "      <th>22</th>\n",
       "      <td>4</td>\n",
       "      <td>'F'</td>\n",
       "      <td>'M'</td>\n",
       "      <td>'F'</td>\n",
       "      <td>'M'</td>\n",
       "      <td>NaN</td>\n",
       "      <td>'FMFM'</td>\n",
       "      <td>406</td>\n",
       "    </tr>\n",
       "    <tr>\n",
       "      <th>23</th>\n",
       "      <td>4</td>\n",
       "      <td>'F'</td>\n",
       "      <td>'M'</td>\n",
       "      <td>'F'</td>\n",
       "      <td>'F'</td>\n",
       "      <td>NaN</td>\n",
       "      <td>'FMFF'</td>\n",
       "      <td>342</td>\n",
       "    </tr>\n",
       "    <tr>\n",
       "      <th>24</th>\n",
       "      <td>4</td>\n",
       "      <td>'F'</td>\n",
       "      <td>'F'</td>\n",
       "      <td>'M'</td>\n",
       "      <td>'M'</td>\n",
       "      <td>NaN</td>\n",
       "      <td>'FFMM'</td>\n",
       "      <td>424</td>\n",
       "    </tr>\n",
       "    <tr>\n",
       "      <th>25</th>\n",
       "      <td>4</td>\n",
       "      <td>'F'</td>\n",
       "      <td>'F'</td>\n",
       "      <td>'M'</td>\n",
       "      <td>'F'</td>\n",
       "      <td>NaN</td>\n",
       "      <td>'FFMF'</td>\n",
       "      <td>428</td>\n",
       "    </tr>\n",
       "    <tr>\n",
       "      <th>26</th>\n",
       "      <td>4</td>\n",
       "      <td>'F'</td>\n",
       "      <td>'F'</td>\n",
       "      <td>'F'</td>\n",
       "      <td>'M'</td>\n",
       "      <td>NaN</td>\n",
       "      <td>'FFFM'</td>\n",
       "      <td>442</td>\n",
       "    </tr>\n",
       "    <tr>\n",
       "      <th>27</th>\n",
       "      <td>4</td>\n",
       "      <td>'F'</td>\n",
       "      <td>'F'</td>\n",
       "      <td>'F'</td>\n",
       "      <td>'F'</td>\n",
       "      <td>NaN</td>\n",
       "      <td>'FFFF'</td>\n",
       "      <td>481</td>\n",
       "    </tr>\n",
       "    <tr>\n",
       "      <th>28</th>\n",
       "      <td>5</td>\n",
       "      <td>'M'</td>\n",
       "      <td>'M'</td>\n",
       "      <td>'M'</td>\n",
       "      <td>'M'</td>\n",
       "      <td>'M'</td>\n",
       "      <td>'MMMMM'</td>\n",
       "      <td>549</td>\n",
       "    </tr>\n",
       "    <tr>\n",
       "      <th>29</th>\n",
       "      <td>5</td>\n",
       "      <td>'M'</td>\n",
       "      <td>'M'</td>\n",
       "      <td>'M'</td>\n",
       "      <td>'M'</td>\n",
       "      <td>'F'</td>\n",
       "      <td>'MMMMF'</td>\n",
       "      <td>516</td>\n",
       "    </tr>\n",
       "    <tr>\n",
       "      <th>30</th>\n",
       "      <td>5</td>\n",
       "      <td>'M'</td>\n",
       "      <td>'M'</td>\n",
       "      <td>'M'</td>\n",
       "      <td>'F'</td>\n",
       "      <td>'M'</td>\n",
       "      <td>'MMMFM'</td>\n",
       "      <td>478</td>\n",
       "    </tr>\n",
       "    <tr>\n",
       "      <th>31</th>\n",
       "      <td>5</td>\n",
       "      <td>'M'</td>\n",
       "      <td>'M'</td>\n",
       "      <td>'M'</td>\n",
       "      <td>'F'</td>\n",
       "      <td>'F'</td>\n",
       "      <td>'MMMFF'</td>\n",
       "      <td>495</td>\n",
       "    </tr>\n",
       "    <tr>\n",
       "      <th>32</th>\n",
       "      <td>5</td>\n",
       "      <td>'M'</td>\n",
       "      <td>'M'</td>\n",
       "      <td>'F'</td>\n",
       "      <td>'M'</td>\n",
       "      <td>'M'</td>\n",
       "      <td>'MMFMM'</td>\n",
       "      <td>524</td>\n",
       "    </tr>\n",
       "    <tr>\n",
       "      <th>33</th>\n",
       "      <td>5</td>\n",
       "      <td>'M'</td>\n",
       "      <td>'M'</td>\n",
       "      <td>'F'</td>\n",
       "      <td>'M'</td>\n",
       "      <td>'F'</td>\n",
       "      <td>'MMFMF'</td>\n",
       "      <td>469</td>\n",
       "    </tr>\n",
       "    <tr>\n",
       "      <th>34</th>\n",
       "      <td>5</td>\n",
       "      <td>'M'</td>\n",
       "      <td>'M'</td>\n",
       "      <td>'F'</td>\n",
       "      <td>'F'</td>\n",
       "      <td>'M'</td>\n",
       "      <td>'MMFFM'</td>\n",
       "      <td>476</td>\n",
       "    </tr>\n",
       "    <tr>\n",
       "      <th>35</th>\n",
       "      <td>5</td>\n",
       "      <td>'M'</td>\n",
       "      <td>'M'</td>\n",
       "      <td>'F'</td>\n",
       "      <td>'F'</td>\n",
       "      <td>'F'</td>\n",
       "      <td>'MMFFF'</td>\n",
       "      <td>509</td>\n",
       "    </tr>\n",
       "    <tr>\n",
       "      <th>36</th>\n",
       "      <td>5</td>\n",
       "      <td>'M'</td>\n",
       "      <td>'F'</td>\n",
       "      <td>'M'</td>\n",
       "      <td>'M'</td>\n",
       "      <td>'M'</td>\n",
       "      <td>'MFMMM'</td>\n",
       "      <td>472</td>\n",
       "    </tr>\n",
       "    <tr>\n",
       "      <th>37</th>\n",
       "      <td>5</td>\n",
       "      <td>'M'</td>\n",
       "      <td>'F'</td>\n",
       "      <td>'M'</td>\n",
       "      <td>'M'</td>\n",
       "      <td>'F'</td>\n",
       "      <td>'MFMMF'</td>\n",
       "      <td>441</td>\n",
       "    </tr>\n",
       "    <tr>\n",
       "      <th>38</th>\n",
       "      <td>5</td>\n",
       "      <td>'M'</td>\n",
       "      <td>'F'</td>\n",
       "      <td>'M'</td>\n",
       "      <td>'F'</td>\n",
       "      <td>'M'</td>\n",
       "      <td>'MFMFM'</td>\n",
       "      <td>456</td>\n",
       "    </tr>\n",
       "    <tr>\n",
       "      <th>39</th>\n",
       "      <td>5</td>\n",
       "      <td>'M'</td>\n",
       "      <td>'F'</td>\n",
       "      <td>'M'</td>\n",
       "      <td>'F'</td>\n",
       "      <td>'F'</td>\n",
       "      <td>'MFMFF'</td>\n",
       "      <td>453</td>\n",
       "    </tr>\n",
       "    <tr>\n",
       "      <th>40</th>\n",
       "      <td>5</td>\n",
       "      <td>'M'</td>\n",
       "      <td>'F'</td>\n",
       "      <td>'F'</td>\n",
       "      <td>'M'</td>\n",
       "      <td>'M'</td>\n",
       "      <td>'MFFMM'</td>\n",
       "      <td>496</td>\n",
       "    </tr>\n",
       "    <tr>\n",
       "      <th>41</th>\n",
       "      <td>5</td>\n",
       "      <td>'M'</td>\n",
       "      <td>'F'</td>\n",
       "      <td>'F'</td>\n",
       "      <td>'M'</td>\n",
       "      <td>'F'</td>\n",
       "      <td>'MFFMF'</td>\n",
       "      <td>473</td>\n",
       "    </tr>\n",
       "    <tr>\n",
       "      <th>42</th>\n",
       "      <td>5</td>\n",
       "      <td>'M'</td>\n",
       "      <td>'F'</td>\n",
       "      <td>'F'</td>\n",
       "      <td>'F'</td>\n",
       "      <td>'M'</td>\n",
       "      <td>'MFFFM'</td>\n",
       "      <td>495</td>\n",
       "    </tr>\n",
       "    <tr>\n",
       "      <th>43</th>\n",
       "      <td>5</td>\n",
       "      <td>'M'</td>\n",
       "      <td>'F'</td>\n",
       "      <td>'F'</td>\n",
       "      <td>'F'</td>\n",
       "      <td>'F'</td>\n",
       "      <td>'MFFFF'</td>\n",
       "      <td>440</td>\n",
       "    </tr>\n",
       "    <tr>\n",
       "      <th>44</th>\n",
       "      <td>5</td>\n",
       "      <td>'F'</td>\n",
       "      <td>'M'</td>\n",
       "      <td>'M'</td>\n",
       "      <td>'M'</td>\n",
       "      <td>'M'</td>\n",
       "      <td>'FMMMM'</td>\n",
       "      <td>486</td>\n",
       "    </tr>\n",
       "    <tr>\n",
       "      <th>45</th>\n",
       "      <td>5</td>\n",
       "      <td>'F'</td>\n",
       "      <td>'M'</td>\n",
       "      <td>'M'</td>\n",
       "      <td>'M'</td>\n",
       "      <td>'F'</td>\n",
       "      <td>'FMMMF'</td>\n",
       "      <td>447</td>\n",
       "    </tr>\n",
       "    <tr>\n",
       "      <th>46</th>\n",
       "      <td>5</td>\n",
       "      <td>'F'</td>\n",
       "      <td>'M'</td>\n",
       "      <td>'M'</td>\n",
       "      <td>'F'</td>\n",
       "      <td>'M'</td>\n",
       "      <td>'FMMFM'</td>\n",
       "      <td>479</td>\n",
       "    </tr>\n",
       "    <tr>\n",
       "      <th>47</th>\n",
       "      <td>5</td>\n",
       "      <td>'F'</td>\n",
       "      <td>'M'</td>\n",
       "      <td>'M'</td>\n",
       "      <td>'F'</td>\n",
       "      <td>'F'</td>\n",
       "      <td>'FMMFF'</td>\n",
       "      <td>452</td>\n",
       "    </tr>\n",
       "    <tr>\n",
       "      <th>48</th>\n",
       "      <td>5</td>\n",
       "      <td>'F'</td>\n",
       "      <td>'M'</td>\n",
       "      <td>'F'</td>\n",
       "      <td>'M'</td>\n",
       "      <td>'M'</td>\n",
       "      <td>'FMFMM'</td>\n",
       "      <td>492</td>\n",
       "    </tr>\n",
       "    <tr>\n",
       "      <th>49</th>\n",
       "      <td>5</td>\n",
       "      <td>'F'</td>\n",
       "      <td>'M'</td>\n",
       "      <td>'F'</td>\n",
       "      <td>'M'</td>\n",
       "      <td>'F'</td>\n",
       "      <td>'FMFMF'</td>\n",
       "      <td>430</td>\n",
       "    </tr>\n",
       "    <tr>\n",
       "      <th>50</th>\n",
       "      <td>5</td>\n",
       "      <td>'F'</td>\n",
       "      <td>'M'</td>\n",
       "      <td>'F'</td>\n",
       "      <td>'F'</td>\n",
       "      <td>'M'</td>\n",
       "      <td>'FMFFM'</td>\n",
       "      <td>469</td>\n",
       "    </tr>\n",
       "    <tr>\n",
       "      <th>51</th>\n",
       "      <td>5</td>\n",
       "      <td>'F'</td>\n",
       "      <td>'M'</td>\n",
       "      <td>'F'</td>\n",
       "      <td>'F'</td>\n",
       "      <td>'F'</td>\n",
       "      <td>'FMFFF'</td>\n",
       "      <td>429</td>\n",
       "    </tr>\n",
       "    <tr>\n",
       "      <th>52</th>\n",
       "      <td>5</td>\n",
       "      <td>'F'</td>\n",
       "      <td>'F'</td>\n",
       "      <td>'M'</td>\n",
       "      <td>'M'</td>\n",
       "      <td>'M'</td>\n",
       "      <td>'FFMMM'</td>\n",
       "      <td>502</td>\n",
       "    </tr>\n",
       "    <tr>\n",
       "      <th>53</th>\n",
       "      <td>5</td>\n",
       "      <td>'F'</td>\n",
       "      <td>'F'</td>\n",
       "      <td>'M'</td>\n",
       "      <td>'M'</td>\n",
       "      <td>'F'</td>\n",
       "      <td>'FFMMF'</td>\n",
       "      <td>440</td>\n",
       "    </tr>\n",
       "    <tr>\n",
       "      <th>54</th>\n",
       "      <td>5</td>\n",
       "      <td>'F'</td>\n",
       "      <td>'F'</td>\n",
       "      <td>'M'</td>\n",
       "      <td>'F'</td>\n",
       "      <td>'M'</td>\n",
       "      <td>'FFMFM'</td>\n",
       "      <td>445</td>\n",
       "    </tr>\n",
       "    <tr>\n",
       "      <th>55</th>\n",
       "      <td>5</td>\n",
       "      <td>'F'</td>\n",
       "      <td>'F'</td>\n",
       "      <td>'M'</td>\n",
       "      <td>'F'</td>\n",
       "      <td>'F'</td>\n",
       "      <td>'FFMFF'</td>\n",
       "      <td>427</td>\n",
       "    </tr>\n",
       "    <tr>\n",
       "      <th>56</th>\n",
       "      <td>5</td>\n",
       "      <td>'F'</td>\n",
       "      <td>'F'</td>\n",
       "      <td>'F'</td>\n",
       "      <td>'M'</td>\n",
       "      <td>'M'</td>\n",
       "      <td>'FFFMM'</td>\n",
       "      <td>455</td>\n",
       "    </tr>\n",
       "    <tr>\n",
       "      <th>57</th>\n",
       "      <td>5</td>\n",
       "      <td>'F'</td>\n",
       "      <td>'F'</td>\n",
       "      <td>'F'</td>\n",
       "      <td>'M'</td>\n",
       "      <td>'F'</td>\n",
       "      <td>'FFFMF'</td>\n",
       "      <td>461</td>\n",
       "    </tr>\n",
       "    <tr>\n",
       "      <th>58</th>\n",
       "      <td>5</td>\n",
       "      <td>'F'</td>\n",
       "      <td>'F'</td>\n",
       "      <td>'F'</td>\n",
       "      <td>'F'</td>\n",
       "      <td>'M'</td>\n",
       "      <td>'FFFFM'</td>\n",
       "      <td>488</td>\n",
       "    </tr>\n",
       "    <tr>\n",
       "      <th>59</th>\n",
       "      <td>5</td>\n",
       "      <td>'F'</td>\n",
       "      <td>'F'</td>\n",
       "      <td>'F'</td>\n",
       "      <td>'F'</td>\n",
       "      <td>'F'</td>\n",
       "      <td>'FFFFF'</td>\n",
       "      <td>518</td>\n",
       "    </tr>\n",
       "  </tbody>\n",
       "</table>\n",
       "</div>"
      ],
      "text/plain": [
       "    nm_chld sx_1 sx_2 sx_3 sx_4 sx_5 sexchldn  num_fam\n",
       "0         2  'M'  'M'  NaN  NaN  NaN     'MM'     4400\n",
       "1         2  'M'  'F'  NaN  NaN  NaN     'MF'     4270\n",
       "2         2  'F'  'M'  NaN  NaN  NaN     'FM'     4633\n",
       "3         2  'F'  'F'  NaN  NaN  NaN     'FF'     4218\n",
       "4         3  'M'  'M'  'M'  NaN  NaN    'MMM'     1651\n",
       "5         3  'M'  'M'  'F'  NaN  NaN    'MMF'     1618\n",
       "6         3  'M'  'F'  'M'  NaN  NaN    'MFM'     1507\n",
       "7         3  'M'  'F'  'F'  NaN  NaN    'MFF'     1403\n",
       "8         3  'F'  'M'  'M'  NaN  NaN    'FMM'     1551\n",
       "9         3  'F'  'M'  'F'  NaN  NaN    'FMF'     1441\n",
       "10        3  'F'  'F'  'M'  NaN  NaN    'FFM'     1610\n",
       "11        3  'F'  'F'  'F'  NaN  NaN    'FFF'     1498\n",
       "12        4  'M'  'M'  'M'  'M'  NaN   'MMMM'      469\n",
       "13        4  'M'  'M'  'M'  'F'  NaN   'MMMF'      484\n",
       "14        4  'M'  'M'  'F'  'M'  NaN   'MMFM'      466\n",
       "15        4  'M'  'M'  'F'  'F'  NaN   'MMFF'      448\n",
       "16        4  'M'  'F'  'M'  'M'  NaN   'MFMM'      398\n",
       "17        4  'M'  'F'  'M'  'F'  NaN   'MFMF'      448\n",
       "18        4  'M'  'F'  'F'  'M'  NaN   'MFFM'      420\n",
       "19        4  'M'  'F'  'F'  'F'  NaN   'MFFF'      425\n",
       "20        4  'F'  'M'  'M'  'M'  NaN   'FMMM'      419\n",
       "21        4  'F'  'M'  'M'  'F'  NaN   'FMMF'      406\n",
       "22        4  'F'  'M'  'F'  'M'  NaN   'FMFM'      406\n",
       "23        4  'F'  'M'  'F'  'F'  NaN   'FMFF'      342\n",
       "24        4  'F'  'F'  'M'  'M'  NaN   'FFMM'      424\n",
       "25        4  'F'  'F'  'M'  'F'  NaN   'FFMF'      428\n",
       "26        4  'F'  'F'  'F'  'M'  NaN   'FFFM'      442\n",
       "27        4  'F'  'F'  'F'  'F'  NaN   'FFFF'      481\n",
       "28        5  'M'  'M'  'M'  'M'  'M'  'MMMMM'      549\n",
       "29        5  'M'  'M'  'M'  'M'  'F'  'MMMMF'      516\n",
       "30        5  'M'  'M'  'M'  'F'  'M'  'MMMFM'      478\n",
       "31        5  'M'  'M'  'M'  'F'  'F'  'MMMFF'      495\n",
       "32        5  'M'  'M'  'F'  'M'  'M'  'MMFMM'      524\n",
       "33        5  'M'  'M'  'F'  'M'  'F'  'MMFMF'      469\n",
       "34        5  'M'  'M'  'F'  'F'  'M'  'MMFFM'      476\n",
       "35        5  'M'  'M'  'F'  'F'  'F'  'MMFFF'      509\n",
       "36        5  'M'  'F'  'M'  'M'  'M'  'MFMMM'      472\n",
       "37        5  'M'  'F'  'M'  'M'  'F'  'MFMMF'      441\n",
       "38        5  'M'  'F'  'M'  'F'  'M'  'MFMFM'      456\n",
       "39        5  'M'  'F'  'M'  'F'  'F'  'MFMFF'      453\n",
       "40        5  'M'  'F'  'F'  'M'  'M'  'MFFMM'      496\n",
       "41        5  'M'  'F'  'F'  'M'  'F'  'MFFMF'      473\n",
       "42        5  'M'  'F'  'F'  'F'  'M'  'MFFFM'      495\n",
       "43        5  'M'  'F'  'F'  'F'  'F'  'MFFFF'      440\n",
       "44        5  'F'  'M'  'M'  'M'  'M'  'FMMMM'      486\n",
       "45        5  'F'  'M'  'M'  'M'  'F'  'FMMMF'      447\n",
       "46        5  'F'  'M'  'M'  'F'  'M'  'FMMFM'      479\n",
       "47        5  'F'  'M'  'M'  'F'  'F'  'FMMFF'      452\n",
       "48        5  'F'  'M'  'F'  'M'  'M'  'FMFMM'      492\n",
       "49        5  'F'  'M'  'F'  'M'  'F'  'FMFMF'      430\n",
       "50        5  'F'  'M'  'F'  'F'  'M'  'FMFFM'      469\n",
       "51        5  'F'  'M'  'F'  'F'  'F'  'FMFFF'      429\n",
       "52        5  'F'  'F'  'M'  'M'  'M'  'FFMMM'      502\n",
       "53        5  'F'  'F'  'M'  'M'  'F'  'FFMMF'      440\n",
       "54        5  'F'  'F'  'M'  'F'  'M'  'FFMFM'      445\n",
       "55        5  'F'  'F'  'M'  'F'  'F'  'FFMFF'      427\n",
       "56        5  'F'  'F'  'F'  'M'  'M'  'FFFMM'      455\n",
       "57        5  'F'  'F'  'F'  'M'  'F'  'FFFMF'      461\n",
       "58        5  'F'  'F'  'F'  'F'  'M'  'FFFFM'      488\n",
       "59        5  'F'  'F'  'F'  'F'  'F'  'FFFFF'      518"
      ]
     },
     "execution_count": 91,
     "metadata": {},
     "output_type": "execute_result"
    }
   ],
   "source": [
    "df = pd.read_csv('data/SEXRAT.DAT.txt').clean_names()\n",
    "df"
   ]
  },
  {
   "cell_type": "code",
   "execution_count": 92,
   "metadata": {},
   "outputs": [],
   "source": [
    "import itertools"
   ]
  },
  {
   "cell_type": "code",
   "execution_count": 93,
   "metadata": {},
   "outputs": [
    {
     "data": {
      "text/plain": [
       "[2, 0]"
      ]
     },
     "execution_count": 93,
     "metadata": {},
     "output_type": "execute_result"
    }
   ],
   "source": [
    "groups = itertools.groupby('MMMF')\n",
    "result = [sum(1 for _ in group)-1 for _, group in groups]\n",
    "result"
   ]
  },
  {
   "cell_type": "code",
   "execution_count": 94,
   "metadata": {},
   "outputs": [],
   "source": [
    "def count_same(s):\n",
    "    groups = itertools.groupby(s)\n",
    "    result = [sum(1 for _ in group)-1 for _, group in groups]\n",
    "    return sum(result)"
   ]
  },
  {
   "cell_type": "code",
   "execution_count": 95,
   "metadata": {},
   "outputs": [
    {
     "data": {
      "text/html": [
       "<div>\n",
       "<style scoped>\n",
       "    .dataframe tbody tr th:only-of-type {\n",
       "        vertical-align: middle;\n",
       "    }\n",
       "\n",
       "    .dataframe tbody tr th {\n",
       "        vertical-align: top;\n",
       "    }\n",
       "\n",
       "    .dataframe thead th {\n",
       "        text-align: right;\n",
       "    }\n",
       "</style>\n",
       "<table border=\"1\" class=\"dataframe\">\n",
       "  <thead>\n",
       "    <tr style=\"text-align: right;\">\n",
       "      <th></th>\n",
       "      <th>nm_chld</th>\n",
       "      <th>sx_1</th>\n",
       "      <th>sx_2</th>\n",
       "      <th>sx_3</th>\n",
       "      <th>sx_4</th>\n",
       "      <th>sx_5</th>\n",
       "      <th>sexchldn</th>\n",
       "      <th>num_fam</th>\n",
       "      <th>same_sex</th>\n",
       "    </tr>\n",
       "  </thead>\n",
       "  <tbody>\n",
       "    <tr>\n",
       "      <th>32</th>\n",
       "      <td>5</td>\n",
       "      <td>'M'</td>\n",
       "      <td>'M'</td>\n",
       "      <td>'F'</td>\n",
       "      <td>'M'</td>\n",
       "      <td>'M'</td>\n",
       "      <td>'MMFMM'</td>\n",
       "      <td>524</td>\n",
       "      <td>2</td>\n",
       "    </tr>\n",
       "    <tr>\n",
       "      <th>17</th>\n",
       "      <td>4</td>\n",
       "      <td>'M'</td>\n",
       "      <td>'F'</td>\n",
       "      <td>'M'</td>\n",
       "      <td>'F'</td>\n",
       "      <td>NaN</td>\n",
       "      <td>'MFMF'</td>\n",
       "      <td>448</td>\n",
       "      <td>0</td>\n",
       "    </tr>\n",
       "    <tr>\n",
       "      <th>10</th>\n",
       "      <td>3</td>\n",
       "      <td>'F'</td>\n",
       "      <td>'F'</td>\n",
       "      <td>'M'</td>\n",
       "      <td>NaN</td>\n",
       "      <td>NaN</td>\n",
       "      <td>'FFM'</td>\n",
       "      <td>1610</td>\n",
       "      <td>1</td>\n",
       "    </tr>\n",
       "    <tr>\n",
       "      <th>35</th>\n",
       "      <td>5</td>\n",
       "      <td>'M'</td>\n",
       "      <td>'M'</td>\n",
       "      <td>'F'</td>\n",
       "      <td>'F'</td>\n",
       "      <td>'F'</td>\n",
       "      <td>'MMFFF'</td>\n",
       "      <td>509</td>\n",
       "      <td>3</td>\n",
       "    </tr>\n",
       "  </tbody>\n",
       "</table>\n",
       "</div>"
      ],
      "text/plain": [
       "    nm_chld sx_1 sx_2 sx_3 sx_4 sx_5 sexchldn  num_fam  same_sex\n",
       "32        5  'M'  'M'  'F'  'M'  'M'  'MMFMM'      524         2\n",
       "17        4  'M'  'F'  'M'  'F'  NaN   'MFMF'      448         0\n",
       "10        3  'F'  'F'  'M'  NaN  NaN    'FFM'     1610         1\n",
       "35        5  'M'  'M'  'F'  'F'  'F'  'MMFFF'      509         3"
      ]
     },
     "execution_count": 95,
     "metadata": {},
     "output_type": "execute_result"
    }
   ],
   "source": [
    "df['same_sex'] = df.sexchldn.apply(count_same)\n",
    "df.sample(4)"
   ]
  },
  {
   "cell_type": "code",
   "execution_count": 96,
   "metadata": {},
   "outputs": [
    {
     "data": {
      "text/plain": [
       "123445"
      ]
     },
     "execution_count": 96,
     "metadata": {},
     "output_type": "execute_result"
    }
   ],
   "source": [
    "tot_child = ((df.nm_chld-1)*df.num_fam).sum()\n",
    "tot_child"
   ]
  },
  {
   "cell_type": "code",
   "execution_count": 97,
   "metadata": {},
   "outputs": [
    {
     "data": {
      "text/plain": [
       "62548"
      ]
     },
     "execution_count": 97,
     "metadata": {},
     "output_type": "execute_result"
    }
   ],
   "source": [
    "same_birth = ((df.same_sex)*df.num_fam).sum()\n",
    "same_birth"
   ]
  },
  {
   "cell_type": "code",
   "execution_count": 98,
   "metadata": {},
   "outputs": [
    {
     "data": {
      "text/plain": [
       "(0.5066871886265139, array([0.50389823, 0.50947615]))"
      ]
     },
     "execution_count": 98,
     "metadata": {},
     "output_type": "execute_result"
    }
   ],
   "source": [
    "binomial_ci_napp(tot_child, same_birth)"
   ]
  },
  {
   "cell_type": "markdown",
   "metadata": {},
   "source": [
    "## Nutrition"
   ]
  },
  {
   "cell_type": "code",
   "execution_count": 99,
   "metadata": {},
   "outputs": [
    {
     "data": {
      "text/html": [
       "<div>\n",
       "<style scoped>\n",
       "    .dataframe tbody tr th:only-of-type {\n",
       "        vertical-align: middle;\n",
       "    }\n",
       "\n",
       "    .dataframe tbody tr th {\n",
       "        vertical-align: top;\n",
       "    }\n",
       "\n",
       "    .dataframe thead th {\n",
       "        text-align: right;\n",
       "    }\n",
       "</style>\n",
       "<table border=\"1\" class=\"dataframe\">\n",
       "  <thead>\n",
       "    <tr style=\"text-align: right;\">\n",
       "      <th></th>\n",
       "      <th>sfat_dr</th>\n",
       "      <th>sfat_ffq</th>\n",
       "      <th>tfat_dr</th>\n",
       "      <th>tfat_ffq</th>\n",
       "      <th>alco_dr</th>\n",
       "      <th>alco_ffq</th>\n",
       "      <th>cal_dr</th>\n",
       "      <th>cal_ffq</th>\n",
       "    </tr>\n",
       "    <tr>\n",
       "      <th>id</th>\n",
       "      <th></th>\n",
       "      <th></th>\n",
       "      <th></th>\n",
       "      <th></th>\n",
       "      <th></th>\n",
       "      <th></th>\n",
       "      <th></th>\n",
       "      <th></th>\n",
       "    </tr>\n",
       "  </thead>\n",
       "  <tbody>\n",
       "    <tr>\n",
       "      <th>100396</th>\n",
       "      <td>33.20</td>\n",
       "      <td>21.2</td>\n",
       "      <td>81.15</td>\n",
       "      <td>53.8</td>\n",
       "      <td>8.26</td>\n",
       "      <td>1.68</td>\n",
       "      <td>1807</td>\n",
       "      <td>1242.2</td>\n",
       "    </tr>\n",
       "    <tr>\n",
       "      <th>100566</th>\n",
       "      <td>17.73</td>\n",
       "      <td>10.6</td>\n",
       "      <td>53.28</td>\n",
       "      <td>36.6</td>\n",
       "      <td>0.83</td>\n",
       "      <td>0.00</td>\n",
       "      <td>1418</td>\n",
       "      <td>907.0</td>\n",
       "    </tr>\n",
       "    <tr>\n",
       "      <th>107633</th>\n",
       "      <td>38.73</td>\n",
       "      <td>23.8</td>\n",
       "      <td>83.48</td>\n",
       "      <td>47.2</td>\n",
       "      <td>20.13</td>\n",
       "      <td>15.10</td>\n",
       "      <td>1889</td>\n",
       "      <td>786.0</td>\n",
       "    </tr>\n",
       "    <tr>\n",
       "      <th>107737</th>\n",
       "      <td>21.57</td>\n",
       "      <td>22.7</td>\n",
       "      <td>49.65</td>\n",
       "      <td>55.3</td>\n",
       "      <td>11.16</td>\n",
       "      <td>7.49</td>\n",
       "      <td>1426</td>\n",
       "      <td>1392.5</td>\n",
       "    </tr>\n",
       "    <tr>\n",
       "      <th>107744</th>\n",
       "      <td>21.35</td>\n",
       "      <td>30.4</td>\n",
       "      <td>55.18</td>\n",
       "      <td>71.0</td>\n",
       "      <td>7.18</td>\n",
       "      <td>12.84</td>\n",
       "      <td>1253</td>\n",
       "      <td>1259.8</td>\n",
       "    </tr>\n",
       "    <tr>\n",
       "      <th>...</th>\n",
       "      <td>...</td>\n",
       "      <td>...</td>\n",
       "      <td>...</td>\n",
       "      <td>...</td>\n",
       "      <td>...</td>\n",
       "      <td>...</td>\n",
       "      <td>...</td>\n",
       "      <td>...</td>\n",
       "    </tr>\n",
       "    <tr>\n",
       "      <th>136378</th>\n",
       "      <td>36.19</td>\n",
       "      <td>18.1</td>\n",
       "      <td>95.43</td>\n",
       "      <td>47.1</td>\n",
       "      <td>4.60</td>\n",
       "      <td>7.25</td>\n",
       "      <td>1976</td>\n",
       "      <td>1204.3</td>\n",
       "    </tr>\n",
       "    <tr>\n",
       "      <th>136407</th>\n",
       "      <td>22.42</td>\n",
       "      <td>10.9</td>\n",
       "      <td>62.15</td>\n",
       "      <td>32.0</td>\n",
       "      <td>2.56</td>\n",
       "      <td>1.81</td>\n",
       "      <td>1731</td>\n",
       "      <td>981.6</td>\n",
       "    </tr>\n",
       "    <tr>\n",
       "      <th>136421</th>\n",
       "      <td>16.98</td>\n",
       "      <td>20.4</td>\n",
       "      <td>42.85</td>\n",
       "      <td>47.5</td>\n",
       "      <td>13.91</td>\n",
       "      <td>8.64</td>\n",
       "      <td>1033</td>\n",
       "      <td>1128.3</td>\n",
       "    </tr>\n",
       "    <tr>\n",
       "      <th>137461</th>\n",
       "      <td>23.98</td>\n",
       "      <td>18.5</td>\n",
       "      <td>67.43</td>\n",
       "      <td>45.9</td>\n",
       "      <td>5.39</td>\n",
       "      <td>7.19</td>\n",
       "      <td>1585</td>\n",
       "      <td>1247.5</td>\n",
       "    </tr>\n",
       "    <tr>\n",
       "      <th>184093</th>\n",
       "      <td>21.39</td>\n",
       "      <td>19.0</td>\n",
       "      <td>56.70</td>\n",
       "      <td>40.4</td>\n",
       "      <td>0.60</td>\n",
       "      <td>3.49</td>\n",
       "      <td>1320</td>\n",
       "      <td>994.0</td>\n",
       "    </tr>\n",
       "  </tbody>\n",
       "</table>\n",
       "<p>173 rows × 8 columns</p>\n",
       "</div>"
      ],
      "text/plain": [
       "        sfat_dr  sfat_ffq  tfat_dr  tfat_ffq  alco_dr  alco_ffq  cal_dr  \\\n",
       "id                                                                        \n",
       "100396    33.20      21.2    81.15      53.8     8.26      1.68    1807   \n",
       "100566    17.73      10.6    53.28      36.6     0.83      0.00    1418   \n",
       "107633    38.73      23.8    83.48      47.2    20.13     15.10    1889   \n",
       "107737    21.57      22.7    49.65      55.3    11.16      7.49    1426   \n",
       "107744    21.35      30.4    55.18      71.0     7.18     12.84    1253   \n",
       "...         ...       ...      ...       ...      ...       ...     ...   \n",
       "136378    36.19      18.1    95.43      47.1     4.60      7.25    1976   \n",
       "136407    22.42      10.9    62.15      32.0     2.56      1.81    1731   \n",
       "136421    16.98      20.4    42.85      47.5    13.91      8.64    1033   \n",
       "137461    23.98      18.5    67.43      45.9     5.39      7.19    1585   \n",
       "184093    21.39      19.0    56.70      40.4     0.60      3.49    1320   \n",
       "\n",
       "        cal_ffq  \n",
       "id               \n",
       "100396   1242.2  \n",
       "100566    907.0  \n",
       "107633    786.0  \n",
       "107737   1392.5  \n",
       "107744   1259.8  \n",
       "...         ...  \n",
       "136378   1204.3  \n",
       "136407    981.6  \n",
       "136421   1128.3  \n",
       "137461   1247.5  \n",
       "184093    994.0  \n",
       "\n",
       "[173 rows x 8 columns]"
      ]
     },
     "execution_count": 99,
     "metadata": {},
     "output_type": "execute_result"
    }
   ],
   "source": [
    "df = pd.read_csv('data/VALID.DAT.txt').clean_names().set_index('id')\n",
    "df"
   ]
  },
  {
   "cell_type": "markdown",
   "metadata": {},
   "source": [
    "#### 6.60"
   ]
  },
  {
   "cell_type": "code",
   "execution_count": 100,
   "metadata": {},
   "outputs": [],
   "source": [
    "def estimate_bootstrap_mean(data, num_iter=1000, alpha=0.05):\n",
    "    bootstrap = np.random.choice(data, size=(num_iter, len(data))).mean(axis=1)\n",
    "    return bootstrap.mean(), np.quantile(bootstrap, [alpha/2, 1-alpha/2])"
   ]
  },
  {
   "cell_type": "code",
   "execution_count": 101,
   "metadata": {
    "scrolled": true
   },
   "outputs": [
    {
     "name": "stdout",
     "output_type": "stream",
     "text": [
      "sfat_dr\n",
      "(24.93173410404624, array([23.91537596, 25.94809225]))\n",
      "(24.928344161849708, array([23.90686272, 25.9460289 ]))\n",
      "----------\n",
      "tfat_dr\n",
      "(68.61537572254335, array([66.17062245, 71.06012899]))\n",
      "(68.61691572254334, array([66.28003179, 71.09638584]))\n",
      "----------\n",
      "alco_dr\n",
      "(8.962947976878612, array([ 7.51267239, 10.41322356]))\n",
      "(8.963120115606937, array([ 7.63354624, 10.45014884]))\n",
      "----------\n",
      "cal_dr\n",
      "(1619.8728323699422, array([1571.33871131, 1668.40695343]))\n",
      "(1619.9919768786128, array([1576.07196532, 1667.52933526]))\n",
      "----------\n"
     ]
    }
   ],
   "source": [
    "for c in [c for c in df.columns if c.endswith('dr')]:\n",
    "    print(c)\n",
    "    print(calc_mean_ci(df[c]))\n",
    "    print(estimate_bootstrap_mean(df[c]))\n",
    "    print('-'*10)"
   ]
  },
  {
   "cell_type": "markdown",
   "metadata": {},
   "source": [
    "#### 6.61"
   ]
  },
  {
   "cell_type": "markdown",
   "metadata": {},
   "source": [
    "Large sample is appropriate"
   ]
  },
  {
   "cell_type": "markdown",
   "metadata": {},
   "source": [
    "#### 6.62"
   ]
  },
  {
   "cell_type": "code",
   "execution_count": 102,
   "metadata": {},
   "outputs": [],
   "source": [
    "df['ca_tfat_dr'] = df['tfat_dr']*9/df['cal_dr']\n",
    "df['ca_sfat_dr'] = df['sfat_dr']*9/df['cal_dr']"
   ]
  },
  {
   "cell_type": "code",
   "execution_count": 103,
   "metadata": {},
   "outputs": [
    {
     "name": "stdout",
     "output_type": "stream",
     "text": [
      "ca_tfat_dr\n",
      "(0.3806626728271688, array([0.37435252, 0.38697283]))\n",
      "(0.380832392785348, array([0.3750746 , 0.38649315]))\n",
      "----------\n",
      "ca_sfat_dr\n",
      "(0.13803814065347492, array([0.13486413, 0.14121215]))\n",
      "(0.13802174182412738, array([0.13518283, 0.14099177]))\n",
      "----------\n"
     ]
    }
   ],
   "source": [
    "for c in ['ca_tfat_dr', 'ca_sfat_dr']:\n",
    "    print(c)\n",
    "    print(calc_mean_ci(df[c]))\n",
    "    print(estimate_bootstrap_mean(df[c]))\n",
    "    print('-'*10)"
   ]
  },
  {
   "cell_type": "markdown",
   "metadata": {},
   "source": [
    "## Infectious Disease"
   ]
  },
  {
   "cell_type": "code",
   "execution_count": 104,
   "metadata": {},
   "outputs": [
    {
     "data": {
      "text/html": [
       "<div>\n",
       "<style scoped>\n",
       "    .dataframe tbody tr th:only-of-type {\n",
       "        vertical-align: middle;\n",
       "    }\n",
       "\n",
       "    .dataframe tbody tr th {\n",
       "        vertical-align: top;\n",
       "    }\n",
       "\n",
       "    .dataframe thead th {\n",
       "        text-align: right;\n",
       "    }\n",
       "</style>\n",
       "<table border=\"1\" class=\"dataframe\">\n",
       "  <thead>\n",
       "    <tr style=\"text-align: right;\">\n",
       "      <th></th>\n",
       "      <th>time</th>\n",
       "      <th>num_pat</th>\n",
       "    </tr>\n",
       "  </thead>\n",
       "  <tbody>\n",
       "    <tr>\n",
       "      <th>0</th>\n",
       "      <td>0</td>\n",
       "      <td>2</td>\n",
       "    </tr>\n",
       "    <tr>\n",
       "      <th>1</th>\n",
       "      <td>1</td>\n",
       "      <td>6</td>\n",
       "    </tr>\n",
       "    <tr>\n",
       "      <th>2</th>\n",
       "      <td>2</td>\n",
       "      <td>9</td>\n",
       "    </tr>\n",
       "    <tr>\n",
       "      <th>3</th>\n",
       "      <td>3</td>\n",
       "      <td>33</td>\n",
       "    </tr>\n",
       "    <tr>\n",
       "      <th>4</th>\n",
       "      <td>4</td>\n",
       "      <td>49</td>\n",
       "    </tr>\n",
       "    <tr>\n",
       "      <th>5</th>\n",
       "      <td>5</td>\n",
       "      <td>66</td>\n",
       "    </tr>\n",
       "    <tr>\n",
       "      <th>6</th>\n",
       "      <td>6</td>\n",
       "      <td>52</td>\n",
       "    </tr>\n",
       "    <tr>\n",
       "      <th>7</th>\n",
       "      <td>7</td>\n",
       "      <td>37</td>\n",
       "    </tr>\n",
       "    <tr>\n",
       "      <th>8</th>\n",
       "      <td>8</td>\n",
       "      <td>18</td>\n",
       "    </tr>\n",
       "    <tr>\n",
       "      <th>9</th>\n",
       "      <td>9</td>\n",
       "      <td>11</td>\n",
       "    </tr>\n",
       "    <tr>\n",
       "      <th>10</th>\n",
       "      <td>10</td>\n",
       "      <td>4</td>\n",
       "    </tr>\n",
       "  </tbody>\n",
       "</table>\n",
       "</div>"
      ],
      "text/plain": [
       "    time  num_pat\n",
       "0      0        2\n",
       "1      1        6\n",
       "2      2        9\n",
       "3      3       33\n",
       "4      4       49\n",
       "5      5       66\n",
       "6      6       52\n",
       "7      7       37\n",
       "8      8       18\n",
       "9      9       11\n",
       "10    10        4"
      ]
     },
     "execution_count": 104,
     "metadata": {},
     "output_type": "execute_result"
    }
   ],
   "source": [
    "df = pd.DataFrame({'time':range(11), 'num_pat':[2,6,9,33,49,66,52,37,18,11,4]})\n",
    "df"
   ]
  },
  {
   "cell_type": "markdown",
   "metadata": {},
   "source": [
    "#### 6.64"
   ]
  },
  {
   "cell_type": "code",
   "execution_count": 105,
   "metadata": {},
   "outputs": [],
   "source": [
    "n = df.num_pat.sum()"
   ]
  },
  {
   "cell_type": "code",
   "execution_count": 106,
   "metadata": {},
   "outputs": [
    {
     "data": {
      "text/plain": [
       "5.2369337979094075"
      ]
     },
     "execution_count": 106,
     "metadata": {},
     "output_type": "execute_result"
    }
   ],
   "source": [
    "m = (df.time*df.num_pat).sum()/n\n",
    "m"
   ]
  },
  {
   "cell_type": "code",
   "execution_count": 107,
   "metadata": {},
   "outputs": [
    {
     "data": {
      "text/plain": [
       "1.8943235411471062"
      ]
     },
     "execution_count": 107,
     "metadata": {},
     "output_type": "execute_result"
    }
   ],
   "source": [
    "va = ((df.time-m)**2*df.num_pat).sum()/n\n",
    "s = np.sqrt(va)\n",
    "s"
   ]
  },
  {
   "cell_type": "code",
   "execution_count": 108,
   "metadata": {},
   "outputs": [
    {
     "data": {
      "text/plain": [
       "(5.2369337979094075, array([5.01684243, 5.45702517]))"
      ]
     },
     "execution_count": 108,
     "metadata": {},
     "output_type": "execute_result"
    }
   ],
   "source": [
    "calc_mean_ci2(m, s, n)"
   ]
  },
  {
   "cell_type": "code",
   "execution_count": 109,
   "metadata": {},
   "outputs": [
    {
     "data": {
      "text/plain": [
       "(1.8943235411471062, array([1.7509884 , 2.06341561]))"
      ]
     },
     "execution_count": 109,
     "metadata": {},
     "output_type": "execute_result"
    }
   ],
   "source": [
    "calc_std_ci2(s, n)"
   ]
  },
  {
   "cell_type": "markdown",
   "metadata": {},
   "source": [
    "#### 6.65"
   ]
  },
  {
   "cell_type": "code",
   "execution_count": 110,
   "metadata": {},
   "outputs": [
    {
     "data": {
      "text/plain": [
       "0.11611060441000243"
      ]
     },
     "execution_count": 110,
     "metadata": {},
     "output_type": "execute_result"
    }
   ],
   "source": [
    "1-norm.cdf(7.5, m, s)"
   ]
  },
  {
   "cell_type": "code",
   "execution_count": 111,
   "metadata": {},
   "outputs": [],
   "source": [
    "k8 = df[df.time>=8].num_pat.sum()"
   ]
  },
  {
   "cell_type": "markdown",
   "metadata": {},
   "source": [
    "#### 6.66"
   ]
  },
  {
   "cell_type": "code",
   "execution_count": 112,
   "metadata": {},
   "outputs": [
    {
     "data": {
      "text/plain": [
       "(0.11498257839721254, array([0.0780764 , 0.15188876]))"
      ]
     },
     "execution_count": 112,
     "metadata": {},
     "output_type": "execute_result"
    }
   ],
   "source": [
    "binomial_ci_napp(n, k8)"
   ]
  },
  {
   "cell_type": "markdown",
   "metadata": {},
   "source": [
    "## Environmental Health"
   ]
  },
  {
   "cell_type": "code",
   "execution_count": 113,
   "metadata": {
    "scrolled": true
   },
   "outputs": [
    {
     "data": {
      "text/html": [
       "<div>\n",
       "<style scoped>\n",
       "    .dataframe tbody tr th:only-of-type {\n",
       "        vertical-align: middle;\n",
       "    }\n",
       "\n",
       "    .dataframe tbody tr th {\n",
       "        vertical-align: top;\n",
       "    }\n",
       "\n",
       "    .dataframe thead th {\n",
       "        text-align: right;\n",
       "    }\n",
       "</style>\n",
       "<table border=\"1\" class=\"dataframe\">\n",
       "  <thead>\n",
       "    <tr style=\"text-align: right;\">\n",
       "      <th></th>\n",
       "      <th>id</th>\n",
       "      <th>area</th>\n",
       "      <th>ageyrs</th>\n",
       "      <th>sex</th>\n",
       "      <th>iqv_inf</th>\n",
       "      <th>iqv_comp</th>\n",
       "      <th>iqv_ar</th>\n",
       "      <th>iqv_ds</th>\n",
       "      <th>iqv_raw</th>\n",
       "      <th>iqp_pc</th>\n",
       "      <th>iqp_bd</th>\n",
       "      <th>iqp_oa</th>\n",
       "      <th>iqp_cod</th>\n",
       "      <th>iqp_raw</th>\n",
       "      <th>hh_index</th>\n",
       "      <th>iqv</th>\n",
       "      <th>iqp</th>\n",
       "      <th>iqf</th>\n",
       "      <th>iq_type</th>\n",
       "      <th>lead_grp</th>\n",
       "      <th>group</th>\n",
       "      <th>ld72</th>\n",
       "      <th>ld73</th>\n",
       "      <th>fst2yrs</th>\n",
       "      <th>totyrs</th>\n",
       "      <th>pica</th>\n",
       "      <th>colic</th>\n",
       "      <th>clumsi</th>\n",
       "      <th>irrit</th>\n",
       "      <th>convul</th>\n",
       "      <th>_2plat_r</th>\n",
       "      <th>_2plar_l</th>\n",
       "      <th>visrea_r</th>\n",
       "      <th>visrea_l</th>\n",
       "      <th>audrea_r</th>\n",
       "      <th>audrea_l</th>\n",
       "      <th>fwt_r</th>\n",
       "      <th>fwt_l</th>\n",
       "      <th>hyperact</th>\n",
       "      <th>maxfwt</th>\n",
       "    </tr>\n",
       "  </thead>\n",
       "  <tbody>\n",
       "    <tr>\n",
       "      <th>0</th>\n",
       "      <td>101</td>\n",
       "      <td>3</td>\n",
       "      <td>11.08</td>\n",
       "      <td>1</td>\n",
       "      <td>3</td>\n",
       "      <td>4</td>\n",
       "      <td>3</td>\n",
       "      <td>5</td>\n",
       "      <td>15</td>\n",
       "      <td>10</td>\n",
       "      <td>8</td>\n",
       "      <td>8</td>\n",
       "      <td>5</td>\n",
       "      <td>31</td>\n",
       "      <td>77</td>\n",
       "      <td>61</td>\n",
       "      <td>85</td>\n",
       "      <td>70</td>\n",
       "      <td>1</td>\n",
       "      <td>1</td>\n",
       "      <td>1</td>\n",
       "      <td>25</td>\n",
       "      <td>18</td>\n",
       "      <td>2</td>\n",
       "      <td>11</td>\n",
       "      <td>2</td>\n",
       "      <td>2</td>\n",
       "      <td>2</td>\n",
       "      <td>2</td>\n",
       "      <td>2</td>\n",
       "      <td>16</td>\n",
       "      <td>16</td>\n",
       "      <td>36</td>\n",
       "      <td>38</td>\n",
       "      <td>27</td>\n",
       "      <td>25</td>\n",
       "      <td>72</td>\n",
       "      <td>52</td>\n",
       "      <td>99</td>\n",
       "      <td>72</td>\n",
       "    </tr>\n",
       "    <tr>\n",
       "      <th>1</th>\n",
       "      <td>102</td>\n",
       "      <td>3</td>\n",
       "      <td>9.42</td>\n",
       "      <td>1</td>\n",
       "      <td>7</td>\n",
       "      <td>9</td>\n",
       "      <td>7</td>\n",
       "      <td>6</td>\n",
       "      <td>29</td>\n",
       "      <td>8</td>\n",
       "      <td>7</td>\n",
       "      <td>10</td>\n",
       "      <td>9</td>\n",
       "      <td>34</td>\n",
       "      <td>77</td>\n",
       "      <td>82</td>\n",
       "      <td>90</td>\n",
       "      <td>85</td>\n",
       "      <td>1</td>\n",
       "      <td>1</td>\n",
       "      <td>1</td>\n",
       "      <td>31</td>\n",
       "      <td>28</td>\n",
       "      <td>2</td>\n",
       "      <td>6</td>\n",
       "      <td>2</td>\n",
       "      <td>2</td>\n",
       "      <td>2</td>\n",
       "      <td>2</td>\n",
       "      <td>2</td>\n",
       "      <td>17</td>\n",
       "      <td>16</td>\n",
       "      <td>23</td>\n",
       "      <td>19</td>\n",
       "      <td>18</td>\n",
       "      <td>28</td>\n",
       "      <td>61</td>\n",
       "      <td>48</td>\n",
       "      <td>0</td>\n",
       "      <td>61</td>\n",
       "    </tr>\n",
       "    <tr>\n",
       "      <th>2</th>\n",
       "      <td>103</td>\n",
       "      <td>3</td>\n",
       "      <td>11.08</td>\n",
       "      <td>1</td>\n",
       "      <td>4</td>\n",
       "      <td>9</td>\n",
       "      <td>5</td>\n",
       "      <td>3</td>\n",
       "      <td>21</td>\n",
       "      <td>10</td>\n",
       "      <td>7</td>\n",
       "      <td>7</td>\n",
       "      <td>20</td>\n",
       "      <td>44</td>\n",
       "      <td>30</td>\n",
       "      <td>70</td>\n",
       "      <td>107</td>\n",
       "      <td>86</td>\n",
       "      <td>1</td>\n",
       "      <td>1</td>\n",
       "      <td>1</td>\n",
       "      <td>30</td>\n",
       "      <td>29</td>\n",
       "      <td>2</td>\n",
       "      <td>5</td>\n",
       "      <td>2</td>\n",
       "      <td>2</td>\n",
       "      <td>2</td>\n",
       "      <td>2</td>\n",
       "      <td>2</td>\n",
       "      <td>16</td>\n",
       "      <td>17</td>\n",
       "      <td>20</td>\n",
       "      <td>24</td>\n",
       "      <td>16</td>\n",
       "      <td>17</td>\n",
       "      <td>46</td>\n",
       "      <td>49</td>\n",
       "      <td>99</td>\n",
       "      <td>49</td>\n",
       "    </tr>\n",
       "    <tr>\n",
       "      <th>3</th>\n",
       "      <td>104</td>\n",
       "      <td>2</td>\n",
       "      <td>6.92</td>\n",
       "      <td>1</td>\n",
       "      <td>4</td>\n",
       "      <td>6</td>\n",
       "      <td>6</td>\n",
       "      <td>6</td>\n",
       "      <td>22</td>\n",
       "      <td>5</td>\n",
       "      <td>8</td>\n",
       "      <td>5</td>\n",
       "      <td>13</td>\n",
       "      <td>31</td>\n",
       "      <td>77</td>\n",
       "      <td>72</td>\n",
       "      <td>85</td>\n",
       "      <td>76</td>\n",
       "      <td>1</td>\n",
       "      <td>1</td>\n",
       "      <td>1</td>\n",
       "      <td>29</td>\n",
       "      <td>30</td>\n",
       "      <td>2</td>\n",
       "      <td>5</td>\n",
       "      <td>2</td>\n",
       "      <td>2</td>\n",
       "      <td>2</td>\n",
       "      <td>1</td>\n",
       "      <td>2</td>\n",
       "      <td>11</td>\n",
       "      <td>9</td>\n",
       "      <td>34</td>\n",
       "      <td>42</td>\n",
       "      <td>35</td>\n",
       "      <td>30</td>\n",
       "      <td>48</td>\n",
       "      <td>41</td>\n",
       "      <td>2</td>\n",
       "      <td>48</td>\n",
       "    </tr>\n",
       "    <tr>\n",
       "      <th>4</th>\n",
       "      <td>105</td>\n",
       "      <td>1</td>\n",
       "      <td>11.25</td>\n",
       "      <td>1</td>\n",
       "      <td>5</td>\n",
       "      <td>4</td>\n",
       "      <td>8</td>\n",
       "      <td>5</td>\n",
       "      <td>22</td>\n",
       "      <td>5</td>\n",
       "      <td>10</td>\n",
       "      <td>13</td>\n",
       "      <td>12</td>\n",
       "      <td>40</td>\n",
       "      <td>62</td>\n",
       "      <td>72</td>\n",
       "      <td>100</td>\n",
       "      <td>84</td>\n",
       "      <td>1</td>\n",
       "      <td>1</td>\n",
       "      <td>1</td>\n",
       "      <td>2</td>\n",
       "      <td>34</td>\n",
       "      <td>1</td>\n",
       "      <td>11</td>\n",
       "      <td>2</td>\n",
       "      <td>2</td>\n",
       "      <td>2</td>\n",
       "      <td>1</td>\n",
       "      <td>2</td>\n",
       "      <td>17</td>\n",
       "      <td>16</td>\n",
       "      <td>26</td>\n",
       "      <td>34</td>\n",
       "      <td>31</td>\n",
       "      <td>33</td>\n",
       "      <td>51</td>\n",
       "      <td>42</td>\n",
       "      <td>99</td>\n",
       "      <td>51</td>\n",
       "    </tr>\n",
       "    <tr>\n",
       "      <th>...</th>\n",
       "      <td>...</td>\n",
       "      <td>...</td>\n",
       "      <td>...</td>\n",
       "      <td>...</td>\n",
       "      <td>...</td>\n",
       "      <td>...</td>\n",
       "      <td>...</td>\n",
       "      <td>...</td>\n",
       "      <td>...</td>\n",
       "      <td>...</td>\n",
       "      <td>...</td>\n",
       "      <td>...</td>\n",
       "      <td>...</td>\n",
       "      <td>...</td>\n",
       "      <td>...</td>\n",
       "      <td>...</td>\n",
       "      <td>...</td>\n",
       "      <td>...</td>\n",
       "      <td>...</td>\n",
       "      <td>...</td>\n",
       "      <td>...</td>\n",
       "      <td>...</td>\n",
       "      <td>...</td>\n",
       "      <td>...</td>\n",
       "      <td>...</td>\n",
       "      <td>...</td>\n",
       "      <td>...</td>\n",
       "      <td>...</td>\n",
       "      <td>...</td>\n",
       "      <td>...</td>\n",
       "      <td>...</td>\n",
       "      <td>...</td>\n",
       "      <td>...</td>\n",
       "      <td>...</td>\n",
       "      <td>...</td>\n",
       "      <td>...</td>\n",
       "      <td>...</td>\n",
       "      <td>...</td>\n",
       "      <td>...</td>\n",
       "      <td>...</td>\n",
       "    </tr>\n",
       "    <tr>\n",
       "      <th>119</th>\n",
       "      <td>603</td>\n",
       "      <td>1</td>\n",
       "      <td>5.58</td>\n",
       "      <td>2</td>\n",
       "      <td>5</td>\n",
       "      <td>9</td>\n",
       "      <td>10</td>\n",
       "      <td>10</td>\n",
       "      <td>34</td>\n",
       "      <td>8</td>\n",
       "      <td>8</td>\n",
       "      <td>10</td>\n",
       "      <td>9</td>\n",
       "      <td>35</td>\n",
       "      <td>58</td>\n",
       "      <td>91</td>\n",
       "      <td>92</td>\n",
       "      <td>91</td>\n",
       "      <td>2</td>\n",
       "      <td>3</td>\n",
       "      <td>2</td>\n",
       "      <td>45</td>\n",
       "      <td>29</td>\n",
       "      <td>2</td>\n",
       "      <td>5</td>\n",
       "      <td>2</td>\n",
       "      <td>2</td>\n",
       "      <td>2</td>\n",
       "      <td>2</td>\n",
       "      <td>2</td>\n",
       "      <td>99</td>\n",
       "      <td>99</td>\n",
       "      <td>99</td>\n",
       "      <td>99</td>\n",
       "      <td>99</td>\n",
       "      <td>99</td>\n",
       "      <td>99</td>\n",
       "      <td>99</td>\n",
       "      <td>1</td>\n",
       "      <td>99</td>\n",
       "    </tr>\n",
       "    <tr>\n",
       "      <th>120</th>\n",
       "      <td>604</td>\n",
       "      <td>2</td>\n",
       "      <td>4.58</td>\n",
       "      <td>1</td>\n",
       "      <td>7</td>\n",
       "      <td>10</td>\n",
       "      <td>6</td>\n",
       "      <td>12</td>\n",
       "      <td>35</td>\n",
       "      <td>9</td>\n",
       "      <td>11</td>\n",
       "      <td>6</td>\n",
       "      <td>14</td>\n",
       "      <td>40</td>\n",
       "      <td>77</td>\n",
       "      <td>92</td>\n",
       "      <td>100</td>\n",
       "      <td>92</td>\n",
       "      <td>2</td>\n",
       "      <td>3</td>\n",
       "      <td>2</td>\n",
       "      <td>41</td>\n",
       "      <td>34</td>\n",
       "      <td>2</td>\n",
       "      <td>3</td>\n",
       "      <td>1</td>\n",
       "      <td>1</td>\n",
       "      <td>2</td>\n",
       "      <td>2</td>\n",
       "      <td>2</td>\n",
       "      <td>99</td>\n",
       "      <td>99</td>\n",
       "      <td>99</td>\n",
       "      <td>99</td>\n",
       "      <td>99</td>\n",
       "      <td>99</td>\n",
       "      <td>99</td>\n",
       "      <td>99</td>\n",
       "      <td>1</td>\n",
       "      <td>99</td>\n",
       "    </tr>\n",
       "    <tr>\n",
       "      <th>121</th>\n",
       "      <td>605</td>\n",
       "      <td>2</td>\n",
       "      <td>5.17</td>\n",
       "      <td>2</td>\n",
       "      <td>6</td>\n",
       "      <td>7</td>\n",
       "      <td>7</td>\n",
       "      <td>8</td>\n",
       "      <td>28</td>\n",
       "      <td>8</td>\n",
       "      <td>0</td>\n",
       "      <td>8</td>\n",
       "      <td>10</td>\n",
       "      <td>26</td>\n",
       "      <td>58</td>\n",
       "      <td>81</td>\n",
       "      <td>77</td>\n",
       "      <td>77</td>\n",
       "      <td>2</td>\n",
       "      <td>3</td>\n",
       "      <td>2</td>\n",
       "      <td>51</td>\n",
       "      <td>30</td>\n",
       "      <td>2</td>\n",
       "      <td>5</td>\n",
       "      <td>2</td>\n",
       "      <td>1</td>\n",
       "      <td>2</td>\n",
       "      <td>1</td>\n",
       "      <td>2</td>\n",
       "      <td>8</td>\n",
       "      <td>6</td>\n",
       "      <td>64</td>\n",
       "      <td>56</td>\n",
       "      <td>61</td>\n",
       "      <td>63</td>\n",
       "      <td>42</td>\n",
       "      <td>27</td>\n",
       "      <td>1</td>\n",
       "      <td>42</td>\n",
       "    </tr>\n",
       "    <tr>\n",
       "      <th>122</th>\n",
       "      <td>606</td>\n",
       "      <td>3</td>\n",
       "      <td>3.83</td>\n",
       "      <td>1</td>\n",
       "      <td>12</td>\n",
       "      <td>9</td>\n",
       "      <td>18</td>\n",
       "      <td>8</td>\n",
       "      <td>47</td>\n",
       "      <td>12</td>\n",
       "      <td>10</td>\n",
       "      <td>13</td>\n",
       "      <td>10</td>\n",
       "      <td>45</td>\n",
       "      <td>70</td>\n",
       "      <td>111</td>\n",
       "      <td>108</td>\n",
       "      <td>111</td>\n",
       "      <td>2</td>\n",
       "      <td>3</td>\n",
       "      <td>2</td>\n",
       "      <td>42</td>\n",
       "      <td>32</td>\n",
       "      <td>2</td>\n",
       "      <td>3</td>\n",
       "      <td>2</td>\n",
       "      <td>2</td>\n",
       "      <td>2</td>\n",
       "      <td>2</td>\n",
       "      <td>2</td>\n",
       "      <td>99</td>\n",
       "      <td>99</td>\n",
       "      <td>99</td>\n",
       "      <td>99</td>\n",
       "      <td>99</td>\n",
       "      <td>99</td>\n",
       "      <td>99</td>\n",
       "      <td>99</td>\n",
       "      <td>0</td>\n",
       "      <td>99</td>\n",
       "    </tr>\n",
       "    <tr>\n",
       "      <th>123</th>\n",
       "      <td>607</td>\n",
       "      <td>1</td>\n",
       "      <td>3.92</td>\n",
       "      <td>1</td>\n",
       "      <td>8</td>\n",
       "      <td>4</td>\n",
       "      <td>11</td>\n",
       "      <td>1</td>\n",
       "      <td>24</td>\n",
       "      <td>13</td>\n",
       "      <td>7</td>\n",
       "      <td>7</td>\n",
       "      <td>4</td>\n",
       "      <td>31</td>\n",
       "      <td>73</td>\n",
       "      <td>75</td>\n",
       "      <td>85</td>\n",
       "      <td>78</td>\n",
       "      <td>2</td>\n",
       "      <td>3</td>\n",
       "      <td>2</td>\n",
       "      <td>50</td>\n",
       "      <td>36</td>\n",
       "      <td>1</td>\n",
       "      <td>4</td>\n",
       "      <td>2</td>\n",
       "      <td>2</td>\n",
       "      <td>2</td>\n",
       "      <td>1</td>\n",
       "      <td>2</td>\n",
       "      <td>99</td>\n",
       "      <td>99</td>\n",
       "      <td>99</td>\n",
       "      <td>99</td>\n",
       "      <td>99</td>\n",
       "      <td>99</td>\n",
       "      <td>99</td>\n",
       "      <td>99</td>\n",
       "      <td>1</td>\n",
       "      <td>99</td>\n",
       "    </tr>\n",
       "  </tbody>\n",
       "</table>\n",
       "<p>124 rows × 40 columns</p>\n",
       "</div>"
      ],
      "text/plain": [
       "      id  area  ageyrs  sex  iqv_inf  iqv_comp  iqv_ar  iqv_ds  iqv_raw  \\\n",
       "0    101     3   11.08    1        3         4       3       5       15   \n",
       "1    102     3    9.42    1        7         9       7       6       29   \n",
       "2    103     3   11.08    1        4         9       5       3       21   \n",
       "3    104     2    6.92    1        4         6       6       6       22   \n",
       "4    105     1   11.25    1        5         4       8       5       22   \n",
       "..   ...   ...     ...  ...      ...       ...     ...     ...      ...   \n",
       "119  603     1    5.58    2        5         9      10      10       34   \n",
       "120  604     2    4.58    1        7        10       6      12       35   \n",
       "121  605     2    5.17    2        6         7       7       8       28   \n",
       "122  606     3    3.83    1       12         9      18       8       47   \n",
       "123  607     1    3.92    1        8         4      11       1       24   \n",
       "\n",
       "     iqp_pc  iqp_bd  iqp_oa  iqp_cod  iqp_raw  hh_index  iqv  iqp  iqf  \\\n",
       "0        10       8       8        5       31        77   61   85   70   \n",
       "1         8       7      10        9       34        77   82   90   85   \n",
       "2        10       7       7       20       44        30   70  107   86   \n",
       "3         5       8       5       13       31        77   72   85   76   \n",
       "4         5      10      13       12       40        62   72  100   84   \n",
       "..      ...     ...     ...      ...      ...       ...  ...  ...  ...   \n",
       "119       8       8      10        9       35        58   91   92   91   \n",
       "120       9      11       6       14       40        77   92  100   92   \n",
       "121       8       0       8       10       26        58   81   77   77   \n",
       "122      12      10      13       10       45        70  111  108  111   \n",
       "123      13       7       7        4       31        73   75   85   78   \n",
       "\n",
       "     iq_type  lead_grp  group  ld72  ld73  fst2yrs  totyrs  pica  colic  \\\n",
       "0          1         1      1    25    18        2      11     2      2   \n",
       "1          1         1      1    31    28        2       6     2      2   \n",
       "2          1         1      1    30    29        2       5     2      2   \n",
       "3          1         1      1    29    30        2       5     2      2   \n",
       "4          1         1      1     2    34        1      11     2      2   \n",
       "..       ...       ...    ...   ...   ...      ...     ...   ...    ...   \n",
       "119        2         3      2    45    29        2       5     2      2   \n",
       "120        2         3      2    41    34        2       3     1      1   \n",
       "121        2         3      2    51    30        2       5     2      1   \n",
       "122        2         3      2    42    32        2       3     2      2   \n",
       "123        2         3      2    50    36        1       4     2      2   \n",
       "\n",
       "     clumsi  irrit  convul  _2plat_r  _2plar_l  visrea_r  visrea_l  audrea_r  \\\n",
       "0         2      2       2        16        16        36        38        27   \n",
       "1         2      2       2        17        16        23        19        18   \n",
       "2         2      2       2        16        17        20        24        16   \n",
       "3         2      1       2        11         9        34        42        35   \n",
       "4         2      1       2        17        16        26        34        31   \n",
       "..      ...    ...     ...       ...       ...       ...       ...       ...   \n",
       "119       2      2       2        99        99        99        99        99   \n",
       "120       2      2       2        99        99        99        99        99   \n",
       "121       2      1       2         8         6        64        56        61   \n",
       "122       2      2       2        99        99        99        99        99   \n",
       "123       2      1       2        99        99        99        99        99   \n",
       "\n",
       "     audrea_l  fwt_r  fwt_l  hyperact  maxfwt  \n",
       "0          25     72     52        99      72  \n",
       "1          28     61     48         0      61  \n",
       "2          17     46     49        99      49  \n",
       "3          30     48     41         2      48  \n",
       "4          33     51     42        99      51  \n",
       "..        ...    ...    ...       ...     ...  \n",
       "119        99     99     99         1      99  \n",
       "120        99     99     99         1      99  \n",
       "121        63     42     27         1      42  \n",
       "122        99     99     99         0      99  \n",
       "123        99     99     99         1      99  \n",
       "\n",
       "[124 rows x 40 columns]"
      ]
     },
     "execution_count": 113,
     "metadata": {},
     "output_type": "execute_result"
    }
   ],
   "source": [
    "df = pd.read_csv('data/LEAD.DAT.txt').clean_names()\n",
    "df"
   ]
  },
  {
   "cell_type": "markdown",
   "metadata": {},
   "source": [
    "#### 6.67"
   ]
  },
  {
   "cell_type": "code",
   "execution_count": 114,
   "metadata": {
    "scrolled": true
   },
   "outputs": [
    {
     "data": {
      "text/plain": [
       "<AxesSubplot:xlabel='lead_grp', ylabel='iqv'>"
      ]
     },
     "execution_count": 114,
     "metadata": {},
     "output_type": "execute_result"
    },
    {
     "data": {
      "image/png": "[encoded data removed]",
      "text/plain": [
       "<Figure size 432x288 with 1 Axes>"
      ]
     },
     "metadata": {
      "needs_background": "light"
     },
     "output_type": "display_data"
    }
   ],
   "source": [
    "sns.boxplot(data=df, y='iqv', x='lead_grp')"
   ]
  },
  {
   "cell_type": "code",
   "execution_count": 115,
   "metadata": {
    "scrolled": false
   },
   "outputs": [
    {
     "data": {
      "text/plain": [
       "lead_grp   \n",
       "1         0                                 85.141026\n",
       "          1       [81.82982464914127, 88.45222663291]\n",
       "2         0                                 84.333333\n",
       "          1    [79.87900216165738, 88.78766450500927]\n",
       "3         0                                 83.318182\n",
       "          1    [77.63462912534598, 89.00173451101764]\n",
       "Name: iqv, dtype: object"
      ]
     },
     "execution_count": 115,
     "metadata": {},
     "output_type": "execute_result"
    }
   ],
   "source": [
    "df.groupby('lead_grp').iqv.apply(lambda x: pd.Series(calc_mean_ci(x)))"
   ]
  },
  {
   "cell_type": "code",
   "execution_count": 116,
   "metadata": {
    "scrolled": true
   },
   "outputs": [
    {
     "data": {
      "text/plain": [
       "lead_grp\n",
       "1    14.686087\n",
       "2    10.548714\n",
       "3    12.818834\n",
       "Name: iqv, dtype: float64"
      ]
     },
     "execution_count": 116,
     "metadata": {},
     "output_type": "execute_result"
    }
   ],
   "source": [
    "df.groupby('lead_grp').iqv.std()"
   ]
  },
  {
   "cell_type": "markdown",
   "metadata": {},
   "source": [
    "#### 6.68"
   ]
  },
  {
   "cell_type": "code",
   "execution_count": 117,
   "metadata": {
    "scrolled": true
   },
   "outputs": [
    {
     "data": {
      "text/plain": [
       "<AxesSubplot:xlabel='lead_grp', ylabel='iqp'>"
      ]
     },
     "execution_count": 117,
     "metadata": {},
     "output_type": "execute_result"
    },
    {
     "data": {
      "image/png": "[encoded data removed]",
      "text/plain": [
       "<Figure size 432x288 with 1 Axes>"
      ]
     },
     "metadata": {
      "needs_background": "light"
     },
     "output_type": "display_data"
    }
   ],
   "source": [
    "sns.boxplot(data=df, y='iqp', x='lead_grp')"
   ]
  },
  {
   "cell_type": "code",
   "execution_count": 118,
   "metadata": {
    "scrolled": false
   },
   "outputs": [
    {
     "data": {
      "text/plain": [
       "lead_grp   \n",
       "1         0                                 102.705128\n",
       "          1    [98.92030047441837, 106.48995593583804]\n",
       "2         0                                  95.666667\n",
       "          1    [90.87688166898407, 100.45645166434927]\n",
       "3         0                                  94.136364\n",
       "          1    [87.27403973200813, 100.99868754071915]\n",
       "Name: iqp, dtype: object"
      ]
     },
     "execution_count": 118,
     "metadata": {},
     "output_type": "execute_result"
    }
   ],
   "source": [
    "df.groupby('lead_grp').iqp.apply(lambda x: pd.Series(calc_mean_ci(x)))"
   ]
  },
  {
   "cell_type": "code",
   "execution_count": 119,
   "metadata": {
    "scrolled": false
   },
   "outputs": [
    {
     "data": {
      "text/plain": [
       "lead_grp\n",
       "1    16.786752\n",
       "2    11.343133\n",
       "3    15.477466\n",
       "Name: iqp, dtype: float64"
      ]
     },
     "execution_count": 119,
     "metadata": {},
     "output_type": "execute_result"
    }
   ],
   "source": [
    "df.groupby('lead_grp').iqp.std()"
   ]
  },
  {
   "cell_type": "markdown",
   "metadata": {},
   "source": [
    "#### 6.69"
   ]
  },
  {
   "cell_type": "code",
   "execution_count": 120,
   "metadata": {
    "scrolled": true
   },
   "outputs": [
    {
     "data": {
      "text/plain": [
       "<AxesSubplot:xlabel='lead_grp', ylabel='iqf'>"
      ]
     },
     "execution_count": 120,
     "metadata": {},
     "output_type": "execute_result"
    },
    {
     "data": {
      "image/png": "[encoded data removed]",
      "text/plain": [
       "<Figure size 432x288 with 1 Axes>"
      ]
     },
     "metadata": {
      "needs_background": "light"
     },
     "output_type": "display_data"
    }
   ],
   "source": [
    "sns.boxplot(data=df, y='iqf', x='lead_grp')"
   ]
  },
  {
   "cell_type": "code",
   "execution_count": 121,
   "metadata": {
    "scrolled": false
   },
   "outputs": [
    {
     "data": {
      "text/plain": [
       "lead_grp   \n",
       "1         0                                 92.884615\n",
       "          1     [89.42496251844557, 96.3442682507852]\n",
       "2         0                                     88.75\n",
       "          1    [84.44689741977635, 93.05310258022364]\n",
       "3         0                                 87.227273\n",
       "          1    [80.89027639301659, 93.56426906152888]\n",
       "Name: iqf, dtype: object"
      ]
     },
     "execution_count": 121,
     "metadata": {},
     "output_type": "execute_result"
    }
   ],
   "source": [
    "df.groupby('lead_grp').iqf.apply(lambda x: pd.Series(calc_mean_ci(x)))"
   ]
  },
  {
   "cell_type": "code",
   "execution_count": 122,
   "metadata": {
    "scrolled": false
   },
   "outputs": [
    {
     "data": {
      "text/plain": [
       "lead_grp\n",
       "1    15.344512\n",
       "2    10.190575\n",
       "3    14.292628\n",
       "Name: iqf, dtype: float64"
      ]
     },
     "execution_count": 122,
     "metadata": {},
     "output_type": "execute_result"
    }
   ],
   "source": [
    "df.groupby('lead_grp').iqf.std()"
   ]
  },
  {
   "cell_type": "markdown",
   "metadata": {},
   "source": [
    "## Cardiology"
   ]
  },
  {
   "cell_type": "code",
   "execution_count": 123,
   "metadata": {},
   "outputs": [
    {
     "data": {
      "text/html": [
       "<div>\n",
       "<style scoped>\n",
       "    .dataframe tbody tr th:only-of-type {\n",
       "        vertical-align: middle;\n",
       "    }\n",
       "\n",
       "    .dataframe tbody tr th {\n",
       "        vertical-align: top;\n",
       "    }\n",
       "\n",
       "    .dataframe thead th {\n",
       "        text-align: right;\n",
       "    }\n",
       "</style>\n",
       "<table border=\"1\" class=\"dataframe\">\n",
       "  <thead>\n",
       "    <tr style=\"text-align: right;\">\n",
       "      <th></th>\n",
       "      <th>trtgrp</th>\n",
       "      <th>bashrtrt</th>\n",
       "      <th>lv1hrtrt</th>\n",
       "      <th>lv2hrtrt</th>\n",
       "      <th>lv3hrtrt</th>\n",
       "      <th>bassys</th>\n",
       "      <th>lv1sys</th>\n",
       "      <th>lv2sys</th>\n",
       "      <th>lv3sys</th>\n",
       "      <th>id</th>\n",
       "    </tr>\n",
       "    <tr>\n",
       "      <th>id</th>\n",
       "      <th></th>\n",
       "      <th></th>\n",
       "      <th></th>\n",
       "      <th></th>\n",
       "      <th></th>\n",
       "      <th></th>\n",
       "      <th></th>\n",
       "      <th></th>\n",
       "      <th></th>\n",
       "      <th></th>\n",
       "    </tr>\n",
       "  </thead>\n",
       "  <tbody>\n",
       "    <tr>\n",
       "      <th>2</th>\n",
       "      <td>N</td>\n",
       "      <td>52</td>\n",
       "      <td>64</td>\n",
       "      <td>98</td>\n",
       "      <td>999</td>\n",
       "      <td>180</td>\n",
       "      <td>156</td>\n",
       "      <td>160</td>\n",
       "      <td>140</td>\n",
       "      <td>2</td>\n",
       "    </tr>\n",
       "    <tr>\n",
       "      <th>10</th>\n",
       "      <td>N</td>\n",
       "      <td>64</td>\n",
       "      <td>60</td>\n",
       "      <td>999</td>\n",
       "      <td>999</td>\n",
       "      <td>140</td>\n",
       "      <td>120</td>\n",
       "      <td>999</td>\n",
       "      <td>999</td>\n",
       "      <td>10</td>\n",
       "    </tr>\n",
       "    <tr>\n",
       "      <th>29</th>\n",
       "      <td>P</td>\n",
       "      <td>58</td>\n",
       "      <td>58</td>\n",
       "      <td>58</td>\n",
       "      <td>58</td>\n",
       "      <td>999</td>\n",
       "      <td>999</td>\n",
       "      <td>999</td>\n",
       "      <td>999</td>\n",
       "      <td>29</td>\n",
       "    </tr>\n",
       "    <tr>\n",
       "      <th>6</th>\n",
       "      <td>P</td>\n",
       "      <td>105</td>\n",
       "      <td>120</td>\n",
       "      <td>999</td>\n",
       "      <td>999</td>\n",
       "      <td>142</td>\n",
       "      <td>150</td>\n",
       "      <td>999</td>\n",
       "      <td>999</td>\n",
       "      <td>6</td>\n",
       "    </tr>\n",
       "    <tr>\n",
       "      <th>1</th>\n",
       "      <td>P</td>\n",
       "      <td>60</td>\n",
       "      <td>70</td>\n",
       "      <td>64</td>\n",
       "      <td>999</td>\n",
       "      <td>128</td>\n",
       "      <td>110</td>\n",
       "      <td>120</td>\n",
       "      <td>999</td>\n",
       "      <td>1</td>\n",
       "    </tr>\n",
       "  </tbody>\n",
       "</table>\n",
       "</div>"
      ],
      "text/plain": [
       "   trtgrp  bashrtrt  lv1hrtrt  lv2hrtrt  lv3hrtrt  bassys  lv1sys  lv2sys  \\\n",
       "id                                                                          \n",
       "2       N        52        64        98       999     180     156     160   \n",
       "10      N        64        60       999       999     140     120     999   \n",
       "29      P        58        58        58        58     999     999     999   \n",
       "6       P       105       120       999       999     142     150     999   \n",
       "1       P        60        70        64       999     128     110     120   \n",
       "\n",
       "    lv3sys  id  \n",
       "id              \n",
       "2      140   2  \n",
       "10     999  10  \n",
       "29     999  29  \n",
       "6      999   6  \n",
       "1      999   1  "
      ]
     },
     "execution_count": 123,
     "metadata": {},
     "output_type": "execute_result"
    }
   ],
   "source": [
    "nifed_df = pd.read_csv('data/NIFED.DAT.txt').clean_names().set_index('id')\n",
    "nifed_df.trtgrp = nifed_df.trtgrp.str.strip(\"'\")\n",
    "nifed_df[\"id\"] = nifed_df.index\n",
    "nifed_df.sample(5)"
   ]
  },
  {
   "cell_type": "markdown",
   "metadata": {},
   "source": [
    "#### 6.70"
   ]
  },
  {
   "cell_type": "code",
   "execution_count": 124,
   "metadata": {},
   "outputs": [],
   "source": [
    "nifed_df['diff1Hrtrt'] = nifed_df.bashrtrt-nifed_df.lv1hrtrt\n",
    "nifed_df['diff1Sys'] = nifed_df.bassys-nifed_df.lv1sys"
   ]
  },
  {
   "cell_type": "code",
   "execution_count": 125,
   "metadata": {},
   "outputs": [
    {
     "data": {
      "text/plain": [
       "trtgrp   \n",
       "N       0                                     -6.111111\n",
       "        1    [-11.414910195099942, -0.8073120271222791]\n",
       "P       0                                        -2.875\n",
       "        1      [-7.914706417744975, 2.1647064177449753]\n",
       "Name: diff1Hrtrt, dtype: object"
      ]
     },
     "execution_count": 125,
     "metadata": {},
     "output_type": "execute_result"
    }
   ],
   "source": [
    "nifed_df.groupby('trtgrp').diff1Hrtrt.apply(lambda x: pd.Series(calc_mean_ci(x)))"
   ]
  },
  {
   "cell_type": "code",
   "execution_count": 126,
   "metadata": {},
   "outputs": [
    {
     "data": {
      "text/plain": [
       "<AxesSubplot:xlabel='trtgrp', ylabel='diff1Hrtrt'>"
      ]
     },
     "execution_count": 126,
     "metadata": {},
     "output_type": "execute_result"
    },
    {
     "data": {
      "image/png": "[encoded data removed]",
      "text/plain": [
       "<Figure size 432x288 with 1 Axes>"
      ]
     },
     "metadata": {
      "needs_background": "light"
     },
     "output_type": "display_data"
    }
   ],
   "source": [
    "sns.boxplot(data=nifed_df, y='diff1Hrtrt', x='trtgrp', showmeans=True)"
   ]
  },
  {
   "cell_type": "code",
   "execution_count": 127,
   "metadata": {
    "scrolled": true
   },
   "outputs": [
    {
     "data": {
      "text/plain": [
       "trtgrp   \n",
       "N       0                                    7.944444\n",
       "        1    [-1.3518854509904923, 17.24077433987938]\n",
       "P       0                                       8.375\n",
       "        1    [-5.373641266661805, 22.123641266661807]\n",
       "Name: diff1Sys, dtype: object"
      ]
     },
     "execution_count": 127,
     "metadata": {},
     "output_type": "execute_result"
    }
   ],
   "source": [
    "nifed_df.groupby('trtgrp').diff1Sys.apply(lambda x: pd.Series(calc_mean_ci(x)))"
   ]
  },
  {
   "cell_type": "code",
   "execution_count": 128,
   "metadata": {},
   "outputs": [
    {
     "data": {
      "text/plain": [
       "<AxesSubplot:xlabel='trtgrp', ylabel='diff1Sys'>"
      ]
     },
     "execution_count": 128,
     "metadata": {},
     "output_type": "execute_result"
    },
    {
     "data": {
      "image/png": "[encoded data removed]",
      "text/plain": [
       "<Figure size 432x288 with 1 Axes>"
      ]
     },
     "metadata": {
      "needs_background": "light"
     },
     "output_type": "display_data"
    }
   ],
   "source": [
    "sns.boxplot(data=nifed_df, y='diff1Sys', x='trtgrp', showmeans=True)"
   ]
  },
  {
   "cell_type": "markdown",
   "metadata": {},
   "source": [
    "#### 6.71"
   ]
  },
  {
   "cell_type": "code",
   "execution_count": 129,
   "metadata": {},
   "outputs": [],
   "source": [
    "nifed_df['diff2Hrtrt'] = nifed_df.bashrtrt-nifed_df.lv2hrtrt\n",
    "nifed_df['diff2Sys'] = nifed_df.bassys-nifed_df.lv2sys"
   ]
  },
  {
   "cell_type": "code",
   "execution_count": 130,
   "metadata": {},
   "outputs": [
    {
     "data": {
      "text/plain": [
       "trtgrp   \n",
       "N       0                                  -523.722222\n",
       "        1     [-753.2291828258785, -294.2152616185659]\n",
       "P       0                                    -285.6875\n",
       "        1    [-516.1898094437754, -55.185190556224654]\n",
       "Name: diff2Hrtrt, dtype: object"
      ]
     },
     "execution_count": 130,
     "metadata": {},
     "output_type": "execute_result"
    }
   ],
   "source": [
    "nifed_df.groupby('trtgrp').diff2Hrtrt.apply(lambda x: pd.Series(calc_mean_ci(x)))"
   ]
  },
  {
   "cell_type": "code",
   "execution_count": 131,
   "metadata": {},
   "outputs": [
    {
     "data": {
      "text/plain": [
       "<AxesSubplot:xlabel='trtgrp', ylabel='diff2Hrtrt'>"
      ]
     },
     "execution_count": 131,
     "metadata": {},
     "output_type": "execute_result"
    },
    {
     "data": {
      "image/png": "[encoded data removed]",
      "text/plain": [
       "<Figure size 432x288 with 1 Axes>"
      ]
     },
     "metadata": {
      "needs_background": "light"
     },
     "output_type": "display_data"
    }
   ],
   "source": [
    "sns.boxplot(data=nifed_df, y='diff2Hrtrt', x='trtgrp', showmeans=True)"
   ]
  },
  {
   "cell_type": "code",
   "execution_count": 132,
   "metadata": {
    "scrolled": true
   },
   "outputs": [
    {
     "data": {
      "text/plain": [
       "trtgrp   \n",
       "N       0                                 -463.388889\n",
       "        1    [-681.3537931186014, -245.4239846591765]\n",
       "P       0                                   -252.3125\n",
       "        1    [-468.8328516343705, -35.79214836562949]\n",
       "Name: diff2Sys, dtype: object"
      ]
     },
     "execution_count": 132,
     "metadata": {},
     "output_type": "execute_result"
    }
   ],
   "source": [
    "nifed_df.groupby('trtgrp').diff2Sys.apply(lambda x: pd.Series(calc_mean_ci(x)))"
   ]
  },
  {
   "cell_type": "code",
   "execution_count": 133,
   "metadata": {
    "scrolled": false
   },
   "outputs": [
    {
     "data": {
      "text/plain": [
       "<AxesSubplot:xlabel='trtgrp', ylabel='diff2Sys'>"
      ]
     },
     "execution_count": 133,
     "metadata": {},
     "output_type": "execute_result"
    },
    {
     "data": {
      "image/png": "[encoded data removed]",
      "text/plain": [
       "<Figure size 432x288 with 1 Axes>"
      ]
     },
     "metadata": {
      "needs_background": "light"
     },
     "output_type": "display_data"
    }
   ],
   "source": [
    "sns.boxplot(data=nifed_df, y='diff2Sys', x='trtgrp', showmeans=True)"
   ]
  },
  {
   "cell_type": "markdown",
   "metadata": {},
   "source": [
    "#### 6.72"
   ]
  },
  {
   "cell_type": "code",
   "execution_count": 134,
   "metadata": {},
   "outputs": [],
   "source": [
    "nifed_df['diff3Hrtrt'] = nifed_df.bashrtrt-nifed_df.lv3hrtrt\n",
    "nifed_df['diff3Sys'] = nifed_df.bassys-nifed_df.lv3sys"
   ]
  },
  {
   "cell_type": "code",
   "execution_count": 135,
   "metadata": {},
   "outputs": [
    {
     "data": {
      "text/plain": [
       "trtgrp   \n",
       "N       0                                  -569.722222\n",
       "        1      [-796.90399399791, -342.54045044653435]\n",
       "P       0                                       -400.5\n",
       "        1    [-649.6852008763512, -151.31479912364873]\n",
       "Name: diff3Hrtrt, dtype: object"
      ]
     },
     "execution_count": 135,
     "metadata": {},
     "output_type": "execute_result"
    }
   ],
   "source": [
    "nifed_df.groupby('trtgrp').diff3Hrtrt.apply(lambda x: pd.Series(calc_mean_ci(x)))"
   ]
  },
  {
   "cell_type": "code",
   "execution_count": 136,
   "metadata": {},
   "outputs": [
    {
     "data": {
      "text/plain": [
       "<AxesSubplot:xlabel='trtgrp', ylabel='diff3Hrtrt'>"
      ]
     },
     "execution_count": 136,
     "metadata": {},
     "output_type": "execute_result"
    },
    {
     "data": {
      "image/png": "[encoded data removed]",
      "text/plain": [
       "<Figure size 432x288 with 1 Axes>"
      ]
     },
     "metadata": {
      "needs_background": "light"
     },
     "output_type": "display_data"
    }
   ],
   "source": [
    "sns.boxplot(data=nifed_df, y='diff3Hrtrt', x='trtgrp', showmeans=True)"
   ]
  },
  {
   "cell_type": "code",
   "execution_count": 137,
   "metadata": {
    "scrolled": true
   },
   "outputs": [
    {
     "data": {
      "text/plain": [
       "trtgrp   \n",
       "N       0                                  -463.833333\n",
       "        1    [-679.0909746738008, -248.57569199286587]\n",
       "P       0                                    -364.6875\n",
       "        1     [-595.441870652797, -133.93312934720308]\n",
       "Name: diff3Sys, dtype: object"
      ]
     },
     "execution_count": 137,
     "metadata": {},
     "output_type": "execute_result"
    }
   ],
   "source": [
    "nifed_df.groupby('trtgrp').diff3Sys.apply(lambda x: pd.Series(calc_mean_ci(x)))"
   ]
  },
  {
   "cell_type": "code",
   "execution_count": 138,
   "metadata": {},
   "outputs": [
    {
     "data": {
      "text/plain": [
       "<AxesSubplot:xlabel='trtgrp', ylabel='diff3Sys'>"
      ]
     },
     "execution_count": 138,
     "metadata": {},
     "output_type": "execute_result"
    },
    {
     "data": {
      "image/png": "[encoded data removed]",
      "text/plain": [
       "<Figure size 432x288 with 1 Axes>"
      ]
     },
     "metadata": {
      "needs_background": "light"
     },
     "output_type": "display_data"
    }
   ],
   "source": [
    "sns.boxplot(data=nifed_df, y='diff3Sys', x='trtgrp', showmeans=True)"
   ]
  },
  {
   "cell_type": "markdown",
   "metadata": {},
   "source": [
    "#### 6.73"
   ]
  },
  {
   "cell_type": "code",
   "execution_count": 139,
   "metadata": {},
   "outputs": [],
   "source": [
    "nifed_df['lastHrtrt'] = nifed_df.loc[:,'lv1hrtrt':'lv3hrtrt'].ffill(axis=1).iloc[:, -1]\n",
    "nifed_df['lastSys'] = nifed_df.loc[:,'lv1sys':'lv3sys'].ffill(axis=1).iloc[:, -1]"
   ]
  },
  {
   "cell_type": "code",
   "execution_count": 140,
   "metadata": {},
   "outputs": [],
   "source": [
    "nifed_df['diffLastHrtrt'] = nifed_df.bashrtrt-nifed_df.lastHrtrt\n",
    "nifed_df['diffLastSys'] = nifed_df.bassys-nifed_df.lastSys"
   ]
  },
  {
   "cell_type": "code",
   "execution_count": 141,
   "metadata": {},
   "outputs": [
    {
     "data": {
      "text/plain": [
       "trtgrp   \n",
       "N       0                                 641.444444\n",
       "        1     [412.0090278098535, 870.8798610790353]\n",
       "P       0                                   477.3125\n",
       "        1    [224.05137555311777, 730.5736244468823]\n",
       "Name: lastHrtrt, dtype: object"
      ]
     },
     "execution_count": 141,
     "metadata": {},
     "output_type": "execute_result"
    }
   ],
   "source": [
    "nifed_df.groupby('trtgrp').lastHrtrt.apply(lambda x: pd.Series(calc_mean_ci(x)))"
   ]
  },
  {
   "cell_type": "code",
   "execution_count": 142,
   "metadata": {},
   "outputs": [
    {
     "data": {
      "text/plain": [
       "<AxesSubplot:xlabel='trtgrp', ylabel='lastHrtrt'>"
      ]
     },
     "execution_count": 142,
     "metadata": {},
     "output_type": "execute_result"
    },
    {
     "data": {
      "image/png": "[encoded data removed]",
      "text/plain": [
       "<Figure size 432x288 with 1 Axes>"
      ]
     },
     "metadata": {
      "needs_background": "light"
     },
     "output_type": "display_data"
    }
   ],
   "source": [
    "sns.boxplot(data=nifed_df, y='lastHrtrt', x='trtgrp', showmeans=True)"
   ]
  },
  {
   "cell_type": "code",
   "execution_count": 143,
   "metadata": {
    "scrolled": true
   },
   "outputs": [
    {
     "data": {
      "text/plain": [
       "trtgrp   \n",
       "N       0                                  -463.833333\n",
       "        1    [-679.0909746738008, -248.57569199286587]\n",
       "P       0                                    -364.6875\n",
       "        1     [-595.441870652797, -133.93312934720308]\n",
       "Name: diffLastSys, dtype: object"
      ]
     },
     "execution_count": 143,
     "metadata": {},
     "output_type": "execute_result"
    }
   ],
   "source": [
    "nifed_df.groupby('trtgrp').diffLastSys.apply(lambda x: pd.Series(calc_mean_ci(x)))"
   ]
  },
  {
   "cell_type": "code",
   "execution_count": 144,
   "metadata": {
    "scrolled": true
   },
   "outputs": [
    {
     "data": {
      "text/plain": [
       "<AxesSubplot:xlabel='trtgrp', ylabel='diffLastSys'>"
      ]
     },
     "execution_count": 144,
     "metadata": {},
     "output_type": "execute_result"
    },
    {
     "data": {
      "image/png": "[encoded data removed]",
      "text/plain": [
       "<Figure size 432x288 with 1 Axes>"
      ]
     },
     "metadata": {
      "needs_background": "light"
     },
     "output_type": "display_data"
    }
   ],
   "source": [
    "sns.boxplot(data=nifed_df, y='diffLastSys', x='trtgrp', showmeans=True)"
   ]
  },
  {
   "cell_type": "markdown",
   "metadata": {},
   "source": [
    "#### 6.74"
   ]
  },
  {
   "cell_type": "markdown",
   "metadata": {},
   "source": [
    "?"
   ]
  },
  {
   "cell_type": "markdown",
   "metadata": {},
   "source": [
    "## Occupational Health"
   ]
  },
  {
   "cell_type": "markdown",
   "metadata": {},
   "source": [
    "#### 6.75"
   ]
  },
  {
   "cell_type": "code",
   "execution_count": 145,
   "metadata": {},
   "outputs": [],
   "source": [
    "n_death = 6\n",
    "n_deaths_expected = 1.8"
   ]
  },
  {
   "cell_type": "code",
   "execution_count": 146,
   "metadata": {
    "scrolled": false
   },
   "outputs": [
    {
     "data": {
      "text/plain": [
       "(6, array([ 2.20187988, 13.05944824]))"
      ]
     },
     "execution_count": 146,
     "metadata": {},
     "output_type": "execute_result"
    }
   ],
   "source": [
    "calc_possion_ci(n_death, 0.05)"
   ]
  },
  {
   "cell_type": "markdown",
   "metadata": {},
   "source": [
    "Yes, observed number in tire workers is excessive because 95% CI do not include expected rate."
   ]
  },
  {
   "cell_type": "markdown",
   "metadata": {},
   "source": [
    "#### 6.76"
   ]
  },
  {
   "cell_type": "code",
   "execution_count": 147,
   "metadata": {},
   "outputs": [],
   "source": [
    "n_death = 4\n",
    "n_deaths_expected = 2.5"
   ]
  },
  {
   "cell_type": "code",
   "execution_count": 148,
   "metadata": {
    "scrolled": false
   },
   "outputs": [
    {
     "data": {
      "text/plain": [
       "(4, array([ 1.08984375, 10.24160156]))"
      ]
     },
     "execution_count": 148,
     "metadata": {},
     "output_type": "execute_result"
    }
   ],
   "source": [
    "calc_possion_ci(n_death)"
   ]
  },
  {
   "cell_type": "markdown",
   "metadata": {},
   "source": [
    "No, observed number in tre workers is excessive because 95% CI include expected rate."
   ]
  },
  {
   "cell_type": "markdown",
   "metadata": {},
   "source": [
    "## Cancer"
   ]
  },
  {
   "cell_type": "code",
   "execution_count": 149,
   "metadata": {},
   "outputs": [],
   "source": [
    "n = 1996\n",
    "n_fpr = 156"
   ]
  },
  {
   "cell_type": "markdown",
   "metadata": {},
   "source": [
    "#### 6.77"
   ]
  },
  {
   "cell_type": "markdown",
   "metadata": {},
   "source": [
    "It means that mammogram resulted in having cancer whereas woman was healthy."
   ]
  },
  {
   "cell_type": "markdown",
   "metadata": {},
   "source": [
    "#### 6.78"
   ]
  },
  {
   "cell_type": "code",
   "execution_count": 150,
   "metadata": {},
   "outputs": [
    {
     "data": {
      "text/plain": [
       "(0.0781563126252505, array([0.06638084, 0.08993179]))"
      ]
     },
     "execution_count": 150,
     "metadata": {},
     "output_type": "execute_result"
    }
   ],
   "source": [
    "binomial_ci_napp(n, n_fpr)"
   ]
  },
  {
   "cell_type": "markdown",
   "metadata": {},
   "source": [
    "#### 6.79"
   ]
  },
  {
   "cell_type": "code",
   "execution_count": 151,
   "metadata": {},
   "outputs": [
    {
     "data": {
      "text/plain": [
       "0.6657120686070561"
      ]
     },
     "execution_count": 151,
     "metadata": {},
     "output_type": "execute_result"
    }
   ],
   "source": [
    "p_fpr = n_fpr/n\n",
    "p0fpr = binom.pmf(0, 5, p_fpr)\n",
    "p0fpr"
   ]
  },
  {
   "cell_type": "markdown",
   "metadata": {},
   "source": [
    "#### 6.80"
   ]
  },
  {
   "cell_type": "code",
   "execution_count": 152,
   "metadata": {},
   "outputs": [
    {
     "data": {
      "text/plain": [
       "0.6242660550677939"
      ]
     },
     "execution_count": 152,
     "metadata": {},
     "output_type": "execute_result"
    }
   ],
   "source": [
    "p0fpr = binom.pmf(0, 5, 0.08993179)\n",
    "p0fpr"
   ]
  },
  {
   "cell_type": "code",
   "execution_count": 153,
   "metadata": {},
   "outputs": [
    {
     "data": {
      "text/plain": [
       "0.7093307369126577"
      ]
     },
     "execution_count": 153,
     "metadata": {},
     "output_type": "execute_result"
    }
   ],
   "source": [
    "p0fpr = binom.pmf(0, 5, 0.06638084)\n",
    "p0fpr"
   ]
  },
  {
   "cell_type": "markdown",
   "metadata": {},
   "source": [
    "## Nutrition"
   ]
  },
  {
   "cell_type": "code",
   "execution_count": 154,
   "metadata": {
    "scrolled": false
   },
   "outputs": [
    {
     "data": {
      "text/html": [
       "<div>\n",
       "<style scoped>\n",
       "    .dataframe tbody tr th:only-of-type {\n",
       "        vertical-align: middle;\n",
       "    }\n",
       "\n",
       "    .dataframe tbody tr th {\n",
       "        vertical-align: top;\n",
       "    }\n",
       "\n",
       "    .dataframe thead th {\n",
       "        text-align: right;\n",
       "    }\n",
       "</style>\n",
       "<table border=\"1\" class=\"dataframe\">\n",
       "  <thead>\n",
       "    <tr style=\"text-align: right;\">\n",
       "      <th></th>\n",
       "      <th>sfat_dr</th>\n",
       "      <th>sfat_ffq</th>\n",
       "      <th>tfat_dr</th>\n",
       "      <th>tfat_ffq</th>\n",
       "      <th>alco_dr</th>\n",
       "      <th>alco_ffq</th>\n",
       "      <th>cal_dr</th>\n",
       "      <th>cal_ffq</th>\n",
       "      <th>lnalc</th>\n",
       "    </tr>\n",
       "    <tr>\n",
       "      <th>id</th>\n",
       "      <th></th>\n",
       "      <th></th>\n",
       "      <th></th>\n",
       "      <th></th>\n",
       "      <th></th>\n",
       "      <th></th>\n",
       "      <th></th>\n",
       "      <th></th>\n",
       "      <th></th>\n",
       "    </tr>\n",
       "  </thead>\n",
       "  <tbody>\n",
       "    <tr>\n",
       "      <th>100396</th>\n",
       "      <td>33.20</td>\n",
       "      <td>21.2</td>\n",
       "      <td>81.15</td>\n",
       "      <td>53.8</td>\n",
       "      <td>8.26</td>\n",
       "      <td>1.68</td>\n",
       "      <td>1807</td>\n",
       "      <td>1242.2</td>\n",
       "      <td>2.225704</td>\n",
       "    </tr>\n",
       "    <tr>\n",
       "      <th>100566</th>\n",
       "      <td>17.73</td>\n",
       "      <td>10.6</td>\n",
       "      <td>53.28</td>\n",
       "      <td>36.6</td>\n",
       "      <td>0.83</td>\n",
       "      <td>0.00</td>\n",
       "      <td>1418</td>\n",
       "      <td>907.0</td>\n",
       "      <td>0.604316</td>\n",
       "    </tr>\n",
       "    <tr>\n",
       "      <th>107633</th>\n",
       "      <td>38.73</td>\n",
       "      <td>23.8</td>\n",
       "      <td>83.48</td>\n",
       "      <td>47.2</td>\n",
       "      <td>20.13</td>\n",
       "      <td>15.10</td>\n",
       "      <td>1889</td>\n",
       "      <td>786.0</td>\n",
       "      <td>3.050694</td>\n",
       "    </tr>\n",
       "    <tr>\n",
       "      <th>107737</th>\n",
       "      <td>21.57</td>\n",
       "      <td>22.7</td>\n",
       "      <td>49.65</td>\n",
       "      <td>55.3</td>\n",
       "      <td>11.16</td>\n",
       "      <td>7.49</td>\n",
       "      <td>1426</td>\n",
       "      <td>1392.5</td>\n",
       "      <td>2.498152</td>\n",
       "    </tr>\n",
       "    <tr>\n",
       "      <th>107744</th>\n",
       "      <td>21.35</td>\n",
       "      <td>30.4</td>\n",
       "      <td>55.18</td>\n",
       "      <td>71.0</td>\n",
       "      <td>7.18</td>\n",
       "      <td>12.84</td>\n",
       "      <td>1253</td>\n",
       "      <td>1259.8</td>\n",
       "      <td>2.101692</td>\n",
       "    </tr>\n",
       "    <tr>\n",
       "      <th>...</th>\n",
       "      <td>...</td>\n",
       "      <td>...</td>\n",
       "      <td>...</td>\n",
       "      <td>...</td>\n",
       "      <td>...</td>\n",
       "      <td>...</td>\n",
       "      <td>...</td>\n",
       "      <td>...</td>\n",
       "      <td>...</td>\n",
       "    </tr>\n",
       "    <tr>\n",
       "      <th>136378</th>\n",
       "      <td>36.19</td>\n",
       "      <td>18.1</td>\n",
       "      <td>95.43</td>\n",
       "      <td>47.1</td>\n",
       "      <td>4.60</td>\n",
       "      <td>7.25</td>\n",
       "      <td>1976</td>\n",
       "      <td>1204.3</td>\n",
       "      <td>1.722767</td>\n",
       "    </tr>\n",
       "    <tr>\n",
       "      <th>136407</th>\n",
       "      <td>22.42</td>\n",
       "      <td>10.9</td>\n",
       "      <td>62.15</td>\n",
       "      <td>32.0</td>\n",
       "      <td>2.56</td>\n",
       "      <td>1.81</td>\n",
       "      <td>1731</td>\n",
       "      <td>981.6</td>\n",
       "      <td>1.269761</td>\n",
       "    </tr>\n",
       "    <tr>\n",
       "      <th>136421</th>\n",
       "      <td>16.98</td>\n",
       "      <td>20.4</td>\n",
       "      <td>42.85</td>\n",
       "      <td>47.5</td>\n",
       "      <td>13.91</td>\n",
       "      <td>8.64</td>\n",
       "      <td>1033</td>\n",
       "      <td>1128.3</td>\n",
       "      <td>2.702032</td>\n",
       "    </tr>\n",
       "    <tr>\n",
       "      <th>137461</th>\n",
       "      <td>23.98</td>\n",
       "      <td>18.5</td>\n",
       "      <td>67.43</td>\n",
       "      <td>45.9</td>\n",
       "      <td>5.39</td>\n",
       "      <td>7.19</td>\n",
       "      <td>1585</td>\n",
       "      <td>1247.5</td>\n",
       "      <td>1.854734</td>\n",
       "    </tr>\n",
       "    <tr>\n",
       "      <th>184093</th>\n",
       "      <td>21.39</td>\n",
       "      <td>19.0</td>\n",
       "      <td>56.70</td>\n",
       "      <td>40.4</td>\n",
       "      <td>0.60</td>\n",
       "      <td>3.49</td>\n",
       "      <td>1320</td>\n",
       "      <td>994.0</td>\n",
       "      <td>0.470004</td>\n",
       "    </tr>\n",
       "  </tbody>\n",
       "</table>\n",
       "<p>173 rows × 9 columns</p>\n",
       "</div>"
      ],
      "text/plain": [
       "        sfat_dr  sfat_ffq  tfat_dr  tfat_ffq  alco_dr  alco_ffq  cal_dr  \\\n",
       "id                                                                        \n",
       "100396    33.20      21.2    81.15      53.8     8.26      1.68    1807   \n",
       "100566    17.73      10.6    53.28      36.6     0.83      0.00    1418   \n",
       "107633    38.73      23.8    83.48      47.2    20.13     15.10    1889   \n",
       "107737    21.57      22.7    49.65      55.3    11.16      7.49    1426   \n",
       "107744    21.35      30.4    55.18      71.0     7.18     12.84    1253   \n",
       "...         ...       ...      ...       ...      ...       ...     ...   \n",
       "136378    36.19      18.1    95.43      47.1     4.60      7.25    1976   \n",
       "136407    22.42      10.9    62.15      32.0     2.56      1.81    1731   \n",
       "136421    16.98      20.4    42.85      47.5    13.91      8.64    1033   \n",
       "137461    23.98      18.5    67.43      45.9     5.39      7.19    1585   \n",
       "184093    21.39      19.0    56.70      40.4     0.60      3.49    1320   \n",
       "\n",
       "        cal_ffq     lnalc  \n",
       "id                         \n",
       "100396   1242.2  2.225704  \n",
       "100566    907.0  0.604316  \n",
       "107633    786.0  3.050694  \n",
       "107737   1392.5  2.498152  \n",
       "107744   1259.8  2.101692  \n",
       "...         ...       ...  \n",
       "136378   1204.3  1.722767  \n",
       "136407    981.6  1.269761  \n",
       "136421   1128.3  2.702032  \n",
       "137461   1247.5  1.854734  \n",
       "184093    994.0  0.470004  \n",
       "\n",
       "[173 rows x 9 columns]"
      ]
     },
     "execution_count": 154,
     "metadata": {},
     "output_type": "execute_result"
    }
   ],
   "source": [
    "df = pd.read_csv('data/VALID.DAT.txt').clean_names().set_index('id')\n",
    "df['lnalc'] = np.log1p(df.alco_dr)\n",
    "df"
   ]
  },
  {
   "cell_type": "code",
   "execution_count": 155,
   "metadata": {
    "scrolled": true
   },
   "outputs": [
    {
     "data": {
      "text/plain": [
       "1.7973380337467724"
      ]
     },
     "execution_count": 155,
     "metadata": {},
     "output_type": "execute_result"
    }
   ],
   "source": [
    "overall_mean = df.lnalc.mean()\n",
    "overall_mean"
   ]
  },
  {
   "cell_type": "code",
   "execution_count": 156,
   "metadata": {},
   "outputs": [],
   "source": [
    "n_bootstrap = 1000\n",
    "sample_size = 5\n",
    "samples = np.random.choice(df.lnalc, size=(n_bootstrap, sample_size))"
   ]
  },
  {
   "cell_type": "code",
   "execution_count": 157,
   "metadata": {},
   "outputs": [],
   "source": [
    "samples_mean = samples.mean(axis=1)\n",
    "samples_std = samples.std(axis=1, ddof=1)\n",
    "samples_tstat = (samples_mean-overall_mean)/(samples_std/np.sqrt(5))"
   ]
  },
  {
   "cell_type": "markdown",
   "metadata": {},
   "source": [
    "#### 6.81"
   ]
  },
  {
   "cell_type": "markdown",
   "metadata": {},
   "source": [
    "normal"
   ]
  },
  {
   "cell_type": "markdown",
   "metadata": {},
   "source": [
    "#### 6.82"
   ]
  },
  {
   "cell_type": "code",
   "execution_count": 158,
   "metadata": {},
   "outputs": [
    {
     "data": {
      "text/plain": [
       "0.00550322084614124"
      ]
     },
     "execution_count": 158,
     "metadata": {},
     "output_type": "execute_result"
    }
   ],
   "source": [
    "exp_perc = norm.cdf(-2.776)*2\n",
    "exp_perc"
   ]
  },
  {
   "cell_type": "markdown",
   "metadata": {},
   "source": [
    "#### 6.83"
   ]
  },
  {
   "cell_type": "code",
   "execution_count": 159,
   "metadata": {},
   "outputs": [
    {
     "data": {
      "text/plain": [
       "0.068"
      ]
     },
     "execution_count": 159,
     "metadata": {},
     "output_type": "execute_result"
    }
   ],
   "source": [
    "(np.abs(samples_tstat) > 2.776).mean()"
   ]
  },
  {
   "cell_type": "markdown",
   "metadata": {},
   "source": [
    "## Cardiovascular Disease"
   ]
  },
  {
   "cell_type": "code",
   "execution_count": 160,
   "metadata": {},
   "outputs": [],
   "source": [
    "within_std = 7.8\n",
    "s_size = 2\n",
    "s_mean = 200"
   ]
  },
  {
   "cell_type": "markdown",
   "metadata": {},
   "source": [
    "#### 6.84"
   ]
  },
  {
   "cell_type": "code",
   "execution_count": 161,
   "metadata": {},
   "outputs": [],
   "source": [
    "def calc_mean_ci_known_std(m, s, n, alpha=0.05):\n",
    "    zstat = norm.ppf([alpha/2, 1-alpha/2])\n",
    "    ci_zstat = zstat*s/np.sqrt(n)\n",
    "    return m, m+ci_zstat"
   ]
  },
  {
   "cell_type": "code",
   "execution_count": 162,
   "metadata": {},
   "outputs": [
    {
     "data": {
      "text/plain": [
       "(200, array([190.9279202, 209.0720798]))"
      ]
     },
     "execution_count": 162,
     "metadata": {},
     "output_type": "execute_result"
    }
   ],
   "source": [
    "calc_mean_ci_known_std(s_mean, within_std, s_size, 0.1)"
   ]
  },
  {
   "cell_type": "markdown",
   "metadata": {},
   "source": [
    "#### 6.85"
   ]
  },
  {
   "cell_type": "code",
   "execution_count": 163,
   "metadata": {
    "scrolled": true
   },
   "outputs": [
    {
     "data": {
      "text/plain": [
       "242.9316883409928"
      ]
     },
     "execution_count": 163,
     "metadata": {},
     "output_type": "execute_result"
    }
   ],
   "source": [
    "250-norm.ppf([0.9])[0]*within_std/np.sqrt(s_size)"
   ]
  },
  {
   "cell_type": "markdown",
   "metadata": {},
   "source": [
    "## Endocrinology "
   ]
  },
  {
   "cell_type": "code",
   "execution_count": 164,
   "metadata": {},
   "outputs": [
    {
     "data": {
      "text/html": [
       "<div>\n",
       "<style scoped>\n",
       "    .dataframe tbody tr th:only-of-type {\n",
       "        vertical-align: middle;\n",
       "    }\n",
       "\n",
       "    .dataframe tbody tr th {\n",
       "        vertical-align: top;\n",
       "    }\n",
       "\n",
       "    .dataframe thead th {\n",
       "        text-align: right;\n",
       "    }\n",
       "</style>\n",
       "<table border=\"1\" class=\"dataframe\">\n",
       "  <thead>\n",
       "    <tr style=\"text-align: right;\">\n",
       "      <th></th>\n",
       "      <th>id</th>\n",
       "      <th>age</th>\n",
       "      <th>zyg</th>\n",
       "      <th>ht1</th>\n",
       "      <th>wt1</th>\n",
       "      <th>tea1</th>\n",
       "      <th>cof1</th>\n",
       "      <th>alc1</th>\n",
       "      <th>cur1</th>\n",
       "      <th>men1</th>\n",
       "      <th>pyr1</th>\n",
       "      <th>ls1</th>\n",
       "      <th>fn1</th>\n",
       "      <th>fs1</th>\n",
       "      <th>ht2</th>\n",
       "      <th>wt2</th>\n",
       "      <th>tea2</th>\n",
       "      <th>cof2</th>\n",
       "      <th>alc2</th>\n",
       "      <th>cur2</th>\n",
       "      <th>men2</th>\n",
       "      <th>pyr2</th>\n",
       "      <th>ls2</th>\n",
       "      <th>fn2</th>\n",
       "      <th>fs2</th>\n",
       "    </tr>\n",
       "  </thead>\n",
       "  <tbody>\n",
       "    <tr>\n",
       "      <th>0</th>\n",
       "      <td>1002501</td>\n",
       "      <td>27</td>\n",
       "      <td>2</td>\n",
       "      <td>162</td>\n",
       "      <td>57</td>\n",
       "      <td>35</td>\n",
       "      <td>0</td>\n",
       "      <td>1</td>\n",
       "      <td>1</td>\n",
       "      <td>0</td>\n",
       "      <td>0.0</td>\n",
       "      <td>0.81</td>\n",
       "      <td>0.72</td>\n",
       "      <td>1.00</td>\n",
       "      <td>160</td>\n",
       "      <td>56</td>\n",
       "      <td>42</td>\n",
       "      <td>21</td>\n",
       "      <td>0</td>\n",
       "      <td>0</td>\n",
       "      <td>0</td>\n",
       "      <td>13.75</td>\n",
       "      <td>0.76</td>\n",
       "      <td>0.68</td>\n",
       "      <td>1.04</td>\n",
       "    </tr>\n",
       "    <tr>\n",
       "      <th>22</th>\n",
       "      <td>1536701</td>\n",
       "      <td>34</td>\n",
       "      <td>2</td>\n",
       "      <td>162</td>\n",
       "      <td>60</td>\n",
       "      <td>0</td>\n",
       "      <td>49</td>\n",
       "      <td>0</td>\n",
       "      <td>0</td>\n",
       "      <td>2</td>\n",
       "      <td>0.0</td>\n",
       "      <td>0.62</td>\n",
       "      <td>0.61</td>\n",
       "      <td>1.23</td>\n",
       "      <td>170</td>\n",
       "      <td>72</td>\n",
       "      <td>0</td>\n",
       "      <td>21</td>\n",
       "      <td>0</td>\n",
       "      <td>0</td>\n",
       "      <td>0</td>\n",
       "      <td>12.00</td>\n",
       "      <td>0.65</td>\n",
       "      <td>0.81</td>\n",
       "      <td>1.33</td>\n",
       "    </tr>\n",
       "    <tr>\n",
       "      <th>17</th>\n",
       "      <td>1505502</td>\n",
       "      <td>49</td>\n",
       "      <td>1</td>\n",
       "      <td>164</td>\n",
       "      <td>70</td>\n",
       "      <td>0</td>\n",
       "      <td>28</td>\n",
       "      <td>0</td>\n",
       "      <td>1</td>\n",
       "      <td>2</td>\n",
       "      <td>0.0</td>\n",
       "      <td>0.83</td>\n",
       "      <td>0.66</td>\n",
       "      <td>1.01</td>\n",
       "      <td>165</td>\n",
       "      <td>67</td>\n",
       "      <td>14</td>\n",
       "      <td>28</td>\n",
       "      <td>9</td>\n",
       "      <td>7</td>\n",
       "      <td>0</td>\n",
       "      <td>32.00</td>\n",
       "      <td>0.79</td>\n",
       "      <td>0.63</td>\n",
       "      <td>1.15</td>\n",
       "    </tr>\n",
       "    <tr>\n",
       "      <th>32</th>\n",
       "      <td>1637901</td>\n",
       "      <td>47</td>\n",
       "      <td>1</td>\n",
       "      <td>157</td>\n",
       "      <td>65</td>\n",
       "      <td>14</td>\n",
       "      <td>7</td>\n",
       "      <td>2</td>\n",
       "      <td>2</td>\n",
       "      <td>2</td>\n",
       "      <td>0.0</td>\n",
       "      <td>0.80</td>\n",
       "      <td>0.67</td>\n",
       "      <td>1.22</td>\n",
       "      <td>165</td>\n",
       "      <td>62</td>\n",
       "      <td>0</td>\n",
       "      <td>28</td>\n",
       "      <td>14</td>\n",
       "      <td>13</td>\n",
       "      <td>0</td>\n",
       "      <td>6.00</td>\n",
       "      <td>0.75</td>\n",
       "      <td>0.63</td>\n",
       "      <td>1.12</td>\n",
       "    </tr>\n",
       "    <tr>\n",
       "      <th>9</th>\n",
       "      <td>1269402</td>\n",
       "      <td>43</td>\n",
       "      <td>2</td>\n",
       "      <td>165</td>\n",
       "      <td>58</td>\n",
       "      <td>7</td>\n",
       "      <td>21</td>\n",
       "      <td>6</td>\n",
       "      <td>0</td>\n",
       "      <td>1</td>\n",
       "      <td>0.0</td>\n",
       "      <td>1.01</td>\n",
       "      <td>0.90</td>\n",
       "      <td>1.30</td>\n",
       "      <td>168</td>\n",
       "      <td>62</td>\n",
       "      <td>0</td>\n",
       "      <td>35</td>\n",
       "      <td>35</td>\n",
       "      <td>30</td>\n",
       "      <td>2</td>\n",
       "      <td>39.00</td>\n",
       "      <td>0.89</td>\n",
       "      <td>0.87</td>\n",
       "      <td>1.24</td>\n",
       "    </tr>\n",
       "  </tbody>\n",
       "</table>\n",
       "</div>"
      ],
      "text/plain": [
       "         id  age  zyg  ht1  wt1  tea1  cof1  alc1  cur1  men1  pyr1   ls1  \\\n",
       "0   1002501   27    2  162   57    35     0     1     1     0   0.0  0.81   \n",
       "22  1536701   34    2  162   60     0    49     0     0     2   0.0  0.62   \n",
       "17  1505502   49    1  164   70     0    28     0     1     2   0.0  0.83   \n",
       "32  1637901   47    1  157   65    14     7     2     2     2   0.0  0.80   \n",
       "9   1269402   43    2  165   58     7    21     6     0     1   0.0  1.01   \n",
       "\n",
       "     fn1   fs1  ht2  wt2  tea2  cof2  alc2  cur2  men2   pyr2   ls2   fn2  \\\n",
       "0   0.72  1.00  160   56    42    21     0     0     0  13.75  0.76  0.68   \n",
       "22  0.61  1.23  170   72     0    21     0     0     0  12.00  0.65  0.81   \n",
       "17  0.66  1.01  165   67    14    28     9     7     0  32.00  0.79  0.63   \n",
       "32  0.67  1.22  165   62     0    28    14    13     0   6.00  0.75  0.63   \n",
       "9   0.90  1.30  168   62     0    35    35    30     2  39.00  0.89  0.87   \n",
       "\n",
       "     fs2  \n",
       "0   1.04  \n",
       "22  1.33  \n",
       "17  1.15  \n",
       "32  1.12  \n",
       "9   1.24  "
      ]
     },
     "execution_count": 164,
     "metadata": {},
     "output_type": "execute_result"
    }
   ],
   "source": [
    "bone_df = pd.read_csv('data/BONEDEN.DAT.txt').clean_names()\n",
    "bone_df.sample(5)"
   ]
  },
  {
   "cell_type": "markdown",
   "metadata": {},
   "source": [
    "#### 6.86"
   ]
  },
  {
   "cell_type": "code",
   "execution_count": 165,
   "metadata": {
    "scrolled": true
   },
   "outputs": [
    {
     "data": {
      "text/plain": [
       "(-0.0007317073170731633, array([-0.03012505,  0.02866164]))"
      ]
     },
     "execution_count": 165,
     "metadata": {},
     "output_type": "execute_result"
    }
   ],
   "source": [
    "femoral_diff = bone_df.fn2-bone_df.fn1\n",
    "calc_mean_ci(femoral_diff)"
   ]
  },
  {
   "cell_type": "markdown",
   "metadata": {},
   "source": [
    "#### 6.87"
   ]
  },
  {
   "cell_type": "code",
   "execution_count": 166,
   "metadata": {},
   "outputs": [
    {
     "data": {
      "text/plain": [
       "(-0.030487804878048776, array([-0.06670351,  0.0057279 ]))"
      ]
     },
     "execution_count": 166,
     "metadata": {},
     "output_type": "execute_result"
    }
   ],
   "source": [
    "femoral_shaft = bone_df.fs2-bone_df.fs1\n",
    "calc_mean_ci(femoral_shaft)"
   ]
  },
  {
   "cell_type": "markdown",
   "metadata": {},
   "source": [
    "## Simulation"
   ]
  },
  {
   "cell_type": "markdown",
   "metadata": {},
   "source": [
    "#### 6.88"
   ]
  },
  {
   "cell_type": "code",
   "execution_count": 167,
   "metadata": {},
   "outputs": [],
   "source": [
    "n = 10\n",
    "p = .6\n",
    "size = 200"
   ]
  },
  {
   "cell_type": "code",
   "execution_count": 168,
   "metadata": {},
   "outputs": [],
   "source": [
    "ran_sam = binom.rvs(n, p, size=size)"
   ]
  },
  {
   "cell_type": "code",
   "execution_count": 169,
   "metadata": {},
   "outputs": [
    {
     "data": {
      "text/plain": [
       "<AxesSubplot:ylabel='Count'>"
      ]
     },
     "execution_count": 169,
     "metadata": {},
     "output_type": "execute_result"
    },
    {
     "data": {
      "image/png": "[encoded data removed]",
      "text/plain": [
       "<Figure size 432x288 with 1 Axes>"
      ]
     },
     "metadata": {
      "needs_background": "light"
     },
     "output_type": "display_data"
    }
   ],
   "source": [
    "sns.histplot(ran_sam, bins=n)"
   ]
  },
  {
   "cell_type": "code",
   "execution_count": 170,
   "metadata": {},
   "outputs": [
    {
     "name": "stdout",
     "output_type": "stream",
     "text": [
      "Normal approximation should not be used\n",
      "2.1000000000000005\n",
      "Normal approximation should not be used\n",
      "2.1000000000000005\n",
      "Normal approximation should not be used\n",
      "0.8999999999999998\n",
      "Normal approximation should not be used\n",
      "2.1000000000000005\n",
      "Normal approximation should not be used\n",
      "2.1000000000000005\n",
      "Normal approximation should not be used\n",
      "2.4000000000000004\n",
      "Normal approximation should not be used\n",
      "2.1000000000000005\n",
      "Normal approximation should not be used\n",
      "2.1000000000000005\n",
      "Normal approximation should not be used\n",
      "2.4000000000000004\n",
      "Normal approximation should not be used\n",
      "2.5\n",
      "Normal approximation should not be used\n",
      "2.4\n",
      "Normal approximation should not be used\n",
      "2.1000000000000005\n",
      "Normal approximation should not be used\n",
      "2.4\n",
      "Normal approximation should not be used\n",
      "2.5\n",
      "Normal approximation should not be used\n",
      "2.1000000000000005\n",
      "Normal approximation should not be used\n",
      "2.1000000000000005\n",
      "Normal approximation should not be used\n",
      "2.4000000000000004\n",
      "Normal approximation should not be used\n",
      "2.5\n",
      "Normal approximation should not be used\n",
      "0.8999999999999998\n",
      "Normal approximation should not be used\n",
      "0.8999999999999998\n",
      "Normal approximation should not be used\n",
      "1.5999999999999996\n",
      "Normal approximation should not be used\n",
      "2.5\n",
      "Normal approximation should not be used\n",
      "2.1000000000000005\n",
      "Normal approximation should not be used\n",
      "2.4\n",
      "Normal approximation should not be used\n",
      "2.1000000000000005\n",
      "Normal approximation should not be used\n",
      "2.4000000000000004\n",
      "Normal approximation should not be used\n",
      "1.5999999999999996\n",
      "Normal approximation should not be used\n",
      "2.1000000000000005\n",
      "Normal approximation should not be used\n",
      "1.5999999999999996\n",
      "Normal approximation should not be used\n",
      "0.8999999999999998\n",
      "Normal approximation should not be used\n",
      "2.5\n",
      "Normal approximation should not be used\n",
      "2.4000000000000004\n",
      "Normal approximation should not be used\n",
      "2.0999999999999996\n",
      "Normal approximation should not be used\n",
      "2.4000000000000004\n",
      "Normal approximation should not be used\n",
      "2.0999999999999996\n",
      "Normal approximation should not be used\n",
      "2.5\n",
      "Normal approximation should not be used\n",
      "2.4\n",
      "Normal approximation should not be used\n",
      "1.5999999999999996\n",
      "Normal approximation should not be used\n",
      "2.1000000000000005\n",
      "Normal approximation should not be used\n",
      "2.1000000000000005\n",
      "Normal approximation should not be used\n",
      "2.1000000000000005\n",
      "Normal approximation should not be used\n",
      "2.4\n",
      "Normal approximation should not be used\n",
      "2.4000000000000004\n",
      "Normal approximation should not be used\n",
      "1.5999999999999996\n",
      "Normal approximation should not be used\n",
      "2.5\n",
      "Normal approximation should not be used\n",
      "2.1000000000000005\n",
      "Normal approximation should not be used\n",
      "1.5999999999999996\n",
      "Normal approximation should not be used\n",
      "2.1000000000000005\n",
      "Normal approximation should not be used\n",
      "2.4000000000000004\n",
      "Normal approximation should not be used\n",
      "2.4\n",
      "Normal approximation should not be used\n",
      "2.4\n",
      "Normal approximation should not be used\n",
      "2.4\n",
      "Normal approximation should not be used\n",
      "2.4000000000000004\n",
      "Normal approximation should not be used\n",
      "2.4\n",
      "Normal approximation should not be used\n",
      "2.4000000000000004\n",
      "Normal approximation should not be used\n",
      "0.8999999999999998\n",
      "Normal approximation should not be used\n",
      "2.4000000000000004\n",
      "Normal approximation should not be used\n",
      "2.4\n",
      "Normal approximation should not be used\n",
      "2.1000000000000005\n",
      "Normal approximation should not be used\n",
      "2.5\n",
      "Normal approximation should not be used\n",
      "2.5\n",
      "Normal approximation should not be used\n",
      "2.1000000000000005\n",
      "Normal approximation should not be used\n",
      "2.5\n",
      "Normal approximation should not be used\n",
      "1.5999999999999996\n",
      "Normal approximation should not be used\n",
      "2.5\n",
      "Normal approximation should not be used\n",
      "2.1000000000000005\n",
      "Normal approximation should not be used\n",
      "2.1000000000000005\n",
      "Normal approximation should not be used\n",
      "2.5\n",
      "Normal approximation should not be used\n",
      "1.5999999999999996\n",
      "Normal approximation should not be used\n",
      "2.1000000000000005\n",
      "Normal approximation should not be used\n",
      "2.4000000000000004\n",
      "Normal approximation should not be used\n",
      "2.0999999999999996\n",
      "Normal approximation should not be used\n",
      "2.5\n",
      "Normal approximation should not be used\n",
      "2.5\n",
      "Normal approximation should not be used\n",
      "2.5\n",
      "Normal approximation should not be used\n",
      "2.1000000000000005\n",
      "Normal approximation should not be used\n",
      "1.5999999999999996\n",
      "Normal approximation should not be used\n",
      "2.5\n",
      "Normal approximation should not be used\n",
      "1.5999999999999996\n",
      "Normal approximation should not be used\n",
      "1.5999999999999996\n",
      "Normal approximation should not be used\n",
      "2.5\n",
      "Normal approximation should not be used\n",
      "2.5\n",
      "Normal approximation should not be used\n",
      "2.5\n",
      "Normal approximation should not be used\n",
      "2.1000000000000005\n",
      "Normal approximation should not be used\n",
      "2.4000000000000004\n",
      "Normal approximation should not be used\n",
      "2.5\n",
      "Normal approximation should not be used\n",
      "1.5999999999999996\n",
      "Normal approximation should not be used\n",
      "2.4000000000000004\n",
      "Normal approximation should not be used\n",
      "2.4000000000000004\n",
      "Normal approximation should not be used\n",
      "2.5\n",
      "Normal approximation should not be used\n",
      "2.5\n",
      "Normal approximation should not be used\n",
      "2.5\n",
      "Normal approximation should not be used\n",
      "1.5999999999999996\n",
      "Normal approximation should not be used\n",
      "2.4\n",
      "Normal approximation should not be used\n",
      "2.1000000000000005\n",
      "Normal approximation should not be used\n",
      "2.4000000000000004\n",
      "Normal approximation should not be used\n",
      "2.4\n",
      "Normal approximation should not be used\n",
      "1.5999999999999996\n",
      "Normal approximation should not be used\n",
      "2.4\n",
      "Normal approximation should not be used\n",
      "2.4000000000000004\n",
      "Normal approximation should not be used\n",
      "2.4\n",
      "Normal approximation should not be used\n",
      "2.4000000000000004\n",
      "Normal approximation should not be used\n",
      "2.4\n",
      "Normal approximation should not be used\n",
      "2.1000000000000005\n",
      "Normal approximation should not be used\n",
      "2.4\n",
      "Normal approximation should not be used\n",
      "2.0999999999999996\n",
      "Normal approximation should not be used\n",
      "2.1000000000000005\n",
      "Normal approximation should not be used\n",
      "1.5999999999999996\n",
      "Normal approximation should not be used\n",
      "2.4000000000000004\n",
      "Normal approximation should not be used\n",
      "2.4\n",
      "Normal approximation should not be used\n",
      "2.4\n",
      "Normal approximation should not be used\n",
      "2.1000000000000005\n",
      "Normal approximation should not be used\n",
      "2.4\n",
      "Normal approximation should not be used\n",
      "2.4000000000000004\n",
      "Normal approximation should not be used\n",
      "1.5999999999999996\n",
      "Normal approximation should not be used\n",
      "2.5\n",
      "Normal approximation should not be used\n",
      "2.5\n",
      "Normal approximation should not be used\n",
      "2.5\n",
      "Normal approximation should not be used\n",
      "1.5999999999999996\n",
      "Normal approximation should not be used\n",
      "2.1000000000000005\n",
      "Normal approximation should not be used\n",
      "2.1000000000000005\n",
      "Normal approximation should not be used\n",
      "2.4000000000000004\n",
      "Normal approximation should not be used\n",
      "2.1000000000000005\n",
      "Normal approximation should not be used\n",
      "2.5\n",
      "Normal approximation should not be used\n",
      "2.5\n",
      "Normal approximation should not be used\n",
      "2.4000000000000004\n",
      "Normal approximation should not be used\n",
      "2.1000000000000005\n",
      "Normal approximation should not be used\n",
      "2.4000000000000004\n",
      "Normal approximation should not be used\n",
      "1.6\n",
      "Normal approximation should not be used\n",
      "1.5999999999999996\n",
      "Normal approximation should not be used\n",
      "2.0999999999999996\n",
      "Normal approximation should not be used\n",
      "1.5999999999999996\n",
      "Normal approximation should not be used\n",
      "2.4000000000000004\n",
      "Normal approximation should not be used\n",
      "2.1000000000000005\n",
      "Normal approximation should not be used\n",
      "2.4\n",
      "Normal approximation should not be used\n",
      "2.0999999999999996\n",
      "Normal approximation should not be used\n",
      "2.4000000000000004\n",
      "Normal approximation should not be used\n",
      "2.4000000000000004\n",
      "Normal approximation should not be used\n",
      "1.5999999999999996\n",
      "Normal approximation should not be used\n",
      "2.5\n",
      "Normal approximation should not be used\n",
      "2.5\n",
      "Normal approximation should not be used\n",
      "2.5\n",
      "Normal approximation should not be used\n",
      "2.4000000000000004\n",
      "Normal approximation should not be used\n",
      "2.0999999999999996\n",
      "Normal approximation should not be used\n",
      "1.5999999999999996\n",
      "Normal approximation should not be used\n",
      "2.4\n",
      "Normal approximation should not be used\n",
      "2.4\n",
      "Normal approximation should not be used\n",
      "2.1000000000000005\n",
      "Normal approximation should not be used\n",
      "2.1000000000000005\n",
      "Normal approximation should not be used\n",
      "2.4000000000000004\n",
      "Normal approximation should not be used\n",
      "1.5999999999999996\n",
      "Normal approximation should not be used\n",
      "2.4\n",
      "Normal approximation should not be used\n",
      "2.1000000000000005\n",
      "Normal approximation should not be used\n",
      "2.1000000000000005\n",
      "Normal approximation should not be used\n",
      "0.0\n",
      "Normal approximation should not be used\n",
      "2.1000000000000005\n",
      "Normal approximation should not be used\n",
      "2.5\n",
      "Normal approximation should not be used\n",
      "2.1000000000000005\n",
      "Normal approximation should not be used\n",
      "1.5999999999999996\n",
      "Normal approximation should not be used\n",
      "2.1000000000000005\n",
      "Normal approximation should not be used\n",
      "2.1000000000000005\n",
      "Normal approximation should not be used\n",
      "1.5999999999999996\n",
      "Normal approximation should not be used\n",
      "2.5\n",
      "Normal approximation should not be used\n",
      "2.5\n",
      "Normal approximation should not be used\n",
      "2.5\n",
      "Normal approximation should not be used\n",
      "0.8999999999999998\n",
      "Normal approximation should not be used\n",
      "2.0999999999999996\n",
      "Normal approximation should not be used\n",
      "2.4000000000000004\n",
      "Normal approximation should not be used\n",
      "2.5\n",
      "Normal approximation should not be used\n",
      "2.4\n",
      "Normal approximation should not be used\n",
      "2.4000000000000004\n",
      "Normal approximation should not be used\n",
      "2.4000000000000004\n",
      "Normal approximation should not be used\n",
      "1.5999999999999996\n",
      "Normal approximation should not be used\n",
      "1.5999999999999996\n",
      "Normal approximation should not be used\n",
      "2.1000000000000005\n",
      "Normal approximation should not be used\n",
      "2.4000000000000004\n",
      "Normal approximation should not be used\n",
      "2.1000000000000005\n",
      "Normal approximation should not be used\n",
      "2.4000000000000004\n",
      "Normal approximation should not be used\n",
      "2.1000000000000005\n",
      "Normal approximation should not be used\n",
      "2.1000000000000005\n",
      "Normal approximation should not be used\n",
      "2.5\n",
      "Normal approximation should not be used\n",
      "2.4000000000000004\n",
      "Normal approximation should not be used\n",
      "2.5\n",
      "Normal approximation should not be used\n",
      "2.1000000000000005\n",
      "Normal approximation should not be used\n",
      "1.5999999999999996\n",
      "Normal approximation should not be used\n",
      "1.5999999999999996\n",
      "Normal approximation should not be used\n",
      "2.1000000000000005\n",
      "Normal approximation should not be used\n",
      "2.1000000000000005\n",
      "Normal approximation should not be used\n",
      "2.4000000000000004\n",
      "Normal approximation should not be used\n",
      "2.4000000000000004\n",
      "Normal approximation should not be used\n",
      "1.5999999999999996\n",
      "Normal approximation should not be used\n",
      "2.5\n",
      "Normal approximation should not be used\n",
      "2.4000000000000004\n",
      "Normal approximation should not be used\n",
      "2.5\n",
      "Normal approximation should not be used\n",
      "2.4\n",
      "Normal approximation should not be used\n",
      "1.5999999999999996\n",
      "Normal approximation should not be used\n",
      "2.4\n",
      "Normal approximation should not be used\n",
      "2.4000000000000004\n",
      "Normal approximation should not be used\n",
      "2.1000000000000005\n",
      "Normal approximation should not be used\n",
      "2.5\n"
     ]
    }
   ],
   "source": [
    "samples_ci = [binomial_ci_napp(n, t, .1)[1] for t in ran_sam]"
   ]
  },
  {
   "cell_type": "markdown",
   "metadata": {},
   "source": [
    "#### 6.89"
   ]
  },
  {
   "cell_type": "code",
   "execution_count": 171,
   "metadata": {},
   "outputs": [],
   "source": [
    "inc_ci = sum(ci[0] <= p <= ci[1] for ci in samples_ci)"
   ]
  },
  {
   "cell_type": "code",
   "execution_count": 172,
   "metadata": {},
   "outputs": [
    {
     "data": {
      "text/plain": [
       "0.92"
      ]
     },
     "execution_count": 172,
     "metadata": {},
     "output_type": "execute_result"
    }
   ],
   "source": [
    "inc_ci/size"
   ]
  },
  {
   "cell_type": "markdown",
   "metadata": {},
   "source": [
    "#### 6.90"
   ]
  },
  {
   "cell_type": "markdown",
   "metadata": {},
   "source": [
    "No"
   ]
  },
  {
   "cell_type": "markdown",
   "metadata": {},
   "source": [
    "#### 6.91"
   ]
  },
  {
   "cell_type": "code",
   "execution_count": 173,
   "metadata": {},
   "outputs": [],
   "source": [
    "n = 20\n",
    "p = .6\n",
    "size = 200"
   ]
  },
  {
   "cell_type": "code",
   "execution_count": 174,
   "metadata": {},
   "outputs": [],
   "source": [
    "ran_sam = binom.rvs(n, p, size=size)"
   ]
  },
  {
   "cell_type": "code",
   "execution_count": 175,
   "metadata": {},
   "outputs": [
    {
     "data": {
      "text/plain": [
       "<AxesSubplot:ylabel='Count'>"
      ]
     },
     "execution_count": 175,
     "metadata": {},
     "output_type": "execute_result"
    },
    {
     "data": {
      "image/png": "[encoded data removed]",
      "text/plain": [
       "<Figure size 432x288 with 1 Axes>"
      ]
     },
     "metadata": {
      "needs_background": "light"
     },
     "output_type": "display_data"
    }
   ],
   "source": [
    "sns.histplot(ran_sam, bins=n)"
   ]
  },
  {
   "cell_type": "code",
   "execution_count": 176,
   "metadata": {
    "scrolled": true
   },
   "outputs": [
    {
     "name": "stdout",
     "output_type": "stream",
     "text": [
      "Normal approximation should not be used\n",
      "4.949999999999999\n",
      "Normal approximation should not be used\n",
      "4.800000000000001\n",
      "Normal approximation should not be used\n",
      "4.200000000000001\n",
      "Normal approximation should not be used\n",
      "4.95\n",
      "Normal approximation should not be used\n",
      "4.55\n",
      "Normal approximation should not be used\n",
      "4.200000000000001\n",
      "Normal approximation should not be used\n",
      "4.200000000000001\n",
      "Normal approximation should not be used\n",
      "4.8\n",
      "Normal approximation should not be used\n",
      "4.95\n",
      "Normal approximation should not be used\n",
      "4.200000000000001\n",
      "Normal approximation should not be used\n",
      "4.949999999999999\n",
      "Normal approximation should not be used\n",
      "3.75\n",
      "Normal approximation should not be used\n",
      "4.949999999999999\n",
      "Normal approximation should not be used\n",
      "2.5500000000000003\n",
      "Normal approximation should not be used\n",
      "4.55\n",
      "Normal approximation should not be used\n",
      "4.55\n",
      "Normal approximation should not be used\n",
      "4.949999999999999\n",
      "Normal approximation should not be used\n",
      "4.200000000000001\n",
      "Normal approximation should not be used\n",
      "4.55\n",
      "Normal approximation should not be used\n",
      "4.55\n",
      "Normal approximation should not be used\n",
      "3.75\n",
      "Normal approximation should not be used\n",
      "4.55\n",
      "Normal approximation should not be used\n",
      "4.55\n",
      "Normal approximation should not be used\n",
      "4.55\n",
      "Normal approximation should not be used\n",
      "4.95\n",
      "Normal approximation should not be used\n",
      "4.949999999999999\n",
      "Normal approximation should not be used\n",
      "4.200000000000001\n",
      "Normal approximation should not be used\n",
      "2.5500000000000003\n",
      "Normal approximation should not be used\n",
      "3.1999999999999993\n",
      "Normal approximation should not be used\n",
      "3.75\n",
      "Normal approximation should not be used\n",
      "4.949999999999999\n",
      "Normal approximation should not be used\n",
      "4.95\n",
      "Normal approximation should not be used\n",
      "4.800000000000001\n",
      "Normal approximation should not be used\n",
      "4.95\n",
      "Normal approximation should not be used\n",
      "4.800000000000001\n",
      "Normal approximation should not be used\n",
      "4.800000000000001\n",
      "Normal approximation should not be used\n",
      "4.949999999999999\n",
      "Normal approximation should not be used\n",
      "4.200000000000001\n",
      "Normal approximation should not be used\n",
      "4.55\n",
      "Normal approximation should not be used\n",
      "4.949999999999999\n",
      "Normal approximation should not be used\n",
      "4.200000000000001\n",
      "Normal approximation should not be used\n",
      "4.800000000000001\n",
      "Normal approximation should not be used\n",
      "4.800000000000001\n",
      "Normal approximation should not be used\n",
      "4.200000000000001\n",
      "Normal approximation should not be used\n",
      "4.55\n",
      "Normal approximation should not be used\n",
      "4.55\n",
      "Normal approximation should not be used\n",
      "4.949999999999999\n",
      "Normal approximation should not be used\n",
      "4.95\n",
      "Normal approximation should not be used\n",
      "4.200000000000001\n",
      "Normal approximation should not be used\n",
      "4.8\n",
      "Normal approximation should not be used\n",
      "4.95\n",
      "Normal approximation should not be used\n",
      "4.95\n",
      "Normal approximation should not be used\n",
      "4.55\n",
      "Normal approximation should not be used\n",
      "4.800000000000001\n",
      "Normal approximation should not be used\n",
      "4.949999999999999\n",
      "Normal approximation should not be used\n",
      "4.800000000000001\n",
      "Normal approximation should not be used\n",
      "4.800000000000001\n",
      "Normal approximation should not be used\n",
      "3.1999999999999993\n",
      "Normal approximation should not be used\n",
      "4.949999999999999\n",
      "Normal approximation should not be used\n",
      "4.200000000000001\n",
      "Normal approximation should not be used\n",
      "3.75\n",
      "Normal approximation should not be used\n",
      "4.800000000000001\n",
      "Normal approximation should not be used\n",
      "4.55\n",
      "Normal approximation should not be used\n",
      "4.949999999999999\n",
      "Normal approximation should not be used\n",
      "4.8\n",
      "Normal approximation should not be used\n",
      "4.55\n",
      "Normal approximation should not be used\n",
      "2.5500000000000003\n",
      "Normal approximation should not be used\n",
      "3.1999999999999993\n",
      "Normal approximation should not be used\n",
      "4.800000000000001\n",
      "Normal approximation should not be used\n",
      "4.800000000000001\n",
      "Normal approximation should not be used\n",
      "4.800000000000001\n",
      "Normal approximation should not be used\n",
      "4.95\n",
      "Normal approximation should not be used\n",
      "4.55\n",
      "Normal approximation should not be used\n",
      "4.8\n",
      "Normal approximation should not be used\n",
      "4.200000000000001\n",
      "Normal approximation should not be used\n",
      "4.800000000000001\n",
      "Normal approximation should not be used\n",
      "4.949999999999999\n",
      "Normal approximation should not be used\n",
      "4.949999999999999\n",
      "Normal approximation should not be used\n",
      "4.200000000000001\n",
      "Normal approximation should not be used\n",
      "4.200000000000001\n",
      "Normal approximation should not be used\n",
      "4.8\n",
      "Normal approximation should not be used\n",
      "4.800000000000001\n",
      "Normal approximation should not be used\n",
      "4.800000000000001\n",
      "Normal approximation should not be used\n",
      "4.95\n",
      "Normal approximation should not be used\n",
      "4.200000000000001\n",
      "Normal approximation should not be used\n",
      "4.200000000000001\n",
      "Normal approximation should not be used\n",
      "4.800000000000001\n",
      "Normal approximation should not be used\n",
      "4.8\n",
      "Normal approximation should not be used\n",
      "4.8\n",
      "Normal approximation should not be used\n",
      "4.95\n",
      "Normal approximation should not be used\n",
      "4.800000000000001\n",
      "Normal approximation should not be used\n",
      "3.75\n",
      "Normal approximation should not be used\n",
      "4.200000000000001\n",
      "Normal approximation should not be used\n",
      "4.949999999999999\n",
      "Normal approximation should not be used\n",
      "4.800000000000001\n",
      "Normal approximation should not be used\n",
      "4.55\n",
      "Normal approximation should not be used\n",
      "4.949999999999999\n",
      "Normal approximation should not be used\n",
      "4.800000000000001\n",
      "Normal approximation should not be used\n",
      "3.75\n",
      "Normal approximation should not be used\n",
      "4.8\n",
      "Normal approximation should not be used\n",
      "4.949999999999999\n",
      "Normal approximation should not be used\n",
      "3.75\n",
      "Normal approximation should not be used\n",
      "4.949999999999999\n",
      "Normal approximation should not be used\n",
      "4.95\n",
      "Normal approximation should not be used\n",
      "4.800000000000001\n",
      "Normal approximation should not be used\n",
      "4.200000000000001\n",
      "Normal approximation should not be used\n",
      "4.8\n",
      "Normal approximation should not be used\n",
      "4.949999999999999\n",
      "Normal approximation should not be used\n",
      "4.55\n",
      "Normal approximation should not be used\n",
      "4.55\n",
      "Normal approximation should not be used\n",
      "4.949999999999999\n",
      "Normal approximation should not be used\n",
      "4.55\n",
      "Normal approximation should not be used\n",
      "4.949999999999999\n",
      "Normal approximation should not be used\n",
      "4.949999999999999\n",
      "Normal approximation should not be used\n",
      "4.55\n",
      "Normal approximation should not be used\n",
      "4.95\n",
      "Normal approximation should not be used\n",
      "4.949999999999999\n",
      "Normal approximation should not be used\n",
      "4.55\n",
      "Normal approximation should not be used\n",
      "3.75\n",
      "Normal approximation should not be used\n",
      "4.8\n",
      "Normal approximation should not be used\n",
      "3.75\n",
      "Normal approximation should not be used\n",
      "4.800000000000001\n",
      "Normal approximation should not be used\n",
      "4.200000000000001\n",
      "Normal approximation should not be used\n",
      "4.800000000000001\n",
      "Normal approximation should not be used\n",
      "4.200000000000001\n",
      "Normal approximation should not be used\n",
      "4.949999999999999\n",
      "Normal approximation should not be used\n",
      "4.949999999999999\n",
      "Normal approximation should not be used\n",
      "4.200000000000001\n",
      "Normal approximation should not be used\n",
      "4.800000000000001\n",
      "Normal approximation should not be used\n",
      "4.55\n",
      "Normal approximation should not be used\n",
      "4.949999999999999\n",
      "Normal approximation should not be used\n",
      "4.800000000000001\n",
      "Normal approximation should not be used\n",
      "4.949999999999999\n",
      "Normal approximation should not be used\n",
      "4.800000000000001\n",
      "Normal approximation should not be used\n",
      "4.200000000000001\n",
      "Normal approximation should not be used\n",
      "4.800000000000001\n",
      "Normal approximation should not be used\n",
      "4.95\n",
      "Normal approximation should not be used\n",
      "4.949999999999999\n",
      "Normal approximation should not be used\n",
      "4.55\n",
      "Normal approximation should not be used\n",
      "4.55\n",
      "Normal approximation should not be used\n",
      "4.95\n",
      "Normal approximation should not be used\n",
      "4.55\n",
      "Normal approximation should not be used\n",
      "4.800000000000001\n",
      "Normal approximation should not be used\n",
      "4.55\n",
      "Normal approximation should not be used\n",
      "3.75\n",
      "Normal approximation should not be used\n",
      "4.55\n",
      "Normal approximation should not be used\n",
      "4.800000000000001\n",
      "Normal approximation should not be used\n",
      "4.8\n",
      "Normal approximation should not be used\n",
      "4.800000000000001\n",
      "Normal approximation should not be used\n",
      "4.800000000000001\n",
      "Normal approximation should not be used\n",
      "4.200000000000001\n",
      "Normal approximation should not be used\n",
      "3.1999999999999993\n",
      "Normal approximation should not be used\n",
      "4.200000000000001\n",
      "Normal approximation should not be used\n",
      "3.75\n",
      "Normal approximation should not be used\n",
      "4.200000000000001\n",
      "Normal approximation should not be used\n",
      "4.949999999999999\n",
      "Normal approximation should not be used\n",
      "4.55\n",
      "Normal approximation should not be used\n",
      "3.1999999999999993\n",
      "Normal approximation should not be used\n",
      "4.200000000000001\n",
      "Normal approximation should not be used\n",
      "3.1999999999999993\n",
      "Normal approximation should not be used\n",
      "4.8\n",
      "Normal approximation should not be used\n",
      "4.55\n",
      "Normal approximation should not be used\n",
      "4.55\n",
      "Normal approximation should not be used\n",
      "4.949999999999999\n",
      "Normal approximation should not be used\n",
      "4.949999999999999\n",
      "Normal approximation should not be used\n",
      "4.55\n",
      "Normal approximation should not be used\n",
      "4.200000000000001\n",
      "Normal approximation should not be used\n",
      "4.55\n",
      "Normal approximation should not be used\n",
      "4.949999999999999\n",
      "Normal approximation should not be used\n",
      "4.949999999999999\n",
      "Normal approximation should not be used\n",
      "3.1999999999999993\n",
      "Normal approximation should not be used\n",
      "4.55\n",
      "Normal approximation should not be used\n",
      "4.800000000000001\n",
      "Normal approximation should not be used\n",
      "4.200000000000001\n",
      "Normal approximation should not be used\n",
      "4.949999999999999\n"
     ]
    }
   ],
   "source": [
    "samples_ci = [binomial_ci_napp(n, t, .1)[1] for t in ran_sam]"
   ]
  },
  {
   "cell_type": "markdown",
   "metadata": {},
   "source": [
    "#### 6.92"
   ]
  },
  {
   "cell_type": "code",
   "execution_count": 177,
   "metadata": {},
   "outputs": [],
   "source": [
    "inc_ci = sum(ci[0] <= p <= ci[1] for ci in samples_ci)"
   ]
  },
  {
   "cell_type": "code",
   "execution_count": 178,
   "metadata": {},
   "outputs": [
    {
     "data": {
      "text/plain": [
       "0.885"
      ]
     },
     "execution_count": 178,
     "metadata": {},
     "output_type": "execute_result"
    }
   ],
   "source": [
    "inc_ci/size"
   ]
  },
  {
   "cell_type": "markdown",
   "metadata": {},
   "source": [
    "#### 6.93"
   ]
  },
  {
   "cell_type": "markdown",
   "metadata": {},
   "source": [
    "Questionable"
   ]
  },
  {
   "cell_type": "markdown",
   "metadata": {},
   "source": [
    "#### 6.94"
   ]
  },
  {
   "cell_type": "code",
   "execution_count": 179,
   "metadata": {},
   "outputs": [],
   "source": [
    "n = 50\n",
    "p = .6\n",
    "size = 200"
   ]
  },
  {
   "cell_type": "code",
   "execution_count": 180,
   "metadata": {},
   "outputs": [],
   "source": [
    "ran_sam = binom.rvs(n, p, size=size)"
   ]
  },
  {
   "cell_type": "code",
   "execution_count": 181,
   "metadata": {},
   "outputs": [
    {
     "data": {
      "text/plain": [
       "<AxesSubplot:ylabel='Count'>"
      ]
     },
     "execution_count": 181,
     "metadata": {},
     "output_type": "execute_result"
    },
    {
     "data": {
      "image/png": "[encoded data removed]",
      "text/plain": [
       "<Figure size 432x288 with 1 Axes>"
      ]
     },
     "metadata": {
      "needs_background": "light"
     },
     "output_type": "display_data"
    }
   ],
   "source": [
    "sns.histplot(ran_sam, bins=n)"
   ]
  },
  {
   "cell_type": "code",
   "execution_count": 182,
   "metadata": {
    "scrolled": true
   },
   "outputs": [],
   "source": [
    "samples_ci = [binomial_ci_napp(n, t, .1)[1] for t in ran_sam]"
   ]
  },
  {
   "cell_type": "markdown",
   "metadata": {},
   "source": [
    "#### 6.92"
   ]
  },
  {
   "cell_type": "code",
   "execution_count": 183,
   "metadata": {},
   "outputs": [],
   "source": [
    "inc_ci = sum(ci[0] <= p <= ci[1] for ci in samples_ci)"
   ]
  },
  {
   "cell_type": "code",
   "execution_count": 184,
   "metadata": {},
   "outputs": [
    {
     "data": {
      "text/plain": [
       "0.855"
      ]
     },
     "execution_count": 184,
     "metadata": {},
     "output_type": "execute_result"
    }
   ],
   "source": [
    "inc_ci/size"
   ]
  },
  {
   "cell_type": "markdown",
   "metadata": {},
   "source": [
    "#### 6.93"
   ]
  },
  {
   "cell_type": "markdown",
   "metadata": {},
   "source": [
    "Yes"
   ]
  },
  {
   "cell_type": "markdown",
   "metadata": {},
   "source": [
    "## Hypertension"
   ]
  },
  {
   "cell_type": "code",
   "execution_count": 185,
   "metadata": {},
   "outputs": [
    {
     "data": {
      "text/html": [
       "<div>\n",
       "<style scoped>\n",
       "    .dataframe tbody tr th:only-of-type {\n",
       "        vertical-align: middle;\n",
       "    }\n",
       "\n",
       "    .dataframe tbody tr th {\n",
       "        vertical-align: top;\n",
       "    }\n",
       "\n",
       "    .dataframe thead th {\n",
       "        text-align: right;\n",
       "    }\n",
       "</style>\n",
       "<table border=\"1\" class=\"dataframe\">\n",
       "  <thead>\n",
       "    <tr style=\"text-align: right;\">\n",
       "      <th></th>\n",
       "      <th>sbp</th>\n",
       "      <th>dbp</th>\n",
       "    </tr>\n",
       "  </thead>\n",
       "  <tbody>\n",
       "    <tr>\n",
       "      <th>0</th>\n",
       "      <td>121.0</td>\n",
       "      <td>87.5</td>\n",
       "    </tr>\n",
       "    <tr>\n",
       "      <th>1</th>\n",
       "      <td>109.0</td>\n",
       "      <td>81.0</td>\n",
       "    </tr>\n",
       "    <tr>\n",
       "      <th>2</th>\n",
       "      <td>117.5</td>\n",
       "      <td>91.5</td>\n",
       "    </tr>\n",
       "    <tr>\n",
       "      <th>3</th>\n",
       "      <td>125.0</td>\n",
       "      <td>94.0</td>\n",
       "    </tr>\n",
       "    <tr>\n",
       "      <th>4</th>\n",
       "      <td>125.0</td>\n",
       "      <td>87.5</td>\n",
       "    </tr>\n",
       "    <tr>\n",
       "      <th>5</th>\n",
       "      <td>129.0</td>\n",
       "      <td>90.5</td>\n",
       "    </tr>\n",
       "    <tr>\n",
       "      <th>6</th>\n",
       "      <td>123.0</td>\n",
       "      <td>90.0</td>\n",
       "    </tr>\n",
       "    <tr>\n",
       "      <th>7</th>\n",
       "      <td>118.5</td>\n",
       "      <td>85.5</td>\n",
       "    </tr>\n",
       "    <tr>\n",
       "      <th>8</th>\n",
       "      <td>123.5</td>\n",
       "      <td>87.5</td>\n",
       "    </tr>\n",
       "    <tr>\n",
       "      <th>9</th>\n",
       "      <td>127.0</td>\n",
       "      <td>89.0</td>\n",
       "    </tr>\n",
       "  </tbody>\n",
       "</table>\n",
       "</div>"
      ],
      "text/plain": [
       "     sbp   dbp\n",
       "0  121.0  87.5\n",
       "1  109.0  81.0\n",
       "2  117.5  91.5\n",
       "3  125.0  94.0\n",
       "4  125.0  87.5\n",
       "5  129.0  90.5\n",
       "6  123.0  90.0\n",
       "7  118.5  85.5\n",
       "8  123.5  87.5\n",
       "9  127.0  89.0"
      ]
     },
     "execution_count": 185,
     "metadata": {},
     "output_type": "execute_result"
    }
   ],
   "source": [
    "hyp_df = pd.DataFrame({\n",
    "    'sbp':[121, 109, 117.5, 125, 125, 129, 123, 118.5, 123.5, 127],\n",
    "    'dbp':[87.5, 81, 91.5, 94, 87.5, 90.5, 90, 85.5, 87.5, 89]\n",
    "})\n",
    "hyp_df"
   ]
  },
  {
   "cell_type": "markdown",
   "metadata": {},
   "source": [
    "#### 6.97"
   ]
  },
  {
   "cell_type": "code",
   "execution_count": 186,
   "metadata": {
    "scrolled": true
   },
   "outputs": [
    {
     "data": {
      "text/plain": [
       "(121.85, array([117.73695699, 125.96304301]))"
      ]
     },
     "execution_count": 186,
     "metadata": {},
     "output_type": "execute_result"
    }
   ],
   "source": [
    "calc_mean_ci(hyp_df.sbp)"
   ]
  },
  {
   "cell_type": "markdown",
   "metadata": {},
   "source": [
    "#### 6.98"
   ]
  },
  {
   "cell_type": "markdown",
   "metadata": {},
   "source": [
    "True mean is below 140"
   ]
  },
  {
   "cell_type": "markdown",
   "metadata": {},
   "source": [
    "#### 6.99"
   ]
  },
  {
   "cell_type": "code",
   "execution_count": 187,
   "metadata": {},
   "outputs": [
    {
     "data": {
      "text/plain": [
       "0    False\n",
       "1    False\n",
       "2     True\n",
       "3     True\n",
       "4    False\n",
       "5     True\n",
       "6     True\n",
       "7    False\n",
       "8    False\n",
       "9    False\n",
       "dtype: bool"
      ]
     },
     "execution_count": 187,
     "metadata": {},
     "output_type": "execute_result"
    }
   ],
   "source": [
    "hyper_stat = (hyp_df.sbp >=140) | (hyp_df.dbp >= 90)\n",
    "hyper_stat"
   ]
  },
  {
   "cell_type": "code",
   "execution_count": 188,
   "metadata": {},
   "outputs": [],
   "source": [
    "p_hyper = hyper_stat.sum()/hyp_df.shape[0]"
   ]
  },
  {
   "cell_type": "markdown",
   "metadata": {},
   "source": [
    "#### 6.100"
   ]
  },
  {
   "cell_type": "code",
   "execution_count": 189,
   "metadata": {},
   "outputs": [
    {
     "name": "stdout",
     "output_type": "stream",
     "text": [
      "Normal approximation should not be used\n",
      "2.4\n"
     ]
    },
    {
     "data": {
      "text/plain": [
       "(0.4, array([0.09636369, 0.70363631]))"
      ]
     },
     "execution_count": 189,
     "metadata": {},
     "output_type": "execute_result"
    }
   ],
   "source": [
    "binomial_ci_napp(hyp_df.shape[0], hyper_stat.sum())"
   ]
  },
  {
   "cell_type": "markdown",
   "metadata": {},
   "source": [
    "#### 6.101"
   ]
  },
  {
   "cell_type": "markdown",
   "metadata": {},
   "source": [
    "Yes"
   ]
  },
  {
   "cell_type": "markdown",
   "metadata": {},
   "source": [
    "## Sports medicine"
   ]
  },
  {
   "cell_type": "markdown",
   "metadata": {},
   "source": [
    "#### 6.103"
   ]
  },
  {
   "cell_type": "markdown",
   "metadata": {},
   "source": [
    "#### 6.104"
   ]
  },
  {
   "cell_type": "code",
   "execution_count": 190,
   "metadata": {},
   "outputs": [
    {
     "ename": "SyntaxError",
     "evalue": "invalid syntax (<ipython-input-190-915d3a4631ce>, line 1)",
     "output_type": "error",
     "traceback": [
      "\u001b[1;36m  File \u001b[1;32m\"<ipython-input-190-915d3a4631ce>\"\u001b[1;36m, line \u001b[1;32m1\u001b[0m\n\u001b[1;33m    p_true =\u001b[0m\n\u001b[1;37m             ^\u001b[0m\n\u001b[1;31mSyntaxError\u001b[0m\u001b[1;31m:\u001b[0m invalid syntax\n"
     ]
    }
   ],
   "source": [
    "p_true = "
   ]
  },
  {
   "cell_type": "markdown",
   "metadata": {},
   "source": [
    "## Hypertension"
   ]
  },
  {
   "cell_type": "markdown",
   "metadata": {},
   "source": [
    "#### 6.104"
   ]
  },
  {
   "cell_type": "code",
   "execution_count": null,
   "metadata": {},
   "outputs": [],
   "source": [
    "dbp = [89, 88, 81, 84, 82, 89.5]"
   ]
  },
  {
   "cell_type": "code",
   "execution_count": null,
   "metadata": {},
   "outputs": [],
   "source": [
    "calc_mean_ci(pd.Series(dbp))"
   ]
  },
  {
   "cell_type": "markdown",
   "metadata": {},
   "source": [
    "The true dbp is less then 90 "
   ]
  },
  {
   "cell_type": "markdown",
   "metadata": {},
   "source": [
    "#### 6.105"
   ]
  },
  {
   "cell_type": "code",
   "execution_count": null,
   "metadata": {},
   "outputs": [],
   "source": [
    "true_mean = np.mean(dbp)\n",
    "true_sd = np.std(dbp, ddof=1)\n",
    "true_mean, true_sd"
   ]
  },
  {
   "cell_type": "code",
   "execution_count": null,
   "metadata": {
    "scrolled": true
   },
   "outputs": [],
   "source": [
    "1-norm.cdf(90, true_mean, true_sd)"
   ]
  },
  {
   "cell_type": "markdown",
   "metadata": {},
   "source": [
    "#### 6.106"
   ]
  },
  {
   "cell_type": "code",
   "execution_count": null,
   "metadata": {},
   "outputs": [],
   "source": [
    "m = 50\n",
    "s = 10\n",
    "n = 13"
   ]
  },
  {
   "cell_type": "code",
   "execution_count": null,
   "metadata": {},
   "outputs": [],
   "source": [
    "def perc_of_mean(m, s, n=13, d=1):\n",
    "    se = s/np.sqrt(n)\n",
    "    return norm.cdf(m+d, m, se)-norm.cdf(m-d, m, se)"
   ]
  },
  {
   "cell_type": "code",
   "execution_count": null,
   "metadata": {
    "scrolled": true
   },
   "outputs": [],
   "source": [
    "perc_of_mean(m, s, 13, 1)"
   ]
  },
  {
   "cell_type": "markdown",
   "metadata": {},
   "source": [
    "#### 6.107"
   ]
  },
  {
   "cell_type": "code",
   "execution_count": null,
   "metadata": {},
   "outputs": [],
   "source": [
    "while perc_of_mean(m, s, n, 1) < .99:\n",
    "    n += 1\n",
    "n"
   ]
  },
  {
   "cell_type": "markdown",
   "metadata": {},
   "source": [
    "## Radiology, Cancer"
   ]
  },
  {
   "cell_type": "markdown",
   "metadata": {},
   "source": [
    "#### 6.108"
   ]
  },
  {
   "cell_type": "code",
   "execution_count": null,
   "metadata": {},
   "outputs": [],
   "source": [
    "fp = 0\n",
    "tp = 46\n",
    "fn = 1\n",
    "tn = 17"
   ]
  },
  {
   "cell_type": "code",
   "execution_count": null,
   "metadata": {},
   "outputs": [],
   "source": [
    "sens = tp/(tp+fn)\n",
    "sens"
   ]
  },
  {
   "cell_type": "markdown",
   "metadata": {},
   "source": [
    "#### 6.109"
   ]
  },
  {
   "cell_type": "code",
   "execution_count": null,
   "metadata": {},
   "outputs": [],
   "source": []
  },
  {
   "cell_type": "markdown",
   "metadata": {},
   "source": [
    "## Genetics"
   ]
  },
  {
   "cell_type": "markdown",
   "metadata": {},
   "source": [
    "#### 6.110"
   ]
  },
  {
   "cell_type": "markdown",
   "metadata": {},
   "source": [
    "p**2"
   ]
  },
  {
   "cell_type": "markdown",
   "metadata": {},
   "source": [
    "#### 6.111"
   ]
  },
  {
   "cell_type": "code",
   "execution_count": null,
   "metadata": {},
   "outputs": [],
   "source": [
    "n = 10_000\n",
    "k = 11"
   ]
  },
  {
   "cell_type": "code",
   "execution_count": null,
   "metadata": {},
   "outputs": [],
   "source": [
    "p, p_ci = binomial_ci_napp(n,k)\n",
    "p, p_ci"
   ]
  },
  {
   "cell_type": "markdown",
   "metadata": {},
   "source": [
    "#### 6.112"
   ]
  },
  {
   "cell_type": "code",
   "execution_count": null,
   "metadata": {
    "scrolled": true
   },
   "outputs": [],
   "source": [
    "np.sqrt(p), np.sqrt(p_ci)"
   ]
  },
  {
   "cell_type": "markdown",
   "metadata": {},
   "source": [
    "#### 6.113"
   ]
  },
  {
   "cell_type": "code",
   "execution_count": null,
   "metadata": {},
   "outputs": [],
   "source": [
    "n = 10_000\n",
    "k = 10\n",
    "p, p_ci = binomial_ci_napp(n,k)\n",
    "p, p_ci"
   ]
  },
  {
   "cell_type": "markdown",
   "metadata": {},
   "source": [
    "#### 6.114"
   ]
  },
  {
   "cell_type": "markdown",
   "metadata": {},
   "source": [
    "No"
   ]
  },
  {
   "cell_type": "markdown",
   "metadata": {},
   "source": [
    "#### 6.115"
   ]
  },
  {
   "cell_type": "markdown",
   "metadata": {},
   "source": [
    "(iv) because largest n"
   ]
  },
  {
   "cell_type": "markdown",
   "metadata": {},
   "source": [
    "#### 6.116"
   ]
  },
  {
   "cell_type": "code",
   "execution_count": 194,
   "metadata": {},
   "outputs": [
    {
     "data": {
      "text/plain": [
       "array([ 57.83098493, 122.36258371])"
      ]
     },
     "execution_count": 194,
     "metadata": {},
     "output_type": "execute_result"
    }
   ],
   "source": [
    "n_cancer = 30\n",
    "k_peryears = 35_000\n",
    "lam, lam_ci = calc_possion_ci(30)\n",
    "lam_ci/k_peryears*10**5"
   ]
  }
 ],
 "metadata": {
  "kernelspec": {
   "display_name": "bayes",
   "language": "python",
   "name": "bayes"
  },
  "language_info": {
   "codemirror_mode": {
    "name": "ipython",
    "version": 3
   },
   "file_extension": ".py",
   "mimetype": "text/x-python",
   "name": "python",
   "nbconvert_exporter": "python",
   "pygments_lexer": "ipython3",
   "version": "3.8.5"
  }
 },
 "nbformat": 4,
 "nbformat_minor": 4
}
